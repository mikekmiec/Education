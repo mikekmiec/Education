{
 "cells": [
  {
   "cell_type": "markdown",
   "metadata": {
    "colab_type": "text",
    "deletable": true,
    "editable": true,
    "id": "sP0lkd-l6ZqH"
   },
   "source": [
    "# Jupyter Notebook\n",
    "\n",
    "This is a Jupyter Notebook, which is a basically just a super fancy Python shell.\n",
    "\n",
    "You may have \"cells\" that can either be text (like this one) or executable Python code. Notebooks are really nice because they allow you to rapidly develop Python code by writing small bits of code, testing their output, and moving on to the next bit; this interactive nature of the notebook is a huge plus to professional Python developers. \n",
    "\n",
    "It's also nice, because it's really easy to share your code with others and surround it with text to tell a story! \n",
    "\n",
    "# Colaboratory\n",
    "Colaboratory is a service provided by Google to take a Jupyter Notebook (a standard formay of a `.ipynb` file) and let users edit/run the code in the notebook for free! \n",
    "\n",
    "This notebook is write-protected so you are not able to edit the  notebook that the whole class will look at, but you are able to open up the notebook in \"playground mode\" which lets you make edits to a temporary copy of the notebook. If you want to save the changes you made to this notebook, you will have to follow the instructions when you try to save to copy the notebook to your Google Drive. \n",
    "\n"
   ]
  },
  {
   "cell_type": "code",
   "execution_count": 1,
   "metadata": {
    "colab": {
     "base_uri": "https://localhost:8080/",
     "height": 34
    },
    "colab_type": "code",
    "collapsed": false,
    "deletable": true,
    "editable": true,
    "id": "qcXKE6t5x-GY",
    "outputId": "d4a12cbf-c4fa-4238-9ad1-1ebaba14e03f"
   },
   "outputs": [
    {
     "name": "stdout",
     "output_type": "stream",
     "text": [
      "Hello world\n"
     ]
    }
   ],
   "source": [
    "print('Hello world')"
   ]
  },
  {
   "cell_type": "code",
   "execution_count": 2,
   "metadata": {
    "colab": {},
    "colab_type": "code",
    "collapsed": true,
    "deletable": true,
    "editable": true,
    "id": "tZKLNESVI-zN"
   },
   "outputs": [],
   "source": [
    "x = 1\n",
    "y = 2"
   ]
  },
  {
   "cell_type": "markdown",
   "metadata": {
    "colab_type": "text",
    "deletable": true,
    "editable": true,
    "id": "JiGLS1JieLkn"
   },
   "source": [
    "We talked about how you have to be careful with the order that you run cells since they all share the same state. The next cell with the print call can either print 1 or 7 (depending on if you run the cell above or below first) or throw an error if you ran the print cell before running any of the cells that assign x. This \"hidden state\" in Jupyter Notebooks can be a bit annoying at first."
   ]
  },
  {
   "cell_type": "code",
   "execution_count": 0,
   "metadata": {
    "colab": {
     "base_uri": "https://localhost:8080/",
     "height": 34
    },
    "colab_type": "code",
    "collapsed": false,
    "deletable": true,
    "editable": true,
    "id": "g4Jh7WHKJDc9",
    "outputId": "6754a609-f432-4cc2-b748-74e80ddc4669"
   },
   "outputs": [
    {
     "name": "stdout",
     "output_type": "stream",
     "text": [
      "5\n"
     ]
    }
   ],
   "source": [
    "print(x)"
   ]
  },
  {
   "cell_type": "code",
   "execution_count": 0,
   "metadata": {
    "colab": {},
    "colab_type": "code",
    "collapsed": true,
    "deletable": true,
    "editable": true,
    "id": "wutMgBQXeJ-K"
   },
   "outputs": [],
   "source": [
    "x = 7"
   ]
  },
  {
   "cell_type": "code",
   "execution_count": 0,
   "metadata": {
    "colab": {
     "base_uri": "https://localhost:8080/",
     "height": 34
    },
    "colab_type": "code",
    "collapsed": false,
    "deletable": true,
    "editable": true,
    "id": "IN0_aC8uLii6",
    "outputId": "4b1efe7d-e2ef-4557-a1e6-d9c4cba8ca8f"
   },
   "outputs": [
    {
     "data": {
      "text/plain": [
       "int"
      ]
     },
     "execution_count": 5,
     "metadata": {
      "tags": []
     },
     "output_type": "execute_result"
    }
   ],
   "source": [
    "# Tells you the type of a value\n",
    "type(x)"
   ]
  },
  {
   "cell_type": "markdown",
   "metadata": {
    "colab_type": "text",
    "deletable": true,
    "editable": true,
    "id": "vT4j0F7ZeibD"
   },
   "source": [
    "# For loops\n",
    "You use the `range` function to specify different ranges for your for loop variable"
   ]
  },
  {
   "cell_type": "code",
   "execution_count": 3,
   "metadata": {
    "colab": {
     "base_uri": "https://localhost:8080/",
     "height": 187
    },
    "colab_type": "code",
    "collapsed": false,
    "deletable": true,
    "editable": true,
    "id": "9UbHMYCbNoaI",
    "outputId": "60bede4b-3cf8-4eec-adbf-9a747e0cfba7"
   },
   "outputs": [
    {
     "name": "stdout",
     "output_type": "stream",
     "text": [
      "0\n",
      "1\n",
      "2\n",
      "3\n",
      "4\n",
      "5\n",
      "6\n",
      "7\n",
      "8\n",
      "9\n"
     ]
    }
   ],
   "source": [
    "# this is a comment in Python\n",
    "\n",
    "# basic for loop\n",
    "for i in range(10):\n",
    "  print(i)"
   ]
  },
  {
   "cell_type": "code",
   "execution_count": 4,
   "metadata": {
    "colab": {
     "base_uri": "https://localhost:8080/",
     "height": 221
    },
    "colab_type": "code",
    "collapsed": false,
    "deletable": true,
    "editable": true,
    "id": "r9r7DTm2e2XB",
    "outputId": "cf03f735-7a81-4922-a0dd-cc45cdec6b50"
   },
   "outputs": [
    {
     "name": "stdout",
     "output_type": "stream",
     "text": [
      "First loop\n",
      "0\n",
      "1\n",
      "Second loo\n",
      "1\n",
      "3\n",
      "5\n",
      "Third loop\n",
      "8\n",
      "6\n",
      "4\n",
      "2\n"
     ]
    }
   ],
   "source": [
    "# can get more complex by adding in start/stop/step\n",
    "print('First loop')\n",
    "for i in range(0, 2):\n",
    "  print(i)\n",
    "  \n",
    "print('Second loo')\n",
    "for i in range(1, 7, 2):\n",
    "  print(i)\n",
    "# Note that 7 is not printed\n",
    "\n",
    "print('Third loop')\n",
    "stop = 1\n",
    "for i in range(8, stop, -2):\n",
    "  print(i)\n",
    "  \n"
   ]
  },
  {
   "cell_type": "markdown",
   "metadata": {
    "colab_type": "text",
    "deletable": true,
    "editable": true,
    "id": "wx7hGt4pSb0_"
   },
   "source": [
    "# Defining Functions\n",
    "You can use the `def` keyword to define your own functions like in the cell below. \n",
    "\n",
    "**Q:** What do you think Python will print if we execute this cell?\n"
   ]
  },
  {
   "cell_type": "code",
   "execution_count": 6,
   "metadata": {
    "colab": {},
    "colab_type": "code",
    "collapsed": true,
    "deletable": true,
    "editable": true,
    "id": "IrS9z3Jq29Zs"
   },
   "outputs": [],
   "source": [
    "def greeting(): \n",
    "  print('hello')"
   ]
  },
  {
   "cell_type": "markdown",
   "metadata": {
    "colab_type": "text",
    "deletable": true,
    "editable": true,
    "id": "SuEQRYtGfRVm"
   },
   "source": [
    "The answer was nothing because we never called the function (just defined it). To call the function, you have to write code like the cell below"
   ]
  },
  {
   "cell_type": "code",
   "execution_count": 0,
   "metadata": {
    "colab": {
     "base_uri": "https://localhost:8080/",
     "height": 34
    },
    "colab_type": "code",
    "collapsed": false,
    "deletable": true,
    "editable": true,
    "id": "WrA8YbeaQNrF",
    "outputId": "9869ef9c-5790-45ff-b401-05580741dbcb"
   },
   "outputs": [
    {
     "name": "stdout",
     "output_type": "stream",
     "text": [
      "hello\n"
     ]
    }
   ],
   "source": [
    "greeting()"
   ]
  },
  {
   "cell_type": "markdown",
   "metadata": {
    "colab_type": "text",
    "deletable": true,
    "editable": true,
    "id": "Pe90E9vafXyI"
   },
   "source": [
    "## Parameters + Returns\n",
    "You can define a function that takes parameters (arguments) and can return values. Below, we define a function that takes 2 parameters and does some computation with them to compute a value to return\n"
   ]
  },
  {
   "cell_type": "code",
   "execution_count": 7,
   "metadata": {
    "colab": {},
    "colab_type": "code",
    "collapsed": true,
    "deletable": true,
    "editable": true,
    "id": "eLcVBBYoQRCW"
   },
   "outputs": [],
   "source": [
    "def mean(a, b):\n",
    "  print('Calling mean', a, b)\n",
    "  return (a + b) / 2"
   ]
  },
  {
   "cell_type": "markdown",
   "metadata": {
    "colab_type": "text",
    "deletable": true,
    "editable": true,
    "id": "yoP6XiBuftr6"
   },
   "source": [
    "Because they take 2 parameters, we are unable to call the function like\n",
    "```python\n",
    "mean()\n",
    "```\n",
    "\n",
    "It gets mad that we did not give it parameters, instead we have to write:"
   ]
  },
  {
   "cell_type": "code",
   "execution_count": 8,
   "metadata": {
    "colab": {},
    "colab_type": "code",
    "collapsed": false,
    "deletable": true,
    "editable": true,
    "id": "3qpG39NYf08-"
   },
   "outputs": [
    {
     "name": "stdout",
     "output_type": "stream",
     "text": [
      "('Calling mean', 1, 5)\n"
     ]
    },
    {
     "data": {
      "text/plain": [
       "3"
      ]
     },
     "execution_count": 8,
     "metadata": {},
     "output_type": "execute_result"
    }
   ],
   "source": [
    "mean(1, 5)"
   ]
  },
  {
   "cell_type": "markdown",
   "metadata": {
    "colab_type": "text",
    "deletable": true,
    "editable": true,
    "id": "EGBRUn65f2Dz"
   },
   "source": [
    "Because Python does not have you define types, you are technically allowed to pass any values as parameters, but they won't always work! For example\n",
    "\n",
    "```python\n",
    "mean(1.7, 'hello')\n",
    "\n",
    "Calling mean 1.7 hello\n",
    "---------------------------------------------------------------------------\n",
    "TypeError                                 Traceback (most recent call last)\n",
    "<ipython-input-9-e81cbf327f7c> in <module>()\n",
    "----> 1 mean(1.7, 'hello')\n",
    "\n",
    "<ipython-input-8-aeee1f6ef16f> in mean(a, b)\n",
    "      1 def mean(a, b):\n",
    "      2   print('Calling mean', a, b)\n",
    "----> 3   return (a + b) / 2\n",
    "\n",
    "TypeError: unsupported operand type(s) for +: 'float' and 'str'```\n"
   ]
  },
  {
   "cell_type": "markdown",
   "metadata": {
    "colab_type": "text",
    "deletable": true,
    "editable": true,
    "id": "9C4ngJweVHGQ"
   },
   "source": [
    "# Strings"
   ]
  },
  {
   "cell_type": "markdown",
   "metadata": {
    "colab_type": "text",
    "deletable": true,
    "editable": true,
    "id": "oQ92F9aOgHpe"
   },
   "source": [
    "Strings define a series of characters. You can createa string like below"
   ]
  },
  {
   "cell_type": "code",
   "execution_count": 11,
   "metadata": {
    "colab": {},
    "colab_type": "code",
    "collapsed": true,
    "deletable": true,
    "editable": true,
    "id": "_5_CvUVMVl2y"
   },
   "outputs": [],
   "source": [
    "s = 'abc'"
   ]
  },
  {
   "cell_type": "markdown",
   "metadata": {
    "colab_type": "text",
    "deletable": true,
    "editable": true,
    "id": "V7pj2N_TgRC8"
   },
   "source": [
    "You can also concatenate strings to combine them into bigger strings"
   ]
  },
  {
   "cell_type": "code",
   "execution_count": 12,
   "metadata": {
    "colab": {
     "base_uri": "https://localhost:8080/",
     "height": 34
    },
    "colab_type": "code",
    "collapsed": false,
    "deletable": true,
    "editable": true,
    "id": "ZW2XlseqgnAz",
    "outputId": "7867716c-8769-4163-ca2d-179d995b3e95"
   },
   "outputs": [
    {
     "name": "stdout",
     "output_type": "stream",
     "text": [
      "abcdef\n"
     ]
    }
   ],
   "source": [
    "print(s + 'def')"
   ]
  },
  {
   "cell_type": "markdown",
   "metadata": {
    "colab_type": "text",
    "deletable": true,
    "editable": true,
    "id": "hhNgN-NigUyw"
   },
   "source": [
    "Python does not support mixing types for String concatenation, for example if you were to run\n",
    "\n",
    "```python\n",
    "print(s + 1)\n",
    "\n",
    "---------------------------------------------------------------------------\n",
    "TypeError                                 Traceback (most recent call last)\n",
    "<ipython-input-12-b44e74e50cfe> in <module>()\n",
    "----> 1 print(s + 1)\n",
    "\n",
    "TypeError: must be str, not int\n",
    "```\n",
    "\n",
    "Instead, you need to convert the int to a string using casting"
   ]
  },
  {
   "cell_type": "code",
   "execution_count": 13,
   "metadata": {
    "colab": {
     "base_uri": "https://localhost:8080/",
     "height": 34
    },
    "colab_type": "code",
    "collapsed": false,
    "deletable": true,
    "editable": true,
    "id": "wR68Maajgm1G",
    "outputId": "74d9a086-1ddb-4100-9de4-3baa1fb994bc"
   },
   "outputs": [
    {
     "name": "stdout",
     "output_type": "stream",
     "text": [
      "abc1\n"
     ]
    }
   ],
   "source": [
    "print(s + str(1))"
   ]
  },
  {
   "cell_type": "markdown",
   "metadata": {
    "colab_type": "text",
    "deletable": true,
    "editable": true,
    "id": "JTkl79GkglfP"
   },
   "source": [
    "Just for fun: Python lets you multiply a string with a number though!"
   ]
  },
  {
   "cell_type": "code",
   "execution_count": 14,
   "metadata": {
    "colab": {
     "base_uri": "https://localhost:8080/",
     "height": 34
    },
    "colab_type": "code",
    "collapsed": false,
    "deletable": true,
    "editable": true,
    "id": "7lqwIO5QRnKy",
    "outputId": "871afe5e-f469-4342-c399-611ab0279cfc"
   },
   "outputs": [
    {
     "name": "stdout",
     "output_type": "stream",
     "text": [
      "abcabcabc\n"
     ]
    }
   ],
   "source": [
    "print(s * 3)"
   ]
  },
  {
   "cell_type": "markdown",
   "metadata": {
    "colab_type": "text",
    "deletable": true,
    "editable": true,
    "id": "QObmxiLigoom"
   },
   "source": [
    "## Indexing\n",
    "\n",
    "You can access the characters in the sequence by using the `[` and  `]` bracket notation"
   ]
  },
  {
   "cell_type": "code",
   "execution_count": 15,
   "metadata": {
    "colab": {
     "base_uri": "https://localhost:8080/",
     "height": 51
    },
    "colab_type": "code",
    "collapsed": false,
    "deletable": true,
    "editable": true,
    "id": "rZmEkvj1RVdk",
    "outputId": "5b6af6bf-1a1f-48d1-c2a7-c4675858bd0d"
   },
   "outputs": [
    {
     "name": "stdout",
     "output_type": "stream",
     "text": [
      "a\n",
      "c\n"
     ]
    }
   ],
   "source": [
    "print(s[0])\n",
    "\n",
    "print(s[2])\n",
    "\n",
    "# Out of bounds\n",
    "# print(s[3])"
   ]
  },
  {
   "cell_type": "markdown",
   "metadata": {
    "colab_type": "text",
    "deletable": true,
    "editable": true,
    "id": "8MMEoTdahTOA"
   },
   "source": [
    "To find the length of a string (or almost every collection of values we will learn about in this class), you use the `len` function like so"
   ]
  },
  {
   "cell_type": "code",
   "execution_count": 16,
   "metadata": {
    "colab": {
     "base_uri": "https://localhost:8080/",
     "height": 34
    },
    "colab_type": "code",
    "collapsed": false,
    "deletable": true,
    "editable": true,
    "id": "tj88awz0RVNy",
    "outputId": "b2c187d3-fa72-45fd-c45f-6a72be88d74c"
   },
   "outputs": [
    {
     "data": {
      "text/plain": [
       "3"
      ]
     },
     "execution_count": 16,
     "metadata": {},
     "output_type": "execute_result"
    }
   ],
   "source": [
    "len(s)"
   ]
  },
  {
   "cell_type": "markdown",
   "metadata": {
    "colab_type": "text",
    "deletable": true,
    "editable": true,
    "id": "Qrqoyx1chatK"
   },
   "source": [
    "This can be helpful to get the last character of the string like the next cell, or if you want to loop over all characters like in the following cells"
   ]
  },
  {
   "cell_type": "code",
   "execution_count": 17,
   "metadata": {
    "colab": {
     "base_uri": "https://localhost:8080/",
     "height": 34
    },
    "colab_type": "code",
    "collapsed": false,
    "deletable": true,
    "editable": true,
    "id": "fD5096ofRxH7",
    "outputId": "91fbe0ba-4d3d-4248-98c8-ba9348512af2"
   },
   "outputs": [
    {
     "data": {
      "text/plain": [
       "'c'"
      ]
     },
     "execution_count": 17,
     "metadata": {},
     "output_type": "execute_result"
    }
   ],
   "source": [
    "s[len(s) - 1]"
   ]
  },
  {
   "cell_type": "code",
   "execution_count": 18,
   "metadata": {
    "colab": {
     "base_uri": "https://localhost:8080/",
     "height": 68
    },
    "colab_type": "code",
    "collapsed": false,
    "deletable": true,
    "editable": true,
    "id": "3rH05iPdRxEN",
    "outputId": "7f155c30-1465-42db-d9f8-08a29443a088"
   },
   "outputs": [
    {
     "name": "stdout",
     "output_type": "stream",
     "text": [
      "(0, 'a')\n",
      "(1, 'b')\n",
      "(2, 'c')\n"
     ]
    }
   ],
   "source": [
    "for i in range(len(s)):\n",
    "  print(i, s[i])"
   ]
  },
  {
   "cell_type": "markdown",
   "metadata": {
    "colab_type": "text",
    "deletable": true,
    "editable": true,
    "id": "6qHJxd3uhgvp"
   },
   "source": [
    "Remember that a for loop works on any of sequence of values. I've only showed you how to loop over the sequence generated by `range`, but remember that `str` is also a sequence! This means you can loop over the values in a string which will give you each character in the string."
   ]
  },
  {
   "cell_type": "code",
   "execution_count": 19,
   "metadata": {
    "colab": {
     "base_uri": "https://localhost:8080/",
     "height": 68
    },
    "colab_type": "code",
    "collapsed": false,
    "deletable": true,
    "editable": true,
    "id": "gaRaO67TRw7n",
    "outputId": "98a5fb0d-97cb-4728-99d1-bcd7e91414a7"
   },
   "outputs": [
    {
     "name": "stdout",
     "output_type": "stream",
     "text": [
      "a\n",
      "b\n",
      "c\n"
     ]
    }
   ],
   "source": [
    "for c in s:\n",
    "  print(c)"
   ]
  },
  {
   "cell_type": "code",
   "execution_count": null,
   "metadata": {
    "collapsed": true
   },
   "outputs": [],
   "source": []
  }
 ],
 "metadata": {
  "colab": {
   "collapsed_sections": [],
   "name": "Lec2.ipynb",
   "provenance": [],
   "version": "0.3.2"
  },
  "kernelspec": {
   "display_name": "Python 2",
   "language": "python",
   "name": "python2"
  },
  "language_info": {
   "codemirror_mode": {
    "name": "ipython",
    "version": 2
   },
   "file_extension": ".py",
   "mimetype": "text/x-python",
   "name": "python",
   "nbconvert_exporter": "python",
   "pygments_lexer": "ipython2",
   "version": "2.7.13"
  }
 },
 "nbformat": 4,
 "nbformat_minor": 0
}
