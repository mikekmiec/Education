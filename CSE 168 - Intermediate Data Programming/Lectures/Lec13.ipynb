{
 "cells": [
  {
   "cell_type": "markdown",
   "metadata": {
    "colab_type": "text",
    "id": "sP0lkd-l6ZqH"
   },
   "source": [
    "# Work In Progress (WIP)\n",
    "This document serves as a live set of lecture notes Hunter will use during the lecture. This means they are not fully complete until after lecture when Hunter can go back and fill out any detail to make the notes clear. While this \"WIP\" section is here, this document has not been completed. \n",
    "\n",
    "# Jupyter Notebook\n",
    "\n",
    "This is a Jupyter Notebook, which is a basically just a super fancy Python shell.\n",
    "\n",
    "You may have \"cells\" that can either be text (like this one) or executable Python code. Notebooks are really nice because they allow you to rapidly develop Python code by writing small bits of code, testing their output, and moving on to the next bit; this interactive nature of the notebook is a huge plus to professional Python developers. \n",
    "\n",
    "It's also nice, because it's really easy to share your code with others and surround it with text to tell a story! \n",
    "\n",
    "# Colaboratory\n",
    "Colaboratory is a service provided by Google to take a Jupyter Notebook (a standard formay of a `.ipynb` file) and let users edit/run the code in the notebook for free! \n",
    "\n",
    "This notebook is write-protected so you are not able to edit the  notebook that the whole class will look at, but you are able to open up the notebook in \"playground mode\" which lets you make edits to a temporary copy of the notebook. If you want to save the changes you made to this notebook, you will have to follow the instructions when you try to save to copy the notebook to your Google Drive. \n",
    "\n",
    "# Setup\n",
    "Make sure you run the following cell(s) before trying to run any the following cells. You do not need to understand what they are doing, it's just a way to make sure there is a file we want to use stored on the computer running this notebook.\n"
   ]
  },
  {
   "cell_type": "code",
   "execution_count": 15,
   "metadata": {
    "colab": {},
    "colab_type": "code",
    "id": "xIXl9KBOxVKE"
   },
   "outputs": [],
   "source": [
    "import requests\n",
    "\n",
    "def save_file(url, file_name):\n",
    "  r = requests.get(url)\n",
    "  with open(file_name, 'wb') as f:\n",
    "    f.write(r.content)\n",
    "\n",
    "save_file('https://courses.cs.washington.edu/courses/cse163/19sp/' +\n",
    "          'files/lectures/04-08/bee-movie.txt', 'bee-movie.txt')\n",
    "save_file('https://courses.cs.washington.edu/courses/cse163/19sp/' +\n",
    "          'files/lectures/04-08/mobydick.txt', 'mobydick.txt')"
   ]
  },
  {
   "cell_type": "markdown",
   "metadata": {
    "colab_type": "text",
    "id": "pcdsB5M9Jqoa"
   },
   "source": [
    "#Sum of Squares\n",
    "\n",
    "Below are two differnet implementations to determine the sum of squares from 1 to n where n is positive and greater than 1. "
   ]
  },
  {
   "cell_type": "code",
   "execution_count": 16,
   "metadata": {
    "colab": {},
    "colab_type": "code",
    "id": "cboKOxg4J0Eb"
   },
   "outputs": [],
   "source": [
    "def sum_of_squares(n):\n",
    "  total = 0\n",
    "  for i in range(1, n + 1): \n",
    "\t  total += i ** 2\n",
    "  return total"
   ]
  },
  {
   "cell_type": "code",
   "execution_count": 17,
   "metadata": {
    "colab": {},
    "colab_type": "code",
    "id": "f5GnTbkOJ9hJ"
   },
   "outputs": [],
   "source": [
    "def sum_of_squares2(n): \n",
    "  return (n * (n + 1) * (2*n + 1))  // 6\n"
   ]
  },
  {
   "cell_type": "markdown",
   "metadata": {
    "colab_type": "text",
    "id": "8nofXzhbJln1"
   },
   "source": [
    "#Timing Sum of Sqaures\n",
    "\n",
    "One way to examine efficiency is determining how long a call takes to run. "
   ]
  },
  {
   "cell_type": "code",
   "execution_count": 18,
   "metadata": {
    "colab": {
     "base_uri": "https://localhost:8080/",
     "height": 223
    },
    "colab_type": "code",
    "id": "gi6klT_UOGxv",
    "outputId": "0c7db5d7-ebce-473d-e169-bc77efa16ae9"
   },
   "outputs": [
    {
     "name": "stdout",
     "output_type": "stream",
     "text": [
      "385\n",
      "CPU times: user 555 µs, sys: 1.17 ms, total: 1.72 ms\n",
      "Wall time: 2.84 ms\n"
     ]
    }
   ],
   "source": [
    "%%time\n",
    "print(sum_of_squares(10))"
   ]
  },
  {
   "cell_type": "code",
   "execution_count": 19,
   "metadata": {
    "colab": {
     "base_uri": "https://localhost:8080/",
     "height": 223
    },
    "colab_type": "code",
    "id": "Hl-wChSUOMw3",
    "outputId": "4d030bc4-5dcf-4e3f-f7ba-5b1bb2fe0831"
   },
   "outputs": [
    {
     "name": "stdout",
     "output_type": "stream",
     "text": [
      "385\n",
      "CPU times: user 171 µs, sys: 65 µs, total: 236 µs\n",
      "Wall time: 247 µs\n"
     ]
    }
   ],
   "source": [
    "%%time \n",
    "print(sum_of_squares2(10))"
   ]
  },
  {
   "cell_type": "code",
   "execution_count": 20,
   "metadata": {
    "colab": {
     "base_uri": "https://localhost:8080/",
     "height": 223
    },
    "colab_type": "code",
    "id": "Ez5Oqe6yN4zl",
    "outputId": "89d084db-fb21-481a-bb5d-52ff4c408d03"
   },
   "outputs": [
    {
     "name": "stdout",
     "output_type": "stream",
     "text": [
      "333833500\n",
      "CPU times: user 663 µs, sys: 91 µs, total: 754 µs\n",
      "Wall time: 1.16 ms\n"
     ]
    }
   ],
   "source": [
    "%%time \n",
    "print(sum_of_squares(1000))"
   ]
  },
  {
   "cell_type": "code",
   "execution_count": 21,
   "metadata": {
    "colab": {
     "base_uri": "https://localhost:8080/",
     "height": 223
    },
    "colab_type": "code",
    "id": "zHy60-oRN4hg",
    "outputId": "5479ffe1-ed78-438b-ee12-34e1ff8b21da"
   },
   "outputs": [
    {
     "name": "stdout",
     "output_type": "stream",
     "text": [
      "333833500\n",
      "CPU times: user 760 µs, sys: 1.08 ms, total: 1.84 ms\n",
      "Wall time: 5.97 ms\n"
     ]
    }
   ],
   "source": [
    "%%time\n",
    "print(sum_of_squares2(1000))"
   ]
  },
  {
   "cell_type": "code",
   "execution_count": 22,
   "metadata": {
    "colab": {
     "base_uri": "https://localhost:8080/",
     "height": 223
    },
    "colab_type": "code",
    "id": "ZoTuWY1fK2ud",
    "outputId": "2bdd4847-e97f-42e5-fdb3-60f9693e2caa"
   },
   "outputs": [
    {
     "name": "stdout",
     "output_type": "stream",
     "text": [
      "333333833333500000\n",
      "CPU times: user 308 ms, sys: 6.64 ms, total: 314 ms\n",
      "Wall time: 333 ms\n"
     ]
    }
   ],
   "source": [
    "\n",
    "%%time\n",
    "print(sum_of_squares(1000000));\n",
    "  "
   ]
  },
  {
   "cell_type": "code",
   "execution_count": 23,
   "metadata": {
    "colab": {
     "base_uri": "https://localhost:8080/",
     "height": 223
    },
    "colab_type": "code",
    "id": "GZp30ArALMBd",
    "outputId": "d362209e-7d54-4631-a8c9-a5cbea3b4220"
   },
   "outputs": [
    {
     "name": "stdout",
     "output_type": "stream",
     "text": [
      "333333833333500000\n",
      "CPU times: user 476 µs, sys: 647 µs, total: 1.12 ms\n",
      "Wall time: 1.2 ms\n"
     ]
    }
   ],
   "source": [
    "%%time\n",
    "print(sum_of_squares2(1000000));"
   ]
  },
  {
   "cell_type": "markdown",
   "metadata": {
    "colab_type": "text",
    "id": "2BI84M-__xd2"
   },
   "source": [
    "# Analyzing Text Documents\n",
    "In lecture 4, we talked about two different methods to count the unique words in a document. The first uses a list"
   ]
  },
  {
   "cell_type": "code",
   "execution_count": 24,
   "metadata": {
    "colab": {},
    "colab_type": "code",
    "id": "2gmqKp28__Yz"
   },
   "outputs": [],
   "source": [
    "def count_unique_list(file_name):\n",
    "  words = list()  # used this syntax to make a new list instead\n",
    "  with open(file_name) as file:\n",
    "    for line in file.readlines():\n",
    "      for word in line.split():\n",
    "        if word not in words:\n",
    "          words.append(word)\n",
    "  return len(words)"
   ]
  },
  {
   "cell_type": "code",
   "execution_count": 25,
   "metadata": {
    "colab": {},
    "colab_type": "code",
    "id": "_2S6KQO3AlYS"
   },
   "outputs": [
    {
     "name": "stdout",
     "output_type": "stream",
     "text": [
      "CPU times: user 218 ms, sys: 2.97 ms, total: 221 ms\n",
      "Wall time: 242 ms\n"
     ]
    },
    {
     "data": {
      "text/plain": [
       "4104"
      ]
     },
     "execution_count": 25,
     "metadata": {},
     "output_type": "execute_result"
    }
   ],
   "source": [
    "%%time\n",
    "count_unique_list(\"bee-movie.txt\")"
   ]
  },
  {
   "cell_type": "code",
   "execution_count": 26,
   "metadata": {
    "colab": {},
    "colab_type": "code",
    "id": "EbTBTWzLAr6D"
   },
   "outputs": [
    {
     "name": "stdout",
     "output_type": "stream",
     "text": [
      "CPU times: user 10.9 s, sys: 51.8 ms, total: 10.9 s\n",
      "Wall time: 11.1 s\n"
     ]
    },
    {
     "data": {
      "text/plain": [
       "32553"
      ]
     },
     "execution_count": 26,
     "metadata": {},
     "output_type": "execute_result"
    }
   ],
   "source": [
    "%%time \n",
    "count_unique_list(\"mobydick.txt\")"
   ]
  },
  {
   "cell_type": "markdown",
   "metadata": {
    "colab_type": "text",
    "id": "zMmoulcUAZoi"
   },
   "source": [
    "The second uses a set. "
   ]
  },
  {
   "cell_type": "code",
   "execution_count": 27,
   "metadata": {
    "colab": {},
    "colab_type": "code",
    "id": "vs_3wDuuALtO"
   },
   "outputs": [],
   "source": [
    "def count_unique_set(file_name):\n",
    "  words = set()\n",
    "  with open(file_name) as file:\n",
    "    for line in file.readlines():\n",
    "      for word in line.split():\n",
    "        if word not in words:\n",
    "          words.add(word)\n",
    "  return len(words)"
   ]
  },
  {
   "cell_type": "code",
   "execution_count": 28,
   "metadata": {
    "colab": {},
    "colab_type": "code",
    "id": "yEVm6cxLA7SC"
   },
   "outputs": [
    {
     "name": "stdout",
     "output_type": "stream",
     "text": [
      "CPU times: user 6.38 ms, sys: 321 µs, total: 6.7 ms\n",
      "Wall time: 7.47 ms\n"
     ]
    },
    {
     "data": {
      "text/plain": [
       "4104"
      ]
     },
     "execution_count": 28,
     "metadata": {},
     "output_type": "execute_result"
    }
   ],
   "source": [
    "%%time \n",
    "count_unique_set(\"bee-movie.txt\")"
   ]
  },
  {
   "cell_type": "code",
   "execution_count": 29,
   "metadata": {
    "colab": {},
    "colab_type": "code",
    "id": "N7MVxL4OA8zK"
   },
   "outputs": [
    {
     "name": "stdout",
     "output_type": "stream",
     "text": [
      "CPU times: user 57.2 ms, sys: 3.74 ms, total: 61 ms\n",
      "Wall time: 69.8 ms\n"
     ]
    },
    {
     "data": {
      "text/plain": [
       "32553"
      ]
     },
     "execution_count": 29,
     "metadata": {},
     "output_type": "execute_result"
    }
   ],
   "source": [
    "%%time \n",
    "count_unique_set(\"mobydick.txt\")"
   ]
  },
  {
   "cell_type": "code",
   "execution_count": 30,
   "metadata": {},
   "outputs": [
    {
     "name": "stderr",
     "output_type": "stream",
     "text": [
      "UsageError: Line magic function `%%time` not found.\n"
     ]
    }
   ],
   "source": [
    "\n",
    "2+2\n"
   ]
  },
  {
   "cell_type": "code",
   "execution_count": null,
   "metadata": {},
   "outputs": [],
   "source": []
  }
 ],
 "metadata": {
  "colab": {
   "collapsed_sections": [],
   "name": "Lecture13.ipynb",
   "provenance": [],
   "version": "0.3.2"
  },
  "kernelspec": {
   "display_name": "Python 3",
   "language": "python",
   "name": "python3"
  },
  "language_info": {
   "codemirror_mode": {
    "name": "ipython",
    "version": 3
   },
   "file_extension": ".py",
   "mimetype": "text/x-python",
   "name": "python",
   "nbconvert_exporter": "python",
   "pygments_lexer": "ipython3",
   "version": "3.7.3"
  }
 },
 "nbformat": 4,
 "nbformat_minor": 1
}
