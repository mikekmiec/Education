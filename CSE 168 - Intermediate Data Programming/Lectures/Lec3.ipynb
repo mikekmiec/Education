{
 "cells": [
  {
   "cell_type": "markdown",
   "metadata": {
    "colab_type": "text",
    "deletable": true,
    "editable": true,
    "id": "sP0lkd-l6ZqH"
   },
   "source": [
    "# Jupyter Notebook\n",
    "\n",
    "This is a Jupyter Notebook, which is a basically just a super fancy Python shell.\n",
    "\n",
    "You may have \"cells\" that can either be text (like this one) or executable Python code. Notebooks are really nice because they allow you to rapidly develop Python code by writing small bits of code, testing their output, and moving on to the next bit; this interactive nature of the notebook is a huge plus to professional Python developers. \n",
    "\n",
    "It's also nice, because it's really easy to share your code with others and surround it with text to tell a story! \n",
    "\n",
    "# Colaboratory\n",
    "Colaboratory is a service provided by Google to take a Jupyter Notebook (a standard formay of a `.ipynb` file) and let users edit/run the code in the notebook for free! \n",
    "\n",
    "This notebook is write-protected so you are not able to edit the  notebook that the whole class will look at, but you are able to open up the notebook in \"playground mode\" which lets you make edits to a temporary copy of the notebook. If you want to save the changes you made to this notebook, you will have to follow the instructions when you try to save to copy the notebook to your Google Drive. \n",
    "\n",
    "# Setup\n",
    "Make sure you run the following cell before trying to run any the following cells. You do not need to understand what they are doing, it's just a way to make sure there is a file we want to use stored on the computer running this notebook.\n"
   ]
  },
  {
   "cell_type": "code",
   "execution_count": 2,
   "metadata": {
    "colab": {},
    "colab_type": "code",
    "collapsed": true,
    "deletable": true,
    "editable": true,
    "id": "xIXl9KBOxVKE"
   },
   "outputs": [],
   "source": [
    "import requests\n",
    "\n",
    "r = requests.get('https://courses.cs.washington.edu/courses/cse163/19sp/files/hw1/poem.txt')\n",
    "with open('poem.txt', 'wb') as f:\n",
    "  f.write(r.content)"
   ]
  },
  {
   "cell_type": "markdown",
   "metadata": {
    "colab_type": "text",
    "deletable": true,
    "editable": true,
    "id": "GyvMzohkKK1M"
   },
   "source": [
    "# Strings"
   ]
  },
  {
   "cell_type": "markdown",
   "metadata": {
    "colab_type": "text",
    "deletable": true,
    "editable": true,
    "id": "FFRY3_o48-9R"
   },
   "source": [
    "We reviewed how to define strings, index into them, and loop over them"
   ]
  },
  {
   "cell_type": "code",
   "execution_count": 3,
   "metadata": {
    "colab": {},
    "colab_type": "code",
    "collapsed": true,
    "deletable": true,
    "editable": true,
    "id": "yp8WJ9pw1ri5"
   },
   "outputs": [],
   "source": [
    "s = 'Hello world! This is CSE 163'"
   ]
  },
  {
   "cell_type": "markdown",
   "metadata": {
    "colab_type": "text",
    "deletable": true,
    "editable": true,
    "id": "TpMupTPc9Eg2"
   },
   "source": [
    "We then saw that there are various functions you can call on strings. Here are some examples."
   ]
  },
  {
   "cell_type": "code",
   "execution_count": 4,
   "metadata": {
    "colab": {
     "base_uri": "https://localhost:8080/",
     "height": 34
    },
    "colab_type": "code",
    "collapsed": false,
    "deletable": true,
    "editable": true,
    "id": "dHUpylGFdOWi",
    "outputId": "5d93dd01-f0d6-4a9d-e5b9-ac6cad244f63"
   },
   "outputs": [
    {
     "data": {
      "text/plain": [
       "'HELLO WORLD! THIS IS CSE 163'"
      ]
     },
     "execution_count": 4,
     "metadata": {},
     "output_type": "execute_result"
    }
   ],
   "source": [
    "s.upper()"
   ]
  },
  {
   "cell_type": "code",
   "execution_count": 5,
   "metadata": {
    "colab": {
     "base_uri": "https://localhost:8080/",
     "height": 34
    },
    "colab_type": "code",
    "collapsed": false,
    "deletable": true,
    "editable": true,
    "id": "SOhQGazMdRdq",
    "outputId": "7d106daf-231b-41b5-a63d-6f067430233d"
   },
   "outputs": [
    {
     "data": {
      "text/plain": [
       "'hello world! this is cse 163'"
      ]
     },
     "execution_count": 5,
     "metadata": {},
     "output_type": "execute_result"
    }
   ],
   "source": [
    "s.lower()"
   ]
  },
  {
   "cell_type": "code",
   "execution_count": 6,
   "metadata": {
    "colab": {
     "base_uri": "https://localhost:8080/",
     "height": 34
    },
    "colab_type": "code",
    "collapsed": false,
    "deletable": true,
    "editable": true,
    "id": "rdQI2LPgdYBi",
    "outputId": "6553bf81-e235-4558-d613-847c669e229f"
   },
   "outputs": [
    {
     "data": {
      "text/plain": [
       "['Hello', 'world!', 'This', 'is', 'CSE', '163']"
      ]
     },
     "execution_count": 6,
     "metadata": {},
     "output_type": "execute_result"
    }
   ],
   "source": [
    "s.split()"
   ]
  },
  {
   "cell_type": "markdown",
   "metadata": {
    "colab_type": "text",
    "deletable": true,
    "editable": true,
    "id": "V8yWaRx29Q3L"
   },
   "source": [
    "Strings do not support assignment, so you can not set the character at an index"
   ]
  },
  {
   "cell_type": "code",
   "execution_count": 7,
   "metadata": {
    "colab": {
     "base_uri": "https://localhost:8080/",
     "height": 164
    },
    "colab_type": "code",
    "collapsed": false,
    "deletable": true,
    "editable": true,
    "id": "GNRwRPbqfAlW",
    "outputId": "cfca0655-a562-4f29-861b-94a216ff9bf0"
   },
   "outputs": [
    {
     "ename": "TypeError",
     "evalue": "'str' object does not support item assignment",
     "output_type": "error",
     "traceback": [
      "\u001b[1;31m\u001b[0m",
      "\u001b[1;31mTypeError\u001b[0mTraceback (most recent call last)",
      "\u001b[1;32m<ipython-input-7-55620f378bce>\u001b[0m in \u001b[0;36m<module>\u001b[1;34m()\u001b[0m\n\u001b[1;32m----> 1\u001b[1;33m \u001b[0ms\u001b[0m\u001b[1;33m[\u001b[0m\u001b[1;36m0\u001b[0m\u001b[1;33m]\u001b[0m \u001b[1;33m=\u001b[0m \u001b[1;34m'a'\u001b[0m\u001b[1;33m\u001b[0m\u001b[0m\n\u001b[0m",
      "\u001b[1;31mTypeError\u001b[0m: 'str' object does not support item assignment"
     ]
    }
   ],
   "source": [
    "s[0] = 'a'"
   ]
  },
  {
   "cell_type": "markdown",
   "metadata": {
    "colab_type": "text",
    "deletable": true,
    "editable": true,
    "id": "E0qOE1ysKMpr"
   },
   "source": [
    "# Lists\n",
    "\n",
    "In the last section we saw the `split` method. This actually returns a `list`."
   ]
  },
  {
   "cell_type": "code",
   "execution_count": 8,
   "metadata": {
    "colab": {},
    "colab_type": "code",
    "collapsed": true,
    "deletable": true,
    "editable": true,
    "id": "jHxmQv9gKNLV"
   },
   "outputs": [],
   "source": [
    "words = s.split()"
   ]
  },
  {
   "cell_type": "code",
   "execution_count": 9,
   "metadata": {
    "colab": {
     "base_uri": "https://localhost:8080/",
     "height": 34
    },
    "colab_type": "code",
    "collapsed": false,
    "deletable": true,
    "editable": true,
    "id": "cdeohu0zeNKT",
    "outputId": "0934dcd8-905c-4fed-eab7-abf9bef30ae0"
   },
   "outputs": [
    {
     "name": "stdout",
     "output_type": "stream",
     "text": [
      "['Hello', 'world!', 'This', 'is', 'CSE', '163']\n"
     ]
    }
   ],
   "source": [
    "print(words)"
   ]
  },
  {
   "cell_type": "code",
   "execution_count": 10,
   "metadata": {
    "colab": {
     "base_uri": "https://localhost:8080/",
     "height": 119
    },
    "colab_type": "code",
    "collapsed": false,
    "deletable": true,
    "editable": true,
    "id": "tUNxtbcjBPRb",
    "outputId": "45b1bba2-8c35-494b-d5d0-be05d711a064"
   },
   "outputs": [
    {
     "name": "stdout",
     "output_type": "stream",
     "text": [
      "Hello\n",
      "world!\n",
      "This\n",
      "is\n",
      "CSE\n",
      "163\n"
     ]
    }
   ],
   "source": [
    "for word in words:\n",
    "  print(word)"
   ]
  },
  {
   "cell_type": "markdown",
   "metadata": {
    "colab_type": "text",
    "deletable": true,
    "editable": true,
    "id": "I1gGUikiBTQZ"
   },
   "source": [
    "We tried to change the contents of the list, but noticed that we have to use assignment to change the value at an index."
   ]
  },
  {
   "cell_type": "code",
   "execution_count": 11,
   "metadata": {
    "colab": {},
    "colab_type": "code",
    "collapsed": true,
    "deletable": true,
    "editable": true,
    "id": "QOMgTngfeQMc"
   },
   "outputs": [],
   "source": [
    "for i in range(len(words)):\n",
    "  words[i] = words[i].upper()"
   ]
  },
  {
   "cell_type": "code",
   "execution_count": 12,
   "metadata": {
    "colab": {
     "base_uri": "https://localhost:8080/",
     "height": 34
    },
    "colab_type": "code",
    "collapsed": false,
    "deletable": true,
    "editable": true,
    "id": "40Q3vYtNecfi",
    "outputId": "ff6ca245-ab14-463b-cad3-004336842d7d"
   },
   "outputs": [
    {
     "name": "stdout",
     "output_type": "stream",
     "text": [
      "['HELLO', 'WORLD!', 'THIS', 'IS', 'CSE', '163']\n"
     ]
    }
   ],
   "source": [
    "print(words)"
   ]
  },
  {
   "cell_type": "markdown",
   "metadata": {
    "colab_type": "text",
    "deletable": true,
    "editable": true,
    "id": "uL2srBB8KPED"
   },
   "source": [
    "# Files\n",
    "\n",
    "When working with files, you have to use syntax like this to open the file."
   ]
  },
  {
   "cell_type": "code",
   "execution_count": 13,
   "metadata": {
    "colab": {
     "base_uri": "https://localhost:8080/",
     "height": 85
    },
    "colab_type": "code",
    "collapsed": false,
    "deletable": true,
    "editable": true,
    "id": "GrrNucreKQZU",
    "outputId": "ab974ccb-7cd0-4ada-c1a6-f66a45e95473"
   },
   "outputs": [
    {
     "name": "stdout",
     "output_type": "stream",
     "text": [
      "she sells\n",
      "sea\n",
      "shells by\n",
      "the sea shore\n"
     ]
    }
   ],
   "source": [
    "with open('poem.txt') as file:\n",
    "  contents = file.read()\n",
    "  \n",
    "print(contents)"
   ]
  },
  {
   "cell_type": "markdown",
   "metadata": {
    "colab_type": "text",
    "deletable": true,
    "editable": true,
    "id": "4JuGLibTBdbx"
   },
   "source": [
    "We then wanted to write some functions that worked with these files"
   ]
  },
  {
   "cell_type": "code",
   "execution_count": 14,
   "metadata": {
    "colab": {},
    "colab_type": "code",
    "collapsed": true,
    "deletable": true,
    "editable": true,
    "id": "SXeXSwdHgy0t"
   },
   "outputs": [],
   "source": [
    "def number_lines(file_name):\n",
    "  \"\"\"\n",
    "  Takes a file name as a parameter and prints out the file \n",
    "  line by line (prefixed with that line's line number)\n",
    "  \"\"\"\n",
    "  with open(file_name) as file:\n",
    "    lines = file.readlines()\n",
    "    line_num = 1\n",
    "    for line in lines:\n",
    "      print(str(line_num) + ': ' + line.strip())\n",
    "      line_num += 1"
   ]
  },
  {
   "cell_type": "code",
   "execution_count": 15,
   "metadata": {
    "colab": {
     "base_uri": "https://localhost:8080/",
     "height": 85
    },
    "colab_type": "code",
    "collapsed": false,
    "deletable": true,
    "editable": true,
    "id": "Q4T6lgJ5iOF_",
    "outputId": "33d882a5-4abd-4f07-a769-f2a1db393c5b"
   },
   "outputs": [
    {
     "name": "stdout",
     "output_type": "stream",
     "text": [
      "1: she sells\n",
      "2: sea\n",
      "3: shells by\n",
      "4: the sea shore\n"
     ]
    }
   ],
   "source": [
    "number_lines('poem.txt')"
   ]
  },
  {
   "cell_type": "code",
   "execution_count": 17,
   "metadata": {
    "colab": {},
    "colab_type": "code",
    "collapsed": true,
    "deletable": true,
    "editable": true,
    "id": "kCvqxLgli1cT"
   },
   "outputs": [],
   "source": [
    "def odd_length(file_name):\n",
    "  \"\"\"\n",
    "  Takes a file name as a parameter and for each line\n",
    "  prints out the line number and the number of odd length words on that line.\n",
    "  \"\"\"\n",
    "  with open(file_name) as file:\n",
    "    lines = file.readlines()\n",
    "    line_num = 1\n",
    "    for line in lines:\n",
    "      line = line.strip()\n",
    "      words = line.split()\n",
    "      odd_count = 0\n",
    "      for word in words:\n",
    "        if len(word) % 2 == 1:\n",
    "          odd_count += 1\n",
    "      print(str(line_num) + ': ' + str(odd_count))\n",
    "      line_num += 1"
   ]
  },
  {
   "cell_type": "code",
   "execution_count": 18,
   "metadata": {
    "colab": {
     "base_uri": "https://localhost:8080/",
     "height": 85
    },
    "colab_type": "code",
    "collapsed": false,
    "deletable": true,
    "editable": true,
    "id": "8yxinLYXjDSm",
    "outputId": "9a9fe9e9-8746-4ddd-aff7-5915fdd3c754"
   },
   "outputs": [
    {
     "name": "stdout",
     "output_type": "stream",
     "text": [
      "1: 2\n",
      "2: 1\n",
      "3: 0\n",
      "4: 3\n"
     ]
    }
   ],
   "source": [
    "odd_length('poem.txt')"
   ]
  },
  {
   "cell_type": "markdown",
   "metadata": {
    "colab_type": "text",
    "deletable": true,
    "editable": true,
    "id": "TH2Ki79eBxI9"
   },
   "source": [
    "We went back and added documentation to our functions, which allows us to use the `help` function to learn more about what the method does! "
   ]
  },
  {
   "cell_type": "code",
   "execution_count": 19,
   "metadata": {
    "colab": {
     "base_uri": "https://localhost:8080/",
     "height": 102
    },
    "colab_type": "code",
    "collapsed": false,
    "deletable": true,
    "editable": true,
    "id": "kvrGN1ohlMsB",
    "outputId": "0322e855-e271-4303-e9c7-0915adc9922c"
   },
   "outputs": [
    {
     "name": "stdout",
     "output_type": "stream",
     "text": [
      "Help on function odd_length in module __main__:\n",
      "\n",
      "odd_length(file_name)\n",
      "    Takes a file name as a parameter and for each line\n",
      "    prints out the line number and the number of odd length words on that line.\n",
      "\n"
     ]
    }
   ],
   "source": [
    "help(odd_length)"
   ]
  },
  {
   "cell_type": "markdown",
   "metadata": {
    "colab_type": "text",
    "deletable": true,
    "editable": true,
    "id": "2bKQHrveKRfw"
   },
   "source": [
    "# None\n",
    "\n",
    "`None` is a special value in Python that is the absence of any real value. It's generally returned if the query did not make sense or something was missing. For example, in this increment function below, we want to return `None` if the parameter is less than 0."
   ]
  },
  {
   "cell_type": "code",
   "execution_count": 20,
   "metadata": {
    "colab": {},
    "colab_type": "code",
    "collapsed": true,
    "deletable": true,
    "editable": true,
    "id": "NQP86wJYKS9i"
   },
   "outputs": [],
   "source": [
    "def increment(x):\n",
    "  if x < 0:\n",
    "    return None\n",
    "  else:\n",
    "    return x + 1"
   ]
  },
  {
   "cell_type": "markdown",
   "metadata": {
    "colab_type": "text",
    "deletable": true,
    "editable": true,
    "id": "YmzUhsj9CFGK"
   },
   "source": [
    "You can use the `is` keyword to check if something is `None`"
   ]
  },
  {
   "cell_type": "code",
   "execution_count": 23,
   "metadata": {
    "colab": {
     "base_uri": "https://localhost:8080/",
     "height": 34
    },
    "colab_type": "code",
    "collapsed": false,
    "deletable": true,
    "editable": true,
    "id": "MD40qeFwCDqU",
    "outputId": "623563b1-5794-415b-ca0c-efbe1c1f3905"
   },
   "outputs": [
    {
     "name": "stdout",
     "output_type": "stream",
     "text": [
      "Failed\n"
     ]
    }
   ],
   "source": [
    "result = increment(-5)\n",
    "\n",
    "if result is None:\n",
    "  print('Failed')\n",
    "else: \n",
    "  print('Passed')"
   ]
  },
  {
   "cell_type": "code",
   "execution_count": 0,
   "metadata": {
    "colab": {},
    "colab_type": "code",
    "collapsed": true,
    "deletable": true,
    "editable": true,
    "id": "tldrGRi3CMgG"
   },
   "outputs": [],
   "source": []
  }
 ],
 "metadata": {
  "colab": {
   "collapsed_sections": [],
   "name": "Lec3.ipynb",
   "provenance": [],
   "toc_visible": true,
   "version": "0.3.2"
  },
  "kernelspec": {
   "display_name": "Python 2",
   "language": "python",
   "name": "python2"
  },
  "language_info": {
   "codemirror_mode": {
    "name": "ipython",
    "version": 2
   },
   "file_extension": ".py",
   "mimetype": "text/x-python",
   "name": "python",
   "nbconvert_exporter": "python",
   "pygments_lexer": "ipython2",
   "version": "2.7.13"
  }
 },
 "nbformat": 4,
 "nbformat_minor": 0
}
