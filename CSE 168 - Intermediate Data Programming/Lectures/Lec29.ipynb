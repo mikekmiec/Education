{
  "nbformat": 4,
  "nbformat_minor": 0,
  "metadata": {
    "colab": {
      "name": "Lec29.ipynb",
      "version": "0.3.2",
      "provenance": [],
      "collapsed_sections": []
    },
    "kernelspec": {
      "name": "python3",
      "display_name": "Python 3"
    }
  },
  "cells": [
    {
      "cell_type": "markdown",
      "metadata": {
        "id": "sP0lkd-l6ZqH",
        "colab_type": "text"
      },
      "source": [
        "# Jupyter Notebook\n",
        "\n",
        "This is a Jupyter Notebook, which is a basically just a super fancy Python shell.\n",
        "\n",
        "You may have \"cells\" that can either be text (like this one) or executable Python code. Notebooks are really nice because they allow you to rapidly develop Python code by writing small bits of code, testing their output, and moving on to the next bit; this interactive nature of the notebook is a huge plus to professional Python developers. \n",
        "\n",
        "It's also nice, because it's really easy to share your code with others and surround it with text to tell a story! \n",
        "\n",
        "# Colaboratory\n",
        "Colaboratory is a service provided by Google to take a Jupyter Notebook (a standard formay of a `.ipynb` file) and let users edit/run the code in the notebook for free! \n",
        "\n",
        "This notebook is write-protected so you are not able to edit the  notebook that the whole class will look at, but you are able to open up the notebook in \"playground mode\" which lets you make edits to a temporary copy of the notebook. If you want to save the changes you made to this notebook, you will have to follow the instructions when you try to save to copy the notebook to your Google Drive. \n",
        "\n",
        "# Setup\n",
        "Make sure you run the following cell(s) before trying to run any the following cells. You do not need to understand what they are doing, it's just a way to make sure there is a file we want to use stored on the computer running this notebook.\n",
        "\n",
        "---\n"
      ]
    },
    {
      "cell_type": "markdown",
      "metadata": {
        "id": "m2_C6cs3kaOK",
        "colab_type": "text"
      },
      "source": [
        "# APIs\n",
        "The first web technology we talked about are the Application Programming Interface (API). Any API is generally a URL you can go to that returns data (as opposed to a web-page like facebook.com). We looked at an API that returns the position of the International Space Station. This API is located at http://api.open-notify.org/iss-now.json and returns data in the JSON format. JSON is basically just a python lists and dictionaries with keys and values.\n",
        "\n",
        "`requests` is a very popular Python library that lets you fetch data from a URL."
      ]
    },
    {
      "cell_type": "code",
      "metadata": {
        "id": "xIXl9KBOxVKE",
        "colab_type": "code",
        "colab": {}
      },
      "source": [
        "import requests"
      ],
      "execution_count": 0,
      "outputs": []
    },
    {
      "cell_type": "code",
      "metadata": {
        "id": "GVq8BMmOTYqG",
        "colab_type": "code",
        "colab": {}
      },
      "source": [
        "response = requests.get('http://api.open-notify.org/iss-now.json')"
      ],
      "execution_count": 0,
      "outputs": []
    },
    {
      "cell_type": "markdown",
      "metadata": {
        "id": "y_YECeonk-nF",
        "colab_type": "text"
      },
      "source": [
        "This returns a \"response\" object that has information about the response like it's status code and data"
      ]
    },
    {
      "cell_type": "code",
      "metadata": {
        "id": "zjsNzejulDRV",
        "colab_type": "code",
        "outputId": "7e197edc-10bb-40da-a755-630cd94c0984",
        "colab": {
          "base_uri": "https://localhost:8080/",
          "height": 34
        }
      },
      "source": [
        "response.status_code"
      ],
      "execution_count": 0,
      "outputs": [
        {
          "output_type": "execute_result",
          "data": {
            "text/plain": [
              "200"
            ]
          },
          "metadata": {
            "tags": []
          },
          "execution_count": 23
        }
      ]
    },
    {
      "cell_type": "markdown",
      "metadata": {
        "id": "kXqUSZcclGuB",
        "colab_type": "text"
      },
      "source": [
        "You can view the data with the `content` attribute, but this returns a string which is not very helpful. Instead, we can use the `json` method to convert the string to a python dictionary."
      ]
    },
    {
      "cell_type": "code",
      "metadata": {
        "id": "rg9hXCrBleaO",
        "colab_type": "code",
        "outputId": "d57007ba-9e85-42b4-9a05-293db368bed1",
        "colab": {
          "base_uri": "https://localhost:8080/",
          "height": 34
        }
      },
      "source": [
        "response.content"
      ],
      "execution_count": 0,
      "outputs": [
        {
          "output_type": "execute_result",
          "data": {
            "text/plain": [
              "b'{\"message\": \"success\", \"iss_position\": {\"latitude\": \"-12.5937\", \"longitude\": \"-45.8263\"}, \"timestamp\": 1559873338}'"
            ]
          },
          "metadata": {
            "tags": []
          },
          "execution_count": 24
        }
      ]
    },
    {
      "cell_type": "code",
      "metadata": {
        "id": "YDpUARPqmAdy",
        "colab_type": "code",
        "outputId": "3185e713-513e-47bf-c549-3d17f333e778",
        "colab": {
          "base_uri": "https://localhost:8080/",
          "height": 51
        }
      },
      "source": [
        "d = response.json()\n",
        "print(d)\n",
        "print(d['timestamp'])"
      ],
      "execution_count": 0,
      "outputs": [
        {
          "output_type": "stream",
          "text": [
            "{'message': 'success', 'iss_position': {'latitude': '-12.5937', 'longitude': '-45.8263'}, 'timestamp': 1559873338}\n",
            "1559873338\n"
          ],
          "name": "stdout"
        }
      ]
    },
    {
      "cell_type": "markdown",
      "metadata": {
        "id": "p941Q_vEljp5",
        "colab_type": "text"
      },
      "source": [
        "How did we know there was a key called `'timestamp'`? This is part of the documentation of the API that can be found [here](http://open-notify.org/Open-Notify-API/ISS-Location-Now/).  \n",
        "\n",
        "To get more up-to-date data, we would have to make the request again. The code below makes 20 calls to the API and prints the latitude and longitude of the ISS."
      ]
    },
    {
      "cell_type": "code",
      "metadata": {
        "id": "FPfy6gT7mjmC",
        "colab_type": "code",
        "outputId": "d59591f0-8b7e-43bb-ed07-67cb4d463a49",
        "colab": {
          "base_uri": "https://localhost:8080/",
          "height": 357
        }
      },
      "source": [
        "for i in range(20):\n",
        "  response = requests.get('http://api.open-notify.org/iss-now.json')\n",
        "  if response.status_code == 200:\n",
        "    print(response.json()['iss_position'])\n",
        "  else:\n",
        "    print('Error')"
      ],
      "execution_count": 0,
      "outputs": [
        {
          "output_type": "stream",
          "text": [
            "{'latitude': '-12.5937', 'longitude': '-45.8263'}\n",
            "{'latitude': '-12.5937', 'longitude': '-45.8263'}\n",
            "{'latitude': '-12.5937', 'longitude': '-45.8263'}\n",
            "{'latitude': '-12.5937', 'longitude': '-45.8263'}\n",
            "{'latitude': '-12.5937', 'longitude': '-45.8263'}\n",
            "{'latitude': '-12.5937', 'longitude': '-45.8263'}\n",
            "{'latitude': '-12.6187', 'longitude': '-45.8073'}\n",
            "{'latitude': '-12.6187', 'longitude': '-45.8073'}\n",
            "{'latitude': '-12.6187', 'longitude': '-45.8073'}\n",
            "{'latitude': '-12.6187', 'longitude': '-45.8073'}\n",
            "{'latitude': '-12.6187', 'longitude': '-45.8073'}\n",
            "{'latitude': '-12.6187', 'longitude': '-45.8073'}\n",
            "{'latitude': '-12.6187', 'longitude': '-45.8073'}\n",
            "{'latitude': '-12.6187', 'longitude': '-45.8073'}\n",
            "{'latitude': '-12.6187', 'longitude': '-45.8073'}\n",
            "{'latitude': '-12.6187', 'longitude': '-45.8073'}\n",
            "{'latitude': '-12.6187', 'longitude': '-45.8073'}\n",
            "{'latitude': '-12.6187', 'longitude': '-45.8073'}\n",
            "{'latitude': '-12.6436', 'longitude': '-45.7884'}\n",
            "{'latitude': '-12.6436', 'longitude': '-45.7884'}\n"
          ],
          "name": "stdout"
        }
      ]
    },
    {
      "cell_type": "markdown",
      "metadata": {
        "id": "AEi4X4cPl8jk",
        "colab_type": "text"
      },
      "source": [
        "# Web Scraping\n",
        "APIs are fantastic because the return useful data that is generally well formatted! One problem is the API needs to be written by someone and they don't always exist for the things you want. If there is no API to access the data nicely, another approach is to \"scrape\" the data of a webpage. \n",
        "\n",
        "In the rest of this example, we will try to scrape [this webpage](https://forecast.weather.gov/MapClick.php?lat=47.6036&lon=-122.3294) with the weather forecast so we can gather data about the weather for the rest of the week. This example is a bit lacking since we don't show **what** you would do with this data, just **how** to get it. To know what you can do with the data, refer to the rest of the course where we learned how to process data we had; web-scraping is just a tool to gather more data.\n",
        "\n",
        "To understand how to scrape a page, you have to understand what a webpage looks like. Please refer to the slides to see what a webpage looks like. "
      ]
    },
    {
      "cell_type": "code",
      "metadata": {
        "id": "aGoG8U2omtt8",
        "colab_type": "code",
        "outputId": "387f8e4d-51c9-4e94-8c42-2b4f95666c64",
        "colab": {
          "base_uri": "https://localhost:8080/",
          "height": 54
        }
      },
      "source": [
        "page = requests.get('https://forecast.weather.gov/MapClick.php?lat=47.6036&lon=-122.3294')\n",
        "print(page.content)"
      ],
      "execution_count": 0,
      "outputs": [
        {
          "output_type": "stream",
          "text": [
            "b'<!DOCTYPE html>\\n<html class=\"no-js\">\\n    <head>\\n        <!-- Meta -->\\n        <meta name=\"viewport\" content=\"width=device-width\">\\n        <link rel=\"schema.DC\" href=\"http://purl.org/dc/elements/1.1/\" /><title>National Weather Service</title><meta name=\"DC.title\" content=\"National Weather Service\" /><meta name=\"DC.description\" content=\"NOAA National Weather Service National Weather Service\" /><meta name=\"DC.creator\" content=\"US Department of Commerce, NOAA, National Weather Service\" /><meta name=\"DC.date.created\" scheme=\"ISO8601\" content=\"\" /><meta name=\"DC.language\" scheme=\"DCTERMS.RFC1766\" content=\"EN-US\" /><meta name=\"DC.keywords\" content=\"weather, National Weather Service\" /><meta name=\"DC.publisher\" content=\"NOAA\\'s National Weather Service\" /><meta name=\"DC.contributor\" content=\"National Weather Service\" /><meta name=\"DC.rights\" content=\"http://www.weather.gov/disclaimer.php\" /><meta name=\"rating\" content=\"General\" /><meta name=\"robots\" content=\"index,follow\" />\\n\\n        <!-- Icons -->\\n        <link rel=\"shortcut icon\" href=\"./images/favicon.ico\" type=\"image/x-icon\" />\\n\\n        <!-- CSS -->\\n        <link rel=\"stylesheet\" href=\"css/bootstrap-3.2.0.min.css\">\\n        <link rel=\"stylesheet\" href=\"css/bootstrap-theme-3.2.0.min.css\">\\n        <link rel=\"stylesheet\" href=\"css/font-awesome-4.3.0.min.css\">\\n        <link rel=\"stylesheet\" href=\"css/ol-4.6.4.css\" type=\"text/css\">\\n        <link rel=\"stylesheet\" type=\"text/css\" href=\"css/mapclick.css\" />\\n        <!--[if lte IE 7]><link rel=\"stylesheet\" type=\"text/css\" href=\"css/bootstrap-ie7.css\" /><![endif]-->\\n        <!--[if lte IE 9]><link rel=\"stylesheet\" type=\"text/css\" href=\"css/mapclick-ie.css\" /><![endif]-->\\n        <link rel=\"stylesheet\" type=\"text/css\" href=\"css/print.css\" />\\n        <link rel=\"stylesheet\" type=\"text/css\" href=\"css/search.css\" />\\n\\n        <!-- Javascript -->\\n        <script type=\"text/javascript\" src=\"js/lib/modernizr-2.8.3.js\"></script>\\n        <script type=\"text/javascript\" src=\"js/lib/json3-3.3.2.min.js\"></script>\\n        <script type=\"text/javascript\" src=\"js/lib/jquery-1.11.3.min.js\"></script>\\n        <script type=\"text/javascript\" src=\"js/lib/jquery.hoverIntent-1.8.1.min.js\"></script>\\n        <script type=\"text/javascript\" src=\"js/lib/bootstrap-3.2.0.min.js\"></script>\\n        <script type=\"text/javascript\" src=\"js/lib/ol-4.6.4.js\"></script>\\n        <!--[if lte IE 8]><script type=\"text/javascript\" src=\"js/respond.min.js\"></script><![endif]-->\\n        <script type=\"text/javascript\" src=\"js/jquery.autocomplete.min.js\"></script>\\n        <script type=\"text/javascript\" src=\"js/cfisurvey/cfi.js?v2\"></script>\\n        <script type=\"text/javascript\" src=\"js/forecast.esri.js\"></script>\\n        <script type=\"text/javascript\" src=\"js/forecast.search.js\"></script>\\n        <script type=\"text/javascript\" src=\"js/forecast.openlayers.js\"></script>\\n        <script type=\"text/javascript\" src=\"js/browserSniffer.js\"></script>\\n        <script type=\"text/javascript\" src=\"js/federated-analytics.js\"></script>\\n        <script type=\"javascript\">\\n// ForeSee Staging Embed Script v2.01\\n// DO NOT MODIFY BELOW THIS LINE *****************************************\\n;(function (g) {\\n  var d = document, am = d.createElement(\\'script\\'), h = d.head || d.getElementsByTagName(\"head\")[0], fsr = \\'fsReady\\',\\n  aex = { \\n    \"src\": \"//gateway.foresee.com/sites/weather-gov/production/gateway.min.js\",\\n    \"type\": \"text/javascript\", \\n    \"async\": \"true\", \\n    \"data-vendor\": \"fs\", \\n    \"data-role\": \"gateway\" \\n  };\\n  for (var attr in aex) { am.setAttribute(attr, aex[attr]); } h.appendChild(am); g[fsr] || (g[fsr] = function () { var aT = \\'__\\' + fsr + \\'_stk__\\'; g[aT] = g[aT] || []; g[aT].push(arguments); });\\n})(window);\\n// DO NOT MODIFY ABOVE THIS LINE *****************************************\\n</script>\\n        <script type=\"text/javascript\">\\n            (function (i, s, o, g, r, a, m) {\\n                i[\\'GoogleAnalyticsObject\\'] = r;\\n                i[r] = i[r] || function () {\\n                    (i[r].q = i[r].q || []).push(arguments)\\n                }, i[r].l = 1 * new Date();\\n                a = s.createElement(o),\\n                        m = s.getElementsByTagName(o)[0];\\n                a.async = 1;\\n                a.src = g;\\n                m.parentNode.insertBefore(a, m)\\n            })(window, document, \\'script\\', \\'//www.google-analytics.com/analytics.js\\', \\'ga\\');\\n\\n            ga(\\'create\\', \\'UA-40768555-1\\', \\'weather.gov\\', {\\'sampleRate\\': 6});\\n            ga(\\'set\\', \\'anonymizeIp\\', true);\\n            ga(\\'require\\', \\'linkid\\');\\n            ga(\\'send\\', \\'pageview\\');\\n        </script>\\n\\n    </head>\\n    <body>\\n        <main class=\"container\">\\n            \\t\\t<header class=\"row clearfix\" id=\"page-header\">\\r\\n\\t\\t\\t<a href=\"http://www.noaa.gov\" id=\"header-noaa\" class=\"pull-left\"><img src=\"/css/images/header_noaa.png\" alt=\"National Oceanic and Atmospheric Administration\"/></a>\\r\\n\\t\\t\\t<a href=\"http://www.weather.gov\" id=\"header-nws\" class=\"pull-left\"><img src=\"/css/images/header_nws.png\" alt=\"National Weather Service\"/></a>\\r\\n\\t\\t\\t<a href=\"http://www.commerce.gov\" id=\"header-doc\" class=\"pull-right\"><img src=\"/css/images/header_doc.png\" alt=\"United States Department of Commerce\"/></a>\\r\\n\\t\\t</header>\\r\\n\\t\\t\\n                    <nav class=\"navbar navbar-default row\" role=\"navigation\">\\r\\n            <div class=\"container-fluid\">\\r\\n                <div class=\"navbar-header\">\\r\\n                    <button type=\"button\" class=\"navbar-toggle collapsed\" data-toggle=\"collapse\" data-target=\"#top-nav\">\\r\\n                        <span class=\"sr-only\">Toggle navigation</span>\\r\\n                        <span class=\"icon-bar\"></span>\\r\\n                        <span class=\"icon-bar\"></span>\\r\\n                        <span class=\"icon-bar\"></span>\\r\\n                    </button>\\r\\n                </div>\\r\\n                <div class=\"collapse navbar-collapse\" id=\"top-nav\">\\r\\n                    <ul class=\"nav navbar-nav\">\\r\\n                        <li><a href=\"http://www.weather.gov\">HOME</a></li>\\r\\n                        <li class=\"dropdown\"><a href=\"http://www.weather.gov/forecastmaps\" class=\"dropdown-toggle\" data-toggle=\"dropdown\">FORECAST&nbsp;<span class=\"caret\"></span></a><ul class=\"dropdown-menu\" role=\"menu\"><li><a href=\"http://www.weather.gov\">Local</a></li><li><a href=\"http://digital.weather.gov\">Graphical</a></li><li><a href=\"http://www.aviationweather.gov/\">Aviation</a></li><li><a href=\"http://www.nws.noaa.gov/om/marine/home.htm\">Marine</a></li><li><a href=\"http://water.weather.gov/ahps/\">Rivers and Lakes</a></li><li><a href=\"http://www.nhc.noaa.gov/\">Hurricanes</a></li><li><a href=\"http://www.spc.noaa.gov/\">Severe Weather</a></li><li><a href=\"http://www.weather.gov/fire/\">Fire Weather</a></li><li><a href=\"http://aa.usno.navy.mil/data/docs/RS_OneDay.php\">Sun/Moon</a></li><li><a href=\"http://www.cpc.ncep.noaa.gov/\">Long Range Forecasts</a></li><li><a href=\"http://www.cpc.ncep.noaa.gov\">Climate Prediction</a></li><li><a href=\"https://www.swpc.noaa.gov/\">Space Weather</a></li></ul>                            </li>\\r\\n                            <li class=\"dropdown\"><a href=\"https://w2.weather.gov/climate\" class=\"dropdown-toggle\" data-toggle=\"dropdown\">PAST WEATHER&nbsp;<span class=\"caret\"></span></a><ul class=\"dropdown-menu\" role=\"menu\"><li><a href=\"https://w2.weather.gov/climate/\">Past Weather</a></li><li><a href=\"https://w2.weather.gov/climate/\">Heating/Cooling Days</a></li><li><a href=\"https://w2.weather.gov/climate/\">Monthly Temperatures</a></li><li><a href=\"https://w2.weather.gov/climate/\">Records</a></li><li><a href=\"http://aa.usno.navy.mil/\">Astronomical Data</a></li></ul>                            </li>\\r\\n                            <li class=\"dropdown\"><a href=\"http://www.weather.gov/safety\" class=\"dropdown-toggle\" data-toggle=\"dropdown\">SAFETY&nbsp;<span class=\"caret\"></span></a><ul class=\"dropdown-menu\" role=\"menu\"><li><a href=\"https://www.weather.gov/safety/flood\">Floods</a></li><li><a href=\"https://www.weather.gov/safety/tsunami\">Tsunamis</a></li><li><a href=\"https://www.weather.gov/safety/beachhazards\">Beach Hazards</a></li><li><a href=\"https://www.weather.gov/safety/wildfire\">Wildfire</a></li><li><a href=\"https://www.weather.gov/safety/cold\">Cold</a></li><li><a href=\"https://www.weather.gov/safety/tornado\">Tornadoes</a></li><li><a href=\"https://www.weather.gov/safety/fog\">Fog</a></li><li><a href=\"https://www.weather.gov/safety/airquality\">Air Quality</a></li><li><a href=\"https://www.weather.gov/safety/heat\">Heat</a></li><li><a href=\"https://www.weather.gov/safety/hurricane\">Hurricanes</a></li><li><a href=\"https://www.weather.gov/safety/lightning\">Lightning</a></li><li><a href=\"https://www.weather.gov/safety/safeboating\">Safe Boating</a></li><li><a href=\"https://www.weather.gov/safety/ripcurrent\">Rip Currents</a></li><li><a href=\"https://www.weather.gov/safety/thunderstorm\">Thunderstorms</a></li><li><a href=\"https://www.weather.gov/safety/space\">Space Weather</a></li><li><a href=\"https://www.weather.gov/safety/heat-uv\">Sun (Ultraviolet Radiation)</a></li><li><a href=\"http://www.weather.gov/safetycampaign\">Safety Campaigns</a></li><li><a href=\"https://www.weather.gov/safety/wind\">Wind</a></li><li><a href=\"https://www.weather.gov/safety/drought\">Drought</a></li><li><a href=\"https://www.weather.gov/safety/winter\">Winter Weather</a></li></ul>                            </li>\\r\\n                            <li class=\"dropdown\"><a href=\"http://www.weather.gov/informationcenter\" class=\"dropdown-toggle\" data-toggle=\"dropdown\">INFORMATION&nbsp;<span class=\"caret\"></span></a><ul class=\"dropdown-menu\" role=\"menu\"><li><a href=\"http://www.weather.gov/Owlie\\'s\">Owlie\\'s Kids Page</a></li><li><a href=\"http://www.weather.gov/wrn/wea\">Wireless Emergency Alerts</a></li><li><a href=\"https://www.weather.gov/owlie/publication_brochures\">Brochures</a></li><li><a href=\"http://www.weather.gov/wrn/\">Weather-Ready Nation</a></li><li><a href=\"https://www.weather.gov/coop/\">Cooperative Observers</a></li><li><a href=\"http://www.weather.gov/briefing/\">Daily Briefing</a></li><li><a href=\"http://www.nws.noaa.gov/om/hazstats.shtml\">Damage/Fatality/Injury Statistics</a></li><li><a href=\"http://mag.ncep.noaa.gov/\">Forecast Models</a></li><li><a href=\"https://www.weather.gov/gis\">GIS Data Portal</a></li><li><a href=\"http://www.nws.noaa.gov/nwr/\">NOAA Weather Radio</a></li><li><a href=\"http://weather.gov/publications\">Publications</a></li><li><a href=\"http://www.weather.gov/SKYWARN\">SKYWARN Storm Spotters</a></li><li><a href=\"http://www.weather.gov/StormReady\">StormReady</a></li><li><a href=\"https://www.weather.gov/TsunamiReady/\">TsunamiReady</a></li><li><a href=\"https://www.weather.gov/notification/\">Service Change Notices</a></li></ul>                            </li>\\r\\n                            <li class=\"dropdown\"><a href=\"http://www.weather.gov/owlie\" class=\"dropdown-toggle\" data-toggle=\"dropdown\">EDUCATION&nbsp;<span class=\"caret\"></span></a><ul class=\"dropdown-menu\" role=\"menu\"><li><a href=\"https://www.weather.gov/wrn/force\">Be A Force of Nature</a></li><li><a href=\"http://www.weather.gov/owlie\">NWS Education Home</a></li></ul>                            </li>\\r\\n                            <li class=\"dropdown\"><a href=\"http://www.weather.gov/contact-media/\" class=\"dropdown-toggle\" data-toggle=\"dropdown\">NEWS&nbsp;<span class=\"caret\"></span></a><ul class=\"dropdown-menu\" role=\"menu\"><li><a href=\"http://www.weather.gov/news\">NWS News</a></li><li><a href=\"https://www.weather.gov/wrn/calendar\">Events</a></li><li><a href=\"http://www.weather.gov/socialmedia\">Social Media</a></li><li><a href=\"https://www.weather.gov/owlie/publication_brochures\">Pubs/Brochures/Booklets </a></li><li><a href=\"http://www.noaa.gov/NOAA-Communications\">NWS Media Contacts</a></li></ul>                            </li>\\r\\n                            <li class=\"dropdown\"><a href=\"http://www.weather.gov/search\" class=\"dropdown-toggle\" data-toggle=\"dropdown\">SEARCH&nbsp;<span class=\"caret\"></span></a><ul class=\"dropdown-menu\" role=\"menu\">                                <li><!-- Begin search code -->\\r\\n                                    <div id=\"site-search\">\\r\\n                                        <form method=\"get\" action=\"//search.usa.gov/search\" style=\"margin-bottom: 0; margin-top: 0;\">\\r\\n                                            <input type=\"hidden\" name=\"v:project\" value=\"firstgov\" /> \\r\\n                                            <label for=\"query\">Search For</label> \\r\\n                                            <input type=\"text\" name=\"query\" id=\"query\" size=\"12\" /> \\r\\n                                            <input type=\"submit\" value=\"Go\" />\\r\\n                                            <p>\\r\\n                                                <input type=\"radio\" name=\"affiliate\" checked=\"checked\" value=\"nws.noaa.gov\" id=\"nws\" /> \\r\\n                                                <label for=\"nws\" class=\"search-scope\">NWS</label> \\r\\n                                                <input type=\"radio\" name=\"affiliate\" value=\"noaa.gov\" id=\"noaa\" /> \\r\\n                                                <label for=\"noaa\" class=\"search-scope\">All NOAA</label>\\r\\n                                            </p>\\r\\n                                        </form>\\r\\n                                    </div>\\r\\n                                </li>\\r\\n                                </ul>                            </li>\\r\\n                            <li class=\"dropdown\"><a href=\"http://www.weather.gov/about\" class=\"dropdown-toggle\" data-toggle=\"dropdown\">ABOUT&nbsp;<span class=\"caret\"></span></a><ul class=\"dropdown-menu\" role=\"menu\"><li><a href=\"http://www.weather.gov/about\">About NWS</a></li><li><a href=\"http://www.weather.gov/organization\">Organization</a></li><li><a href=\"https://www.weather.gov/media/wrn/NWS_Weather-Ready-Nation_Strategic_Plan_2019-2022.pdf\">Strategic Plan</a></li><li><a href=\"https://sites.google.com/a/noaa.gov/nws-insider/\">For NWS Employees</a></li><li><a href=\"http://www.weather.gov/international/\">International</a></li><li><a href=\"http://www.weather.gov/organization\">National Centers</a></li><li><a href=\"http://www.weather.gov/careers/\">Careers</a></li><li><a href=\"http://www.weather.gov/contact\">Contact Us</a></li><li><a href=\"https://w1.weather.gov/glossary\">Glossary</a></li></ul>                            </li>\\r\\n                                                </ul>\\r\\n                </div>\\r\\n            </div>\\r\\n        </nav>\\r\\n        \\n\\t    <div class=\"contentArea\">\\n\\t\\t\\t<!-- Start Forecastsearch -->\\n\\t<div class=\"\" id=\"fcst-search\">\\n\\t    <form name=\"getForecast\" id=\"getForecast\" class=\"form-inline\" role=\"form\" action=\"https://forecast.weather.gov/zipcity.php\" method=\"get\">\\n\\t\\t<div id=\"getfcst-body\">\\n\\t\\t    <input name=\"inputstring\" type=\"text\" class=\"form-control\" id=\"inputstring\" placeholder=\"\" />\\n\\t\\t    <input name=\"btnSearch\" id=\"btnSearch\" class=\"btn btn-default\" type=\"submit\" value=\"Go\" />\\n\\t\\t    <div id=\"txtHelp\"><a href=\"javascript:void(window.open(\\'http://weather.gov/ForecastSearchHelp.html\\',\\'locsearchhelp\\',\\'status=0,toolbar=0,location=0,menubar=0,directories=0,resizable=1,scrollbars=1,height=500,width=530\\').focus());\">View Location Examples</a></div>\\n\\t\\t</div>\\n\\t\\t<div id=\"txtError\">\\n\\t\\t    <div id=\"errorNoResults\" style=\"display:none;\">Sorry, the location you searched for was not found. Please try another search.</div>\\n\\t\\t    <div id=\"errorMultipleResults\" style=\"display:none\">Multiple locations were found. Please select one of the following:</div>\\n\\t\\t    <div id=\"errorChoices\" style=\"display:none\"></div>\\n\\t\\t    <input id=\"btnCloseError\" type=\"button\" value=\"Close\" style=\"display:none\" />\\n\\t\\t</div>\\n\\t\\t<div id=\"getfcst-head\">\\n\\t\\t    <p>Your local forecast office is</p>\\n\\t\\t    <h3 id=\"getfcst-headOffice\"></h3>\\n\\t\\t</div>\\n\\t    </form>\\n\\t</div>\\n\\t<!-- end Forecastsearch -->\\n        \\n\\t\\t<link rel=\"stylesheet\" type=\"text/css\" href=\"/css/topnews.css\">\\n<div id=\"news-items\">\\n    <div id=\"topnews\">\\n    <div class=\"icon\"><img src=\"/images/news-important.jpg\"></div>\\n    <div class=\"body\">\\n        <h1 style=\"font-size: 11pt;\">Multi-day Heavy Rain Event Continues n the South and Southeast </h1>\\n        <p>\\n            A weather system will inch eastward, but will still impact portions of the Mississippi Valley soils are saturated and rivers remain in flood. Heavy rains spreads into the Southeast and portions of the Mid-Atlantic Friday and Saturday. Flash flooding is possible across the area. Severe storms with primarily a damaging wind threat develops across the High Plains. \\n            <a href=\"http://www.wpc.ncep.noaa.gov/discussions/hpcdiscussions.php?disc=pmdspd\" target=\"_blank\">Read More &gt;</a>\\n        </p>\\n    </div>\\n</div>\\n\\n</div>\\n\\t\\t<script type=\"text/javascript\">(function ($) { var topnews = $(\"#topnews\"); topnews.hide(); $.get(\"siteNews.php\", {a:\"sew\"},function(response){ if (response !== \"false\") topnews.replaceWith($(response)); topnews.show(); }); })(jQuery);</script><!-- PageFormat-Land -->\\n<script language=javascript>document.title = $(\\'<div/>\\').html(\\'7-Day Forecast for Latitude 47.61&deg;N and Longitude 122.32&deg;W (Elev. 240 ft)\\').text();</script><img src=\"images/track_land_point.png\" style=\"display:none;\" />\\n<div id=\"quickLinks\">\\n\\t<span class=\"lang-spanish\"><a href=\"//forecast.weather.gov/MapClick.php?lat=47.6036&lon=-122.3294&lg=sp\">En Espa&ntilde;ol</a></span>\\n\\t<div class=\"addthis_toolbox addthis_default_style addthis-forecast\">\\n\\t    <a href=\"//www.addthis.com/bookmark.php?v=250&amp;pubid=ra-5127a6364d551d04\" class=\"addthis_button_compact\">Share</a>\\n\\t    <span class=\"addthis_separator\">|</span>\\n\\t    <a class=\"addthis_button_preferred_1\"></a>\\n\\t    <a class=\"addthis_button_preferred_2\"></a>\\n\\t    <a class=\"addthis_button_preferred_3\"></a>\\n\\t    <a class=\"addthis_button_preferred_4\"></a>\\n\\t    <a class=\"addthis_button_preferred_5\"></a>\\n\\t</div>\\n\\t<script type=\"text/javascript\">\\n\\t\\tvar addthis_config = addthis_config || {data_track_addressbar:true, pubid: \\'xa-4b05b2d91f18c9cc\\'};\\n\\t    $(document).ready(function(){\\n\\t\\t\\tjQuery.ajax({\\n\\t\\t\\t\\turl: \"//s7.addthis.com/js/300/addthis_widget.js#async=1\",\\n\\t\\t\\t\\tdataType: \"script\",\\n\\t\\t\\t\\tcache: false\\n\\t\\t\\t});\\n\\t    });\\n\\t</script>\\n</div>\\n\\n<!-- Current Conditions -->\\n<div id=\"current-conditions\" class=\"panel panel-default\">\\n\\n\\t<!-- Current Conditions header row -->\\n    <div class=\"panel-heading\">\\n\\t\\t<div>\\n\\t\\t    <b>Current conditions at</b>\\n\\t\\t    <h2 class=\"panel-title\">UNIVERSITY OF WASHINGTON (UWASH)</h2>\\n\\t\\t    <span class=\"smallTxt\"><b>Lat:&nbsp;</b>47.65&deg;N<b>Lon:&nbsp;</b>122.31&deg;W<b>Elev:&nbsp;</b>190ft.</span>\\n\\t    </div>\\n    </div>\\n    <div class=\"panel-body\" id=\"current-conditions-body\">\\n\\t\\t<!-- Graphic and temperatures -->\\n\\t\\t<div id=\"current_conditions-summary\" class=\"pull-left\" >\\n\\t\\t    \\t\\t    <p class=\"myforecast-current\">NA</p>\\n\\t\\t    <p class=\"myforecast-current-lrg\">64&deg;F</p>\\n\\t\\t    <p class=\"myforecast-current-sm\">18&deg;C</p>\\n\\t\\t</div>\\n\\t\\t<div id=\"current_conditions_detail\" class=\"pull-left\">\\n\\t\\t    <table>\\n            <tr>\\n            <td class=\"text-right\"><b>Humidity</b></td>\\n            <td>47%</td>\\n            </tr>\\n            <tr>\\n            <td class=\"text-right\"><b>Wind Speed</b></td>\\n            <td>S 2 G 6 MPH</td>\\n            </tr>\\n            <tr>\\n            <td class=\"text-right\"><b>Barometer</b></td>\\n            <td>1013.5 mb</td>\\n            </tr>\\n            <tr>\\n            <td class=\"text-right\"><b>Dewpoint</b></td>\\n            <td>43&deg;F (6&deg;C)</td>\\n            </tr>\\n            <tr>\\n            <td class=\"text-right\"><b>Visibility</b></td>\\n            <td>NA</td>\\n            </tr>\\n                        <tr>\\n            <td class=\"text-right\"><b>Last update</b></td>\\n            <td>\\n                06 Jun 5:55 pm PDT             </td>\\n            </tr>\\n\\t\\t    </table>\\n\\t\\t</div>\\n\\t\\t<div id=\"current_conditions_station\">\\n\\t\\t    <div class=\"current-conditions-extra\">\\n                            <!-- Right hand section -->\\n            <p class=\"moreInfo\"><b>More Information:</b></p><p><a id=\"localWFO\" href=\"https://www.weather.gov/sew\" title=\"Seattle, WA\"><span class=\"hideText\">Local</span> Forecast Office</a><a id=\"moreWx\" href=\"https://www.wrh.noaa.gov/total_forecast/other_obs.php?wfo=sew&zone=WAZ558\">More Local Wx</a><a href=\"https://www.wrh.noaa.gov/mesowest/getobext.php?wfo=sew&sid=UWASH&num=72&raw=0\">3 Day History</a><a id=\"mobileWxLink\" href=\"//mobile.weather.gov/index.php?lat=47.6036&lon=-122.3294&unit=0&lg=english\">Mobile Weather</a><a id=\"wxGraph\" href=\"MapClick.php?lat=47.6036&lon=-122.3294&unit=0&amp;lg=english&amp;FcstType=graphical\">Hourly <span class=\"hideText\">Weather </span>Forecast</a></p>\\t\\t    </div>\\n\\t\\t<!-- /current_conditions_station -->\\n\\t    </div>\\n\\t    <!-- /current-conditions-body -->\\n\\t</div>\\n<!-- /Current Conditions -->\\n</div>\\n\\n<!-- 7-Day Forecast -->\\n<div id=\"seven-day-forecast\" class=\"panel panel-default\">\\n    <div class=\"panel-heading\">\\n\\t<b>Extended Forecast for</b>\\n\\t<h2 class=\"panel-title\">\\n\\t    \\t    Downtown Seattle WA\\t</h2>\\n    </div>\\n    <div class=\"panel-body\" id=\"seven-day-forecast-body\">\\n\\t\\t\\t<div id=\"seven-day-forecast-container\"><ul id=\"seven-day-forecast-list\" class=\"list-unstyled\"><li class=\"forecast-tombstone\">\\n<div class=\"tombstone-container\">\\n<p class=\"period-name\">Tonight<br><br></p>\\n<p><img src=\"newimages/medium/nshra60.png\" alt=\"Tonight: Showers likely, mainly before 11pm.  Mostly cloudy, with a low around 49. Northwest wind 8 to 10 mph becoming south southwest after midnight.  Chance of precipitation is 60%. New precipitation amounts of less than a tenth of an inch possible. \" title=\"Tonight: Showers likely, mainly before 11pm.  Mostly cloudy, with a low around 49. Northwest wind 8 to 10 mph becoming south southwest after midnight.  Chance of precipitation is 60%. New precipitation amounts of less than a tenth of an inch possible. \" class=\"forecast-icon\"></p><p class=\"short-desc\">Showers<br>Likely</p><p class=\"temp temp-low\">Low: 49 &deg;F</p></div></li><li class=\"forecast-tombstone\">\\n<div class=\"tombstone-container\">\\n<p class=\"period-name\">Friday<br><br></p>\\n<p><img src=\"newimages/medium/shra90.png\" alt=\"Friday: Showers, with thunderstorms also possible after 2pm.  High near 59. South southwest wind 9 to 13 mph.  Chance of precipitation is 90%. New rainfall amounts between a tenth and quarter of an inch, except higher amounts possible in thunderstorms. \" title=\"Friday: Showers, with thunderstorms also possible after 2pm.  High near 59. South southwest wind 9 to 13 mph.  Chance of precipitation is 90%. New rainfall amounts between a tenth and quarter of an inch, except higher amounts possible in thunderstorms. \" class=\"forecast-icon\"></p><p class=\"short-desc\">Showers</p><p class=\"temp temp-high\">High: 59 &deg;F</p></div></li><li class=\"forecast-tombstone\">\\n<div class=\"tombstone-container\">\\n<p class=\"period-name\">Friday<br>Night</p>\\n<p><img src=\"DualImage.php?i=nshra&j=nbkn&ip=80\" alt=\"Friday Night: Showers before 11pm.  Low around 50. West wind 6 to 11 mph becoming south southeast in the evening.  Chance of precipitation is 80%. New precipitation amounts of less than a tenth of an inch possible. \" title=\"Friday Night: Showers before 11pm.  Low around 50. West wind 6 to 11 mph becoming south southeast in the evening.  Chance of precipitation is 80%. New precipitation amounts of less than a tenth of an inch possible. \" class=\"forecast-icon\"></p><p class=\"short-desc\">Showers then<br>Mostly Cloudy</p><p class=\"temp temp-low\">Low: 50 &deg;F</p></div></li><li class=\"forecast-tombstone\">\\n<div class=\"tombstone-container\">\\n<p class=\"period-name\">Saturday<br><br></p>\\n<p><img src=\"DualImage.php?i=shra&j=bkn&ip=20\" alt=\"Saturday: A 20 percent chance of showers before 11am.  Partly sunny, with a high near 65. South wind 5 to 11 mph becoming west in the afternoon. \" title=\"Saturday: A 20 percent chance of showers before 11am.  Partly sunny, with a high near 65. South wind 5 to 11 mph becoming west in the afternoon. \" class=\"forecast-icon\"></p><p class=\"short-desc\">Slight Chance<br>Showers then<br>Partly Sunny</p><p class=\"temp temp-high\">High: 65 &deg;F</p></div></li><li class=\"forecast-tombstone\">\\n<div class=\"tombstone-container\">\\n<p class=\"period-name\">Saturday<br>Night</p>\\n<p><img src=\"newimages/medium/nsct.png\" alt=\"Saturday Night: Partly cloudy, with a low around 50. North northwest wind 7 to 11 mph becoming northeast in the evening. \" title=\"Saturday Night: Partly cloudy, with a low around 50. North northwest wind 7 to 11 mph becoming northeast in the evening. \" class=\"forecast-icon\"></p><p class=\"short-desc\">Partly Cloudy</p><p class=\"temp temp-low\">Low: 50 &deg;F</p></div></li><li class=\"forecast-tombstone\">\\n<div class=\"tombstone-container\">\\n<p class=\"period-name\">Sunday<br><br></p>\\n<p><img src=\"newimages/medium/sct.png\" alt=\"Sunday: Mostly sunny, with a high near 71.\" title=\"Sunday: Mostly sunny, with a high near 71.\" class=\"forecast-icon\"></p><p class=\"short-desc\">Mostly Sunny</p><p class=\"temp temp-high\">High: 71 &deg;F</p></div></li><li class=\"forecast-tombstone\">\\n<div class=\"tombstone-container\">\\n<p class=\"period-name\">Sunday<br>Night</p>\\n<p><img src=\"newimages/medium/nsct.png\" alt=\"Sunday Night: Partly cloudy, with a low around 54.\" title=\"Sunday Night: Partly cloudy, with a low around 54.\" class=\"forecast-icon\"></p><p class=\"short-desc\">Partly Cloudy</p><p class=\"temp temp-low\">Low: 54 &deg;F</p></div></li><li class=\"forecast-tombstone\">\\n<div class=\"tombstone-container\">\\n<p class=\"period-name\">Monday<br><br></p>\\n<p><img src=\"newimages/medium/sct.png\" alt=\"Monday: Mostly sunny, with a high near 75.\" title=\"Monday: Mostly sunny, with a high near 75.\" class=\"forecast-icon\"></p><p class=\"short-desc\">Mostly Sunny</p><p class=\"temp temp-high\">High: 75 &deg;F</p></div></li><li class=\"forecast-tombstone\">\\n<div class=\"tombstone-container\">\\n<p class=\"period-name\">Monday<br>Night</p>\\n<p><img src=\"newimages/medium/nsct.png\" alt=\"Monday Night: Partly cloudy, with a low around 58.\" title=\"Monday Night: Partly cloudy, with a low around 58.\" class=\"forecast-icon\"></p><p class=\"short-desc\">Partly Cloudy</p><p class=\"temp temp-low\">Low: 58 &deg;F</p></div></li></ul></div>\\n<script type=\"text/javascript\">\\n// equalize forecast heights\\n$(function () {\\n\\tvar maxh = 0;\\n\\t$(\".forecast-tombstone .short-desc\").each(function () {\\n\\t\\tvar h = $(this).height();\\n\\t\\tif (h > maxh) { maxh = h; }\\n\\t});\\n\\t$(\".forecast-tombstone .short-desc\").height(maxh);\\n});\\n</script>\\t</div>\\n</div>\\n\\n<!-- Everything between 7-Day Forecast and Footer goes in this row -->\\n<div id=\"floatingDivs\" class=\"row\">\\n    <!-- Everything on the left-hand side -->\\n    <div class=\"col-md-7 col-lg-8\">\\n        <!-- Detailed Forecast -->\\n        <div id=\"detailed-forecast\" class=\"panel panel-default\">\\n\\t    <div class=\"panel-heading\">\\n            <h2 class=\"panel-title\">Detailed Forecast</h2>\\n        </div>\\n\\t    <div class=\"panel-body\" id=\"detailed-forecast-body\">\\n            <div class=\"row row-odd row-forecast\"><div class=\"col-sm-2 forecast-label\"><b>Tonight</b></div><div class=\"col-sm-10 forecast-text\">Showers likely, mainly before 11pm.  Mostly cloudy, with a low around 49. Northwest wind 8 to 10 mph becoming south southwest after midnight.  Chance of precipitation is 60%. New precipitation amounts of less than a tenth of an inch possible. </div></div><div class=\"row row-even row-forecast\"><div class=\"col-sm-2 forecast-label\"><b>Friday</b></div><div class=\"col-sm-10 forecast-text\">Showers, with thunderstorms also possible after 2pm.  High near 59. South southwest wind 9 to 13 mph.  Chance of precipitation is 90%. New rainfall amounts between a tenth and quarter of an inch, except higher amounts possible in thunderstorms. </div></div><div class=\"row row-odd row-forecast\"><div class=\"col-sm-2 forecast-label\"><b>Friday Night</b></div><div class=\"col-sm-10 forecast-text\">Showers before 11pm.  Low around 50. West wind 6 to 11 mph becoming south southeast in the evening.  Chance of precipitation is 80%. New precipitation amounts of less than a tenth of an inch possible. </div></div><div class=\"row row-even row-forecast\"><div class=\"col-sm-2 forecast-label\"><b>Saturday</b></div><div class=\"col-sm-10 forecast-text\">A 20 percent chance of showers before 11am.  Partly sunny, with a high near 65. South wind 5 to 11 mph becoming west in the afternoon. </div></div><div class=\"row row-odd row-forecast\"><div class=\"col-sm-2 forecast-label\"><b>Saturday Night</b></div><div class=\"col-sm-10 forecast-text\">Partly cloudy, with a low around 50. North northwest wind 7 to 11 mph becoming northeast in the evening. </div></div><div class=\"row row-even row-forecast\"><div class=\"col-sm-2 forecast-label\"><b>Sunday</b></div><div class=\"col-sm-10 forecast-text\">Mostly sunny, with a high near 71.</div></div><div class=\"row row-odd row-forecast\"><div class=\"col-sm-2 forecast-label\"><b>Sunday Night</b></div><div class=\"col-sm-10 forecast-text\">Partly cloudy, with a low around 54.</div></div><div class=\"row row-even row-forecast\"><div class=\"col-sm-2 forecast-label\"><b>Monday</b></div><div class=\"col-sm-10 forecast-text\">Mostly sunny, with a high near 75.</div></div><div class=\"row row-odd row-forecast\"><div class=\"col-sm-2 forecast-label\"><b>Monday Night</b></div><div class=\"col-sm-10 forecast-text\">Partly cloudy, with a low around 58.</div></div><div class=\"row row-even row-forecast\"><div class=\"col-sm-2 forecast-label\"><b>Tuesday</b></div><div class=\"col-sm-10 forecast-text\">Mostly sunny, with a high near 79.</div></div><div class=\"row row-odd row-forecast\"><div class=\"col-sm-2 forecast-label\"><b>Tuesday Night</b></div><div class=\"col-sm-10 forecast-text\">Partly cloudy, with a low around 61.</div></div><div class=\"row row-even row-forecast\"><div class=\"col-sm-2 forecast-label\"><b>Wednesday</b></div><div class=\"col-sm-10 forecast-text\">Mostly sunny, with a high near 85.</div></div><div class=\"row row-odd row-forecast\"><div class=\"col-sm-2 forecast-label\"><b>Wednesday Night</b></div><div class=\"col-sm-10 forecast-text\">Partly cloudy, with a low around 61.</div></div><div class=\"row row-even row-forecast\"><div class=\"col-sm-2 forecast-label\"><b>Thursday</b></div><div class=\"col-sm-10 forecast-text\">Mostly sunny, with a high near 79.</div></div>        </div>\\n\\t</div>\\n\\t<!-- /Detailed Forecast -->\\n\\n        \\n        <!-- Additional Forecasts and Information -->\\n        <div id=\"additional_forecasts\" class=\"panel panel-default\">\\n\\t    <div class=\"panel-heading\">\\n\\t\\t<h2 class=\"panel-title\">Additional Forecasts and Information</h2>\\n\\t    </div>\\n\\n\\t    <div class=\"panel-body\" id=\"additional-forecasts-body\">\\n\\t\\t<p class=\"myforecast-location\"><a href=\"MapClick.php?zoneid=WAZ558\">Zone Area Forecast for Seattle and Vicinity, WA</a></p>\\n                <!-- First nine-ten links -->\\n\\t\\t<div id=\"linkBlockContainer\">\\n\\t\\t    <div class=\"linkBlock\">\\n                <ul class=\"list-unstyled\">\\n                    <li><a href=\"//forecast.weather.gov/product.php?site=SEW&issuedby=SEW&product=AFD&format=CI&version=1&glossary=1\">Forecast Discussion</a></li>\\n                    <li><a href=\"MapClick.php?lat=47.6036&lon=-122.3294&unit=0&lg=english&FcstType=text&TextType=2\">Printable Forecast</a></li>\\n                    <li><a href=\"MapClick.php?lat=47.6036&lon=-122.3294&unit=0&lg=english&FcstType=text&TextType=1\">Text Only Forecast</a></li>\\n                </ul>\\n            </div>\\n\\t\\t    <div class=\"linkBlock\">\\n                <ul class=\"list-unstyled\">\\n                    <li><a href=\"MapClick.php?lat=47.6036&lon=-122.3294&unit=0&lg=english&FcstType=graphical\">Hourly Weather Forecast</a></li>\\n                    <li><a href=\"MapClick.php?lat=47.6036&lon=-122.3294&unit=0&lg=english&FcstType=digital\">Tabular Forecast</a></li>\\n                    <!-- <li><a href=\"afm/PointClick.php?lat=47.6036&lon=-122.3294\">Quick Forecast</a></li> -->\\n                </ul>\\n            </div>\\n\\t\\t    <div class=\"linkBlock\">\\n                <ul class=\"list-unstyled\">\\n                    <li><a href=\"//weather.gov/aq/probe_aq_data.php?latitude=47.6036&longitude=-122.3294\">Air Quality Forecasts</a></li>\\n                    <li><a href=\"MapClick.php?lat=47.6036&lon=-122.3294&FcstType=text&unit=1&lg=en\">International System of Units</a></li>\\n                                        <li><a href=\"//www.wrh.noaa.gov/forecast/wxtables/index.php?lat=47.6036&lon=-122.3294\">Forecast Weather Table Interface</a></li>\\n                                    </ul>\\n\\t\\t    </div>\\n\\t\\t    <!-- /First nine-ten links -->\\n                <!-- Additional links -->\\n                    <div class=\"linkBlock\"><ul class=\"list-unstyled\"><li><a href=\"http://www.nws.noaa.gov/wtf/udaf/area/?site=sew\" target=\"_self\">User Defined Area</a></li></ul></div><div class=\"linkBlock\"><ul class=\"list-unstyled\"></ul></div><div class=\"linkBlock\"><ul class=\"list-unstyled\"></ul></div>\\n\\t\\t</div> <!-- /linkBlockContainer -->\\n\\t    </div><!-- /additional-forecasts-body-->\\n\\t</div> <!-- /additional_forecasts -->\\n    </div> <!-- /Everything on the left-hand side -->\\n\\n    <!-- right-side-data -->\\n    <div class=\"col-md-5 col-lg-4\" id=\"right-side-data\">\\n\\t<div id=\"mapAndDescriptionArea\">\\n        <!-- openlayer map -->\\n            <style>\\n#custom-search{\\ndisplay: block;\\nposition: relative;\\nz-index: 50;\\ntop: 52px;\\nleft: 60px;\\n}\\n#esri-geocoder-search{\\ndisplay: block;\\nposition: relative;\\nz-index: 50;\\ntop: 52px;\\nleft: 60px;\\n}\\n#emap{\\nmargin-top:15px;\\ncursor:pointer;\\nheight:370px;\\nwidth:100%;\\nborder: 1px solid #ccc;\\nborder-radius: 3px;\\n}\\n#switch-basemap-container{\\n}\\n#basemap-selection-form ul{\\nlist-style: none;\\n margin: 0px;\\n}\\n#basemap-selection-form li{\\nfloat: left;\\n}\\n.disclaimer{\\nmargin-top:350px;\\nmargin-left: 5px;\\nz-index: 100;\\nposition: absolute;\\ntext-transform: none;\\n}\\n.esriAttributionLastItem{\\ntext-transform: none;\\n}\\n.esriSimpleSlider div{\\nheight:22px;\\nline-height:20px;\\nwidth:20px;\\n}\\n#point-forecast-map-label {\\ntext-align:center;\\nfont-weight:bold;\\ncolor:black;\\n}\\n@media (max-width: 767px) {\\n#emap{\\nmargin-top:.5em;\\nheight:270px;\\n}\\n.disclaimer{\\nmargin-top:250px;\\n}\\n}\\n</style>\\n<!-- forecast-map -->\\n<div class=\\'point-forecast-map\\'>\\n    <div class=\\'point-forecast-map-header text-center\\'>\\n        <div id=\"toolbar\">\\n    \\t<div id=\"switch-basemap-container\">\\n    \\t    <div id=\"basemap-selection-form\" title=\"Choose a Basemap\">\\n    \\t\\t<div id=\"basemap-menu\">\\n    \\t\\t    <select name=\"basemap-selected\" id=\"basemap-selected\" autocomplete=\"off\" title=\"Basemap Dropdown Menu\">\\n    \\t\\t    <option value=\"none\">Select Basemap</option>\\n    \\t\\t    <option value=\"topo\" selected>Topographic</option>\\n    \\t\\t    <option value=\"streets\">Streets</option>\\n    \\t\\t    <option value=\"satellite\">Satellite</option>\\n    \\t\\t    <option value=\"ocean\">Ocean</option>\\n    \\t\\t    </select>\\n    \\t\\t</div>\\n    \\t    </div>\\n    \\t    <div id=\"point-forecast-map-label\">\\n                    Click Map For Forecast\\n                </div>\\n    \\t</div><!-- //#switch-basemap-container -->\\n    \\t<div style=\"clear:both;\"></div>\\n        </div><!-- //#toolbar -->\\n    </div><!-- //.point-forecast-map-header -->\\n\\n    <div id=\"emap\">\\n        <noscript><center><br><br><b>Map function requires Javascript and a compatible browser.</b></center></noscript>\\n        <div class=\"disclaimer\"><a href=\\'http://www.weather.gov/disclaimer#esri\\'>Disclaimer</a></div>\\n    </div><!-- //#emap -->\\n\\n    <div class=\"point-forecast-map-footer\">\\n        <img src=\"./images/wtf/maplegend_forecast-area.gif\" width=\"100\" height=\"16\" alt=\"Map Legend\">\\n    </div><!-- //.point-forecast-map-footer -->\\n\\n</div> <!-- //.point-forecast-map -->\\n<!-- //forecast-map -->\\n        <!-- //openlayer map -->\\n\\n\\t    <!-- About this Forecast -->\\n        <div id=\"about_forecast\">\\n            <div class=\"fullRow\">\\n                <div class=\"left\">Point Forecast:</div>\\n                <div class=\"right\">Downtown Seattle WA<br>&nbsp;47.61&deg;N 122.32&deg;W (Elev. 240 ft)</div>\\n                    </div>\\n            <div class=\"fullRow\">\\n                <div class=\"left\"><a target=\"_blank\" href=\"//www.weather.gov/glossary/index.php?word=Last+update\">Last Update</a>: </div>\\n                <div class=\"right\">2:46 pm PDT Jun 6, 2019</div>\\n            </div>\\n            <div class=\"fullRow\">\\n                <div class=\"left\"><a target=\"_blank\" href=\"//www.weather.gov/glossary/index.php?word=forecast+valid+for\">Forecast Valid</a>: </div>\\n                <div class=\"right\">7pm PDT Jun 6, 2019-6pm PDT Jun 13, 2019</div>\\n            </div>\\n            <div class=\"fullRow\">\\n                <div class=\"left\">&nbsp;</div>\\n                <div class=\"right\"><a href=\"https://forecast.weather.gov/product.php?site=SEW&issuedby=SEW&product=AFD&format=CI&version=1&glossary=1\">Forecast Discussion</a></div>\\n            </div>\\n            <div class=\"fullRow\">\\n                <div class=\"left\">&nbsp;</div>\\n                <div class=\"right\">\\n                    <a href=\"MapClick.php?lat=47.6036&lon=-122.3294&unit=0&lg=english&FcstType=kml\"><img src=\"/images/wtf/kml_badge.png\" width=\"45\" height=\"17\" alt=\"Get as KML\" /></a>\\n                    <a href=\"MapClick.php?lat=47.6036&lon=-122.3294&unit=0&lg=english&FcstType=dwml\"><img src=\"/images/wtf/xml_badge.png\" width=\"45\" height=\"17\" alt=\"Get as XML\" /></a>\\n                </div>\\n            </div>\\n        </div>\\n\\t    <!-- /About this Forecast -->\\n\\t</div>\\n    \\n        <!--additionalForecast-->\\n        <div class=\"panel panel-default\" id=\"additionalForecast\">\\n            <div class=\"panel-heading\">\\n                <h2 class=\"panel-title\">Additional Resources</h2>\\n            </div>\\n            <div class=\"panel-body\">\\n\\n                <!-- Radar & Satellite Images -->\\n                <div id=\"radar\" class=\"subItem\">\\n                    <h4>Radar &amp; Satellite Image</h4>\\n                    <a href=\"//radar.weather.gov/radar.php?rid=atx&product=N0R&overlay=11101111&loop=no\"><img src=\"//radar.weather.gov/Thumbs/ATX_Thumb.gif\" class=\"radar-thumb\" alt=\"Link to Local Radar Data\" title=\"Link to Local Radar Data\"></a>                    <a href=\"//www.wrh.noaa.gov/satellite/?wfo=sew\"><img src=\"//www.ssd.noaa.gov/goes/west/wfo/sew/ft.jpg\" class=\"satellite-thumb\" alt=\"Link to Satellite Data\" title=\"Link to Satellite Data\"></a>                </div>\\n                <!-- /Radar & Satellite Images -->\\n                <!-- Hourly Weather Forecast -->\\n                <div id=\"feature\" class=\"subItem\">\\n                    <h4>Hourly Weather Forecast</h4>\\n                    <a href=\"MapClick.php?lat=47.6036&lon=-122.3294&unit=0&lg=english&FcstType=graphical\"><img src=\"newimages/medium/hourlyweather.png\" class=\"img-responsive\" /></a>\\n                </div>\\n                <!-- /Hourly Weather Forecast -->\\n                <!-- NDFD -->\\n                <div id=\"NDFD\" class=\"subItem\">\\n                    <h4>National Digital Forecast Database</h4>\\n                    <div class=\"one-sixth-first\"><a href=\"//graphical.weather.gov/sectors/pacnorthwest.php?element=MaxT\"><img src=\"//graphical.weather.gov/images/thumbnail/latest_MaxMinT_pacnorthwest_thumbnail.png\" border=\"0\" alt=\"National Digital Forecast Database Maximum Temperature Forecast\" title=\"National Digital Forecast Database Maximum Temperature Forecast\" width=\"147\" height=\"150\"></a>\\n\\t \\t\\t\\t<p><a href=\"//graphical.weather.gov/sectors/pacnorthwest.php?element=MaxT\">High Temperature</a></p></div><div class=\"one-sixth-first\"><a href=\"//graphical.weather.gov/sectors/pacnorthwest.php?element=Wx\"><img src=\"//graphical.weather.gov/images/thumbnail/latest_Wx_pacnorthwest_thumbnail.png\" border=\"0\" alt=\"National Digital Forecast Database Weather Element Forecast\" title=\"National Digital Forecast Database Weather Element Forecast\" width=\"147\" height=\"150\"></a>\\n\\t \\t\\t\\t<p><a href=\"//graphical.weather.gov/sectors/pacnorthwest.php?element=Wx\">Chance of Precipitation</a></p></div>                </div>\\n                <!-- /NDFD -->\\n            </div>\\n        </div>\\n        <!-- /additionalForecast -->\\n\\n    </div>\\n    <!-- /col-md-4 -->\\n    <!-- /right-side-data -->\\n    <script language=\\'javascript\\'>$( document ).ready(function() { load_openlayers_map(\\'\\', \\'\\', \\'\\', \\'{\"centroid_lat\":\"47.6036\",\"centroid_lon\":\"-122.3294\",\"lat1\":\"47.5955\",\"lon1\":\"-122.332\",\"lat2\":\"47.616\",\"lon2\":\"-122.338\",\"lat3\":\"47.62\",\"lon3\":\"-122.3075\",\"lat4\":\"47.5995\",\"lon4\":\"-122.3015\"}\\') });</script></div>\\n<!-- /row  -->\\n\\n\\n</div>\\n<!-- /PageFormat-Land -->\\n\\n\\t    </div>\\n            <footer>\\n                        <div id=\"sitemap\" class=\"sitemap-content row\">\\r\\n            <div class=\"col-xs-12\">\\r\\n                <div class=\"sitemap-columns\">\\r\\n                                                    <div class=\"sitemap-section\">\\r\\n                                    <div class=\"panel-heading\">\\r\\n                                        <a class=\"sitemap-section-heading\" href=\" http://www.nws.noaa.gov/climate/\">PAST WEATHER</a>\\r\\n                                        <button type=\"button\" class=\"menu-toggle pull-right\" data-toggle=\"collapse\" data-target=\"#sitemap-1\">\\r\\n                                            <span class=\"sr-only\">Toggle menu</span>\\r\\n                                            <span class=\"icon-bar\"></span>\\r\\n                                            <span class=\"icon-bar\"></span>\\r\\n                                            <span class=\"icon-bar\"></span>\\r\\n                                        </button>\\r\\n                                    </div>\\r\\n                                    <div class=\"sitemap-section-body panel-body collapsable collapse\" id=\"sitemap-1\">\\r\\n                                        <ul class=\"list-unstyled\">\\r\\n                                                                                            <li><a href=\" http://www.cpc.ncep.noaa.gov/products/MD_index.shtml\">Climate Monitoring </a></li>\\r\\n                                                                                                <li><a href=\"https://w2.weather.gov/climate/\">Past Weather </a></li>\\r\\n                                                                                                <li><a href=\" http://www.nws.noaa.gov/climate/\">Monthly Temps </a></li>\\r\\n                                                                                                <li><a href=\" http://www.nws.noaa.gov/climate/\">Records </a></li>\\r\\n                                                                                                <li><a href=\" http://aa.usno.navy.mil/\">Astronomical Data </a></li>\\r\\n                                                                                                <li><a href=\"https://www.climate.gov/maps-data/dataset/past-weather-zip-code-data-table\">Certified Weather Data </a></li>\\r\\n                                                                                        </ul>\\r\\n                                    </div>\\r\\n                                </div>\\r\\n                                                                <div class=\"sitemap-section\">\\r\\n                                    <div class=\"panel-heading\">\\r\\n                                        <a class=\"sitemap-section-heading\" href=\"http://alerts.weather.gov\">ACTIVE ALERTS</a>\\r\\n                                        <button type=\"button\" class=\"menu-toggle pull-right\" data-toggle=\"collapse\" data-target=\"#sitemap-2\">\\r\\n                                            <span class=\"sr-only\">Toggle menu</span>\\r\\n                                            <span class=\"icon-bar\"></span>\\r\\n                                            <span class=\"icon-bar\"></span>\\r\\n                                            <span class=\"icon-bar\"></span>\\r\\n                                        </button>\\r\\n                                    </div>\\r\\n                                    <div class=\"sitemap-section-body panel-body collapsable collapse\" id=\"sitemap-2\">\\r\\n                                        <ul class=\"list-unstyled\">\\r\\n                                                                                            <li><a href=\" http://alerts.weather.gov\">Warnings By State</a></li>\\r\\n                                                                                                <li><a href=\" http://www.wpc.ncep.noaa.gov/ww.shtml\">Excessive Rainfall and Winter Weather Forecasts</a></li>\\r\\n                                                                                                <li><a href=\"http://water.weather.gov/ahps/?current_color=flood&amp;current_type=all&amp;fcst_type=obs&amp;conus_map=d_map\">River Flooding </a></li>\\r\\n                                                                                                <li><a href=\" http://www.weather.gov\">Latest Warnings</a></li>\\r\\n                                                                                                <li><a href=\" http://www.spc.noaa.gov/products/outlook/\">Thunderstorm/Tornado Outlook </a></li>\\r\\n                                                                                                <li><a href=\" http://www.nhc.noaa.gov/\">Hurricanes </a></li>\\r\\n                                                                                                <li><a href=\" http://www.spc.noaa.gov/products/fire_wx/\">Fire Weather Outlooks </a></li>\\r\\n                                                                                                <li><a href=\" http://www.cpc.ncep.noaa.gov/products/stratosphere/uv_index/uv_alert.shtml\">UV Alerts </a></li>\\r\\n                                                                                                <li><a href=\" http://www.drought.gov/\">Drought </a></li>\\r\\n                                                                                                <li><a href=\"http://www.swpc.noaa.gov/products/alerts-watches-and-warnings\">Space Weather </a></li>\\r\\n                                                                                                <li><a href=\" http://www.nws.noaa.gov/nwr/\">NOAA Weather Radio </a></li>\\r\\n                                                                                                <li><a href=\" http://alerts.weather.gov/\">NWS CAP Feeds </a></li>\\r\\n                                                                                        </ul>\\r\\n                                    </div>\\r\\n                                </div>\\r\\n                                                                <div class=\"sitemap-section\">\\r\\n                                    <div class=\"panel-heading\">\\r\\n                                        <a class=\"sitemap-section-heading\" href=\"http://www.weather.gov/current\">CURRENT CONDITIONS</a>\\r\\n                                        <button type=\"button\" class=\"menu-toggle pull-right\" data-toggle=\"collapse\" data-target=\"#sitemap-3\">\\r\\n                                            <span class=\"sr-only\">Toggle menu</span>\\r\\n                                            <span class=\"icon-bar\"></span>\\r\\n                                            <span class=\"icon-bar\"></span>\\r\\n                                            <span class=\"icon-bar\"></span>\\r\\n                                        </button>\\r\\n                                    </div>\\r\\n                                    <div class=\"sitemap-section-body panel-body collapsable collapse\" id=\"sitemap-3\">\\r\\n                                        <ul class=\"list-unstyled\">\\r\\n                                                                                            <li><a href=\" http://www.weather.gov/Radar\">Radar </a></li>\\r\\n                                                                                                <li><a href=\"http://www.cpc.ncep.noaa.gov/products/monitoring_and_data/\">Climate Monitoring </a></li>\\r\\n                                                                                                <li><a href=\" http://water.weather.gov/ahps/\">River Levels </a></li>\\r\\n                                                                                                <li><a href=\" http://water.weather.gov/precip/\">Observed Precipitation </a></li>\\r\\n                                                                                                <li><a href=\"http://www.nws.noaa.gov/om/osd/portal.shtml\">Surface Weather </a></li>\\r\\n                                                                                                <li><a href=\"http://www.spc.noaa.gov/obswx/maps/\">Upper Air </a></li>\\r\\n                                                                                                <li><a href=\" http://www.ndbc.noaa.gov/\">Marine and Buoy Reports </a></li>\\r\\n                                                                                                <li><a href=\"http://www.nohrsc.noaa.gov/interactive/html/map.html\">Snow Cover </a></li>\\r\\n                                                                                                <li><a href=\" http://www.weather.gov/satellite\">Satellite </a></li>\\r\\n                                                                                                <li><a href=\" http://www.swpc.noaa.gov/\">Space Weather </a></li>\\r\\n                                                                                                <li><a href=\"http://www.weather.gov/pr\">International Observations</a></li>\\r\\n                                                                                        </ul>\\r\\n                                    </div>\\r\\n                                </div>\\r\\n                                                                <div class=\"sitemap-section\">\\r\\n                                    <div class=\"panel-heading\">\\r\\n                                        <a class=\"sitemap-section-heading\" href=\"http://weather.gov/forecastmaps\">FORECAST</a>\\r\\n                                        <button type=\"button\" class=\"menu-toggle pull-right\" data-toggle=\"collapse\" data-target=\"#sitemap-4\">\\r\\n                                            <span class=\"sr-only\">Toggle menu</span>\\r\\n                                            <span class=\"icon-bar\"></span>\\r\\n                                            <span class=\"icon-bar\"></span>\\r\\n                                            <span class=\"icon-bar\"></span>\\r\\n                                        </button>\\r\\n                                    </div>\\r\\n                                    <div class=\"sitemap-section-body panel-body collapsable collapse\" id=\"sitemap-4\">\\r\\n                                        <ul class=\"list-unstyled\">\\r\\n                                                                                            <li><a href=\" http://www.weather.gov/\">Local Forecast </a></li>\\r\\n                                                                                                <li><a href=\"http://www.weather.gov/pr\">International Forecasts</a></li>\\r\\n                                                                                                <li><a href=\" http://www.spc.noaa.gov/\">Severe Weather </a></li>\\r\\n                                                                                                <li><a href=\" http://www.wpc.ncep.noaa.gov/\">Current Outlook Maps </a></li>\\r\\n                                                                                                <li><a href=\"http://www.cpc.ncep.noaa.gov/products/Drought\">Drought </a></li>\\r\\n                                                                                                <li><a href=\"http://www.weather.gov/fire\">Fire Weather </a></li>\\r\\n                                                                                                <li><a href=\" http://www.wpc.ncep.noaa.gov/\">Fronts/Precipitation Maps </a></li>\\r\\n                                                                                                <li><a href=\" http://www.nws.noaa.gov/forecasts/graphical/\">Current Graphical Forecast Maps </a></li>\\r\\n                                                                                                <li><a href=\"http://water.weather.gov/ahps/forecasts.php\">Rivers </a></li>\\r\\n                                                                                                <li><a href=\" http://www.nws.noaa.gov/om/marine/home.htm\">Marine </a></li>\\r\\n                                                                                                <li><a href=\"http://www.opc.ncep.noaa.gov/marine_areas.php\">Offshore and High Seas</a></li>\\r\\n                                                                                                <li><a href=\" http://www.nhc.noaa.gov/\">Hurricanes </a></li>\\r\\n                                                                                                <li><a href=\" http://aviationweather.gov\">Aviation Weather </a></li>\\r\\n                                                                                                <li><a href=\"http://www.cpc.ncep.noaa.gov/products/OUTLOOKS_index.shtml\">Climatic Outlook </a></li>\\r\\n                                                                                        </ul>\\r\\n                                    </div>\\r\\n                                </div>\\r\\n                                                                <div class=\"sitemap-section\">\\r\\n                                    <div class=\"panel-heading\">\\r\\n                                        <a class=\"sitemap-section-heading\" href=\"http://www.weather.gov/informationcenter\">INFORMATION CENTER</a>\\r\\n                                        <button type=\"button\" class=\"menu-toggle pull-right\" data-toggle=\"collapse\" data-target=\"#sitemap-5\">\\r\\n                                            <span class=\"sr-only\">Toggle menu</span>\\r\\n                                            <span class=\"icon-bar\"></span>\\r\\n                                            <span class=\"icon-bar\"></span>\\r\\n                                            <span class=\"icon-bar\"></span>\\r\\n                                        </button>\\r\\n                                    </div>\\r\\n                                    <div class=\"sitemap-section-body panel-body collapsable collapse\" id=\"sitemap-5\">\\r\\n                                        <ul class=\"list-unstyled\">\\r\\n                                                                                            <li><a href=\" http://www.spaceweather.gov\">Space Weather </a></li>\\r\\n                                                                                                <li><a href=\"http://www.weather.gov/briefing/\">Daily Briefing </a></li>\\r\\n                                                                                                <li><a href=\" http://www.nws.noaa.gov/om/marine/home.htm\">Marine </a></li>\\r\\n                                                                                                <li><a href=\"http://www.nws.noaa.gov/climate\">Climate </a></li>\\r\\n                                                                                                <li><a href=\"http://www.weather.gov/fire\">Fire Weather </a></li>\\r\\n                                                                                                <li><a href=\" http://www.aviationweather.gov/\">Aviation </a></li>\\r\\n                                                                                                <li><a href=\"http://mag.ncep.noaa.gov/\">Forecast Models </a></li>\\r\\n                                                                                                <li><a href=\"http://water.weather.gov/ahps/\">Water </a></li>\\r\\n                                                                                                <li><a href=\"https://www.weather.gov/gis/\">GIS</a></li>\\r\\n                                                                                                <li><a href=\" http://www.nws.noaa.gov/om/coop/\">Cooperative Observers </a></li>\\r\\n                                                                                                <li><a href=\"https://www.weather.gov/skywarn/\">Storm Spotters </a></li>\\r\\n                                                                                                <li><a href=\"http://www.tsunami.gov\">Tsunami Warning System</a></li>\\r\\n                                                                                                <li><a href=\"http://water.noaa.gov/\">National Water Center</a></li>\\r\\n                                                                                                <li><a href=\"http://www.weather.gov/pr\">International Weather</a></li>\\r\\n                                                                                        </ul>\\r\\n                                    </div>\\r\\n                                </div>\\r\\n                                                                <div class=\"sitemap-section\">\\r\\n                                    <div class=\"panel-heading\">\\r\\n                                        <a class=\"sitemap-section-heading\" href=\"http://weather.gov/safety\">WEATHER SAFETY</a>\\r\\n                                        <button type=\"button\" class=\"menu-toggle pull-right\" data-toggle=\"collapse\" data-target=\"#sitemap-6\">\\r\\n                                            <span class=\"sr-only\">Toggle menu</span>\\r\\n                                            <span class=\"icon-bar\"></span>\\r\\n                                            <span class=\"icon-bar\"></span>\\r\\n                                            <span class=\"icon-bar\"></span>\\r\\n                                        </button>\\r\\n                                    </div>\\r\\n                                    <div class=\"sitemap-section-body panel-body collapsable collapse\" id=\"sitemap-6\">\\r\\n                                        <ul class=\"list-unstyled\">\\r\\n                                                                                            <li><a href=\"http://www.weather.gov/nwr/\">NOAA Weather Radio</a></li>\\r\\n                                                                                                <li><a href=\"http://www.weather.gov/stormready/\">StormReady</a></li>\\r\\n                                                                                                <li><a href=\"http://www.nws.noaa.gov/om/heat/index.shtml\">Heat </a></li>\\r\\n                                                                                                <li><a href=\" http://www.lightningsafety.noaa.gov/\">Lightning </a></li>\\r\\n                                                                                                <li><a href=\" http://www.nhc.noaa.gov/prepare/\">Hurricanes </a></li>\\r\\n                                                                                                <li><a href=\"http://www.nws.noaa.gov/om/thunderstorm/\">Thunderstorms </a></li>\\r\\n                                                                                                <li><a href=\"https://www.weather.gov/safety/tornado\">Tornadoes </a></li>\\r\\n                                                                                                <li><a href=\" http://www.ripcurrents.noaa.gov/\">Rip Currents </a></li>\\r\\n                                                                                                <li><a href=\"http://www.floodsafety.noaa.gov/\">Floods </a></li>\\r\\n                                                                                                <li><a href=\"https://www.weather.gov/safety/tsunami\">Tsunamis</a></li>\\r\\n                                                                                                <li><a href=\"https://www.weather.gov/tsunamiready/\">TsunamiReady</a></li>\\r\\n                                                                                                <li><a href=\" http://www.weather.gov/om/winter/index.shtml\">Winter Weather </a></li>\\r\\n                                                                                                <li><a href=\"http://www.nws.noaa.gov/om/heat/uv.shtml\">Ultra Violet Radiation </a></li>\\r\\n                                                                                                <li><a href=\" http://www.weather.gov/airquality/\">Air Quality </a></li>\\r\\n                                                                                                <li><a href=\" http://www.weather.gov/om/hazstats.shtml\">Damage/Fatality/Injury Statistics </a></li>\\r\\n                                                                                                <li><a href=\" http://www.redcross.org/\">Red Cross </a></li>\\r\\n                                                                                                <li><a href=\" http://www.fema.gov/\">Federal Emergency Management Agency (FEMA) </a></li>\\r\\n                                                                                                <li><a href=\" http://www.weather.gov/om/brochures.shtml\">Brochures </a></li>\\r\\n                                                                                                <li><a href=\"http://www.nws.noaa.gov/os/marine/safeboating/\">Safe Boating</a></li>\\r\\n                                                                                        </ul>\\r\\n                                    </div>\\r\\n                                </div>\\r\\n                                                                <div class=\"sitemap-section\">\\r\\n                                    <div class=\"panel-heading\">\\r\\n                                        <a class=\"sitemap-section-heading\" href=\"http://weather.gov/news\">NEWS</a>\\r\\n                                        <button type=\"button\" class=\"menu-toggle pull-right\" data-toggle=\"collapse\" data-target=\"#sitemap-7\">\\r\\n                                            <span class=\"sr-only\">Toggle menu</span>\\r\\n                                            <span class=\"icon-bar\"></span>\\r\\n                                            <span class=\"icon-bar\"></span>\\r\\n                                            <span class=\"icon-bar\"></span>\\r\\n                                        </button>\\r\\n                                    </div>\\r\\n                                    <div class=\"sitemap-section-body panel-body collapsable collapse\" id=\"sitemap-7\">\\r\\n                                        <ul class=\"list-unstyled\">\\r\\n                                                                                            <li><a href=\" http://weather.gov/news\">Newsroom</a></li>\\r\\n                                                                                                <li><a href=\" http://weather.gov/socialmedia\">Social Media </a></li>\\r\\n                                                                                                <li><a href=\"http://www.nws.noaa.gov/com/weatherreadynation/calendar.html\">Events</a></li>\\r\\n                                                                                                <li><a href=\" http://www.weather.gov/om/brochures.shtml\">Pubs/Brochures/Booklets </a></li>\\r\\n                                                                                        </ul>\\r\\n                                    </div>\\r\\n                                </div>\\r\\n                                                                <div class=\"sitemap-section\">\\r\\n                                    <div class=\"panel-heading\">\\r\\n                                        <a class=\"sitemap-section-heading\" href=\"http://weather.gov/owlie\">EDUCATION</a>\\r\\n                                        <button type=\"button\" class=\"menu-toggle pull-right\" data-toggle=\"collapse\" data-target=\"#sitemap-8\">\\r\\n                                            <span class=\"sr-only\">Toggle menu</span>\\r\\n                                            <span class=\"icon-bar\"></span>\\r\\n                                            <span class=\"icon-bar\"></span>\\r\\n                                            <span class=\"icon-bar\"></span>\\r\\n                                        </button>\\r\\n                                    </div>\\r\\n                                    <div class=\"sitemap-section-body panel-body collapsable collapse\" id=\"sitemap-8\">\\r\\n                                        <ul class=\"list-unstyled\">\\r\\n                                                                                            <li><a href=\"http://weather.gov/owlie\">NWS Education Home</a></li>\\r\\n                                                                                                <li><a href=\"http://www.nws.noaa.gov/com/weatherreadynation/force.html\">Be A Force of Nature</a></li>\\r\\n                                                                                                <li><a href=\" http://www.education.noaa.gov/Weather_and_Atmosphere/\">NOAA Education Resources </a></li>\\r\\n                                                                                                <li><a href=\" http://www.weather.gov/glossary/\">Glossary </a></li>\\r\\n                                                                                                <li><a href=\"https://www.weather.gov/jetstream/\">JetStream </a></li>\\r\\n                                                                                                <li><a href=\" http://www.weather.gov/training/\">NWS Training Portal </a></li>\\r\\n                                                                                                <li><a href=\"https://library.noaa.gov/\">NOAA Library </a></li>\\r\\n                                                                                                <li><a href=\"http://weather.gov/owlie\">For Students, Parents and Teachers</a></li>\\r\\n                                                                                                <li><a href=\"http://www.weather.gov/owlie/publication_brochures\">Brochures </a></li>\\r\\n                                                                                        </ul>\\r\\n                                    </div>\\r\\n                                </div>\\r\\n                                                                <div class=\"sitemap-section\">\\r\\n                                    <div class=\"panel-heading\">\\r\\n                                        <a class=\"sitemap-section-heading\" href=\"http://weather.gov/about\">ABOUT</a>\\r\\n                                        <button type=\"button\" class=\"menu-toggle pull-right\" data-toggle=\"collapse\" data-target=\"#sitemap-9\">\\r\\n                                            <span class=\"sr-only\">Toggle menu</span>\\r\\n                                            <span class=\"icon-bar\"></span>\\r\\n                                            <span class=\"icon-bar\"></span>\\r\\n                                            <span class=\"icon-bar\"></span>\\r\\n                                        </button>\\r\\n                                    </div>\\r\\n                                    <div class=\"sitemap-section-body panel-body collapsable collapse\" id=\"sitemap-9\">\\r\\n                                        <ul class=\"list-unstyled\">\\r\\n                                                                                            <li><a href=\"http://weather.gov/organization\">Organization </a></li>\\r\\n                                                                                                <li><a href=\"https://www.weather.gov/media/wrn/NWS_Weather-Ready-Nation_Strategic_Plan_2019-2022.pdf\">Strategic Plan </a></li>\\r\\n                                                                                                <li><a href=\"https://sites.google.com/a/noaa.gov/nws-best-practices/\">For NWS Employees </a></li>\\r\\n                                                                                                <li><a href=\"https://www.weather.gov/international/\">International </a></li>\\r\\n                                                                                                <li><a href=\"http://www.ncep.noaa.gov/\">National Centers </a></li>\\r\\n                                                                                                <li><a href=\" http://www.weather.gov/tg/\">Products and Services </a></li>\\r\\n                                                                                                <li><a href=\"http://www.weather.gov/careers/\">Careers</a></li>\\r\\n                                                                                                <li><a href=\" http://www.weather.gov/glossary/\">Glossary </a></li>\\r\\n                                                                                                <li><a href=\"http://weather.gov/contact\">Contact Us </a></li>\\r\\n                                                                                        </ul>\\r\\n                                    </div>\\r\\n                                </div>\\r\\n                                                </div>\\r\\n            </div>\\r\\n        </div>\\r\\n        \\n                <!-- legal footer area -->\\n                \\t\\t<div class=\"footer-legal\">\\r\\n\\t\\t\\t<div id=\"footerLogo\" class=\"col-xs-12 col-sm-2 col-md-2\">\\r\\n\\t\\t\\t\\t<a href=\"http://www.usa.gov\"><img src=\"/css/images/usa_gov.png\" alt=\"usa.gov\" width=\"110\" height=\"30\" /></a>\\r\\n\\t\\t\\t</div>\\r\\n\\t\\t\\t<div class=\"col-xs-12 col-sm-4 col-md-4\">\\r\\n\\t\\t\\t\\t<ul class=\"list-unstyled footer-legal-content\">\\r\\n\\t\\t\\t\\t<li><a href=\"http://www.commerce.gov\">US Dept of Commerce</a></li>\\r\\n\\t\\t\\t\\t<li><a href=\"http://www.noaa.gov\">National Oceanic and Atmospheric Administration</a></li>\\r\\n\\t\\t\\t\\t<li><a href=\"http://www.weather.gov\">National Weather Service</a></li>\\r\\n\\t\\t\\t\\t<li><a href=\"https://www.weather.gov/sew\">Seattle/Tacoma, WA</a></li><li><br /><a href=\"mailto:w-sew.webmaster@noaa.gov\">Comments? Questions? Please Contact Us.</a></li>\\t\\t\\t\\t</ul>\\r\\n\\t\\t\\t</div>\\r\\n\\t\\t\\t<div class=\"col-xs-12 col-sm-3 col-md-3\">\\r\\n\\t\\t\\t\\t<ul class=\"list-unstyled\">\\r\\n\\t\\t\\t\\t\\t<li><a href=\"https://www.weather.gov/disclaimer\">Disclaimer</a></li>\\r\\n\\t\\t\\t\\t\\t<li><a href=\"http://www.cio.noaa.gov/services_programs/info_quality.html\">Information Quality</a></li>\\r\\n\\t\\t\\t\\t\\t<li><a href=\"https://www.weather.gov/help\">Help</a></li>\\r\\n\\t\\t\\t\\t\\t<li><a href=\"http://www.weather.gov/glossary\">Glossary</a></li>\\r\\n\\t\\t\\t\\t</ul>\\r\\n\\t\\t\\t</div>\\r\\n\\t\\t\\t<div class=\"col-xs-12 col-sm-3 col-md-3\">\\r\\n\\t\\t\\t\\t<ul class=\"list-unstyled\">\\r\\n\\t\\t\\t\\t\\t<li><a href=\"https://www.weather.gov/privacy\">Privacy Policy</a></li>\\r\\n\\t\\t\\t\\t\\t<li><a href=\"http://www.rdc.noaa.gov/~foia\">Freedom of Information Act (FOIA)</a></li>\\r\\n\\t\\t\\t\\t\\t<li><a href=\"https://www.weather.gov/about\">About Us</a></li>\\r\\n\\t\\t\\t\\t\\t<li><a href=\"https://www.weather.gov/careers\">Career Opportunities</a></li>\\r\\n\\t\\t\\t\\t</ul>\\r\\n\\t\\t\\t</div>\\r\\n\\t\\t</div>\\r\\n\\t\\t\\n            </footer>\\n        </main>\\n    </body>\\n</html>\\n'\n"
          ],
          "name": "stdout"
        }
      ]
    },
    {
      "cell_type": "markdown",
      "metadata": {
        "id": "YR6ZkrCom2Mq",
        "colab_type": "text"
      },
      "source": [
        "This would be a pain to parse by hand, so instead we use a library that lets us look at the conents of the page. This library is called Beautiful Soup which can be used like below:"
      ]
    },
    {
      "cell_type": "code",
      "metadata": {
        "id": "YrY7hqbLpoMY",
        "colab_type": "code",
        "colab": {}
      },
      "source": [
        "from bs4 import BeautifulSoup\n",
        "soup = BeautifulSoup(page.content, 'html.parser')"
      ],
      "execution_count": 0,
      "outputs": []
    },
    {
      "cell_type": "markdown",
      "metadata": {
        "id": "od3ULVv3nBv8",
        "colab_type": "text"
      },
      "source": [
        "To find the first paragraph in the page, we can write"
      ]
    },
    {
      "cell_type": "code",
      "metadata": {
        "id": "hGn7dOo-p2vO",
        "colab_type": "code",
        "outputId": "bfae5a9c-edc3-4088-8c73-28bde707a47d",
        "colab": {
          "base_uri": "https://localhost:8080/",
          "height": 119
        }
      },
      "source": [
        "soup.find('p')"
      ],
      "execution_count": 0,
      "outputs": [
        {
          "output_type": "execute_result",
          "data": {
            "text/plain": [
              "<p>\n",
              "<input checked=\"checked\" id=\"nws\" name=\"affiliate\" type=\"radio\" value=\"nws.noaa.gov\"/>\n",
              "<label class=\"search-scope\" for=\"nws\">NWS</label>\n",
              "<input id=\"noaa\" name=\"affiliate\" type=\"radio\" value=\"noaa.gov\"/>\n",
              "<label class=\"search-scope\" for=\"noaa\">All NOAA</label>\n",
              "</p>"
            ]
          },
          "metadata": {
            "tags": []
          },
          "execution_count": 29
        }
      ]
    },
    {
      "cell_type": "markdown",
      "metadata": {
        "id": "o-VQk3hvnFgr",
        "colab_type": "text"
      },
      "source": [
        "To find all the paragraphs, we would use `find_all`"
      ]
    },
    {
      "cell_type": "code",
      "metadata": {
        "id": "NS3VoU45nIpn",
        "colab_type": "code",
        "outputId": "859fac36-9a9d-4540-f614-a39a5c6b8a7d",
        "colab": {
          "base_uri": "https://localhost:8080/",
          "height": 190
        }
      },
      "source": [
        "soup.find_all('p')"
      ],
      "execution_count": 0,
      "outputs": [
        {
          "output_type": "execute_result",
          "data": {
            "text/plain": [
              "[<p>\n",
              " <input checked=\"checked\" id=\"nws\" name=\"affiliate\" type=\"radio\" value=\"nws.noaa.gov\"/>\n",
              " <label class=\"search-scope\" for=\"nws\">NWS</label>\n",
              " <input id=\"noaa\" name=\"affiliate\" type=\"radio\" value=\"noaa.gov\"/>\n",
              " <label class=\"search-scope\" for=\"noaa\">All NOAA</label>\n",
              " </p>, <p>Your local forecast office is</p>, <p>\n",
              "             A weather system will inch eastward, but will still impact portions of the Mississippi Valley soils are saturated and rivers remain in flood. Heavy rains spreads into the Southeast and portions of the Mid-Atlantic Friday and Saturday. Flash flooding is possible across the area. Severe storms with primarily a damaging wind threat develops across the High Plains. \n",
              "             <a href=\"http://www.wpc.ncep.noaa.gov/discussions/hpcdiscussions.php?disc=pmdspd\" target=\"_blank\">Read More &gt;</a>\n",
              " </p>, <p class=\"myforecast-current\">NA</p>, <p class=\"myforecast-current-lrg\">64°F</p>, <p class=\"myforecast-current-sm\">18°C</p>, <p class=\"moreInfo\"><b>More Information:</b></p>, <p><a href=\"https://www.weather.gov/sew\" id=\"localWFO\" title=\"Seattle, WA\"><span class=\"hideText\">Local</span> Forecast Office</a><a href=\"https://www.wrh.noaa.gov/total_forecast/other_obs.php?wfo=sew&amp;zone=WAZ558\" id=\"moreWx\">More Local Wx</a><a href=\"https://www.wrh.noaa.gov/mesowest/getobext.php?wfo=sew&amp;sid=UWASH&amp;num=72&amp;raw=0\">3 Day History</a><a href=\"//mobile.weather.gov/index.php?lat=47.6036&amp;lon=-122.3294&amp;unit=0&amp;lg=english\" id=\"mobileWxLink\">Mobile Weather</a><a href=\"MapClick.php?lat=47.6036&amp;lon=-122.3294&amp;unit=0&amp;lg=english&amp;FcstType=graphical\" id=\"wxGraph\">Hourly <span class=\"hideText\">Weather </span>Forecast</a></p>, <p class=\"period-name\">Tonight<br/><br/></p>, <p><img alt=\"Tonight: Showers likely, mainly before 11pm.  Mostly cloudy, with a low around 49. Northwest wind 8 to 10 mph becoming south southwest after midnight.  Chance of precipitation is 60%. New precipitation amounts of less than a tenth of an inch possible. \" class=\"forecast-icon\" src=\"newimages/medium/nshra60.png\" title=\"Tonight: Showers likely, mainly before 11pm.  Mostly cloudy, with a low around 49. Northwest wind 8 to 10 mph becoming south southwest after midnight.  Chance of precipitation is 60%. New precipitation amounts of less than a tenth of an inch possible. \"/></p>, <p class=\"short-desc\">Showers<br/>Likely</p>, <p class=\"temp temp-low\">Low: 49 °F</p>, <p class=\"period-name\">Friday<br/><br/></p>, <p><img alt=\"Friday: Showers, with thunderstorms also possible after 2pm.  High near 59. South southwest wind 9 to 13 mph.  Chance of precipitation is 90%. New rainfall amounts between a tenth and quarter of an inch, except higher amounts possible in thunderstorms. \" class=\"forecast-icon\" src=\"newimages/medium/shra90.png\" title=\"Friday: Showers, with thunderstorms also possible after 2pm.  High near 59. South southwest wind 9 to 13 mph.  Chance of precipitation is 90%. New rainfall amounts between a tenth and quarter of an inch, except higher amounts possible in thunderstorms. \"/></p>, <p class=\"short-desc\">Showers</p>, <p class=\"temp temp-high\">High: 59 °F</p>, <p class=\"period-name\">Friday<br/>Night</p>, <p><img alt=\"Friday Night: Showers before 11pm.  Low around 50. West wind 6 to 11 mph becoming south southeast in the evening.  Chance of precipitation is 80%. New precipitation amounts of less than a tenth of an inch possible. \" class=\"forecast-icon\" src=\"DualImage.php?i=nshra&amp;j=nbkn&amp;ip=80\" title=\"Friday Night: Showers before 11pm.  Low around 50. West wind 6 to 11 mph becoming south southeast in the evening.  Chance of precipitation is 80%. New precipitation amounts of less than a tenth of an inch possible. \"/></p>, <p class=\"short-desc\">Showers then<br/>Mostly Cloudy</p>, <p class=\"temp temp-low\">Low: 50 °F</p>, <p class=\"period-name\">Saturday<br/><br/></p>, <p><img alt=\"Saturday: A 20 percent chance of showers before 11am.  Partly sunny, with a high near 65. South wind 5 to 11 mph becoming west in the afternoon. \" class=\"forecast-icon\" src=\"DualImage.php?i=shra&amp;j=bkn&amp;ip=20\" title=\"Saturday: A 20 percent chance of showers before 11am.  Partly sunny, with a high near 65. South wind 5 to 11 mph becoming west in the afternoon. \"/></p>, <p class=\"short-desc\">Slight Chance<br/>Showers then<br/>Partly Sunny</p>, <p class=\"temp temp-high\">High: 65 °F</p>, <p class=\"period-name\">Saturday<br/>Night</p>, <p><img alt=\"Saturday Night: Partly cloudy, with a low around 50. North northwest wind 7 to 11 mph becoming northeast in the evening. \" class=\"forecast-icon\" src=\"newimages/medium/nsct.png\" title=\"Saturday Night: Partly cloudy, with a low around 50. North northwest wind 7 to 11 mph becoming northeast in the evening. \"/></p>, <p class=\"short-desc\">Partly Cloudy</p>, <p class=\"temp temp-low\">Low: 50 °F</p>, <p class=\"period-name\">Sunday<br/><br/></p>, <p><img alt=\"Sunday: Mostly sunny, with a high near 71.\" class=\"forecast-icon\" src=\"newimages/medium/sct.png\" title=\"Sunday: Mostly sunny, with a high near 71.\"/></p>, <p class=\"short-desc\">Mostly Sunny</p>, <p class=\"temp temp-high\">High: 71 °F</p>, <p class=\"period-name\">Sunday<br/>Night</p>, <p><img alt=\"Sunday Night: Partly cloudy, with a low around 54.\" class=\"forecast-icon\" src=\"newimages/medium/nsct.png\" title=\"Sunday Night: Partly cloudy, with a low around 54.\"/></p>, <p class=\"short-desc\">Partly Cloudy</p>, <p class=\"temp temp-low\">Low: 54 °F</p>, <p class=\"period-name\">Monday<br/><br/></p>, <p><img alt=\"Monday: Mostly sunny, with a high near 75.\" class=\"forecast-icon\" src=\"newimages/medium/sct.png\" title=\"Monday: Mostly sunny, with a high near 75.\"/></p>, <p class=\"short-desc\">Mostly Sunny</p>, <p class=\"temp temp-high\">High: 75 °F</p>, <p class=\"period-name\">Monday<br/>Night</p>, <p><img alt=\"Monday Night: Partly cloudy, with a low around 58.\" class=\"forecast-icon\" src=\"newimages/medium/nsct.png\" title=\"Monday Night: Partly cloudy, with a low around 58.\"/></p>, <p class=\"short-desc\">Partly Cloudy</p>, <p class=\"temp temp-low\">Low: 58 °F</p>, <p class=\"myforecast-location\"><a href=\"MapClick.php?zoneid=WAZ558\">Zone Area Forecast for Seattle and Vicinity, WA</a></p>, <p><a href=\"//graphical.weather.gov/sectors/pacnorthwest.php?element=MaxT\">High Temperature</a></p>, <p><a href=\"//graphical.weather.gov/sectors/pacnorthwest.php?element=Wx\">Chance of Precipitation</a></p>]"
            ]
          },
          "metadata": {
            "tags": []
          },
          "execution_count": 30
        }
      ]
    },
    {
      "cell_type": "markdown",
      "metadata": {
        "id": "a4EmKNlcnKWs",
        "colab_type": "text"
      },
      "source": [
        "We learned you can also specify an ID or a class to identify a tag in HTML. First, we select the element with the id \"seven-day-forecast\" and then try to find all of the items with the class \"tombstone-container\" **inside** that element."
      ]
    },
    {
      "cell_type": "code",
      "metadata": {
        "id": "Z1pXs0abqBcD",
        "colab_type": "code",
        "outputId": "58310bd3-6efe-4e96-bbe6-33d52d3ba1c8",
        "colab": {
          "base_uri": "https://localhost:8080/",
          "height": 836
        }
      },
      "source": [
        "seven_day = soup.find(id='seven-day-forecast')\n",
        "seven_day"
      ],
      "execution_count": 0,
      "outputs": [
        {
          "output_type": "execute_result",
          "data": {
            "text/plain": [
              "<div class=\"panel panel-default\" id=\"seven-day-forecast\">\n",
              "<div class=\"panel-heading\">\n",
              "<b>Extended Forecast for</b>\n",
              "<h2 class=\"panel-title\">\n",
              "\t    \t    Downtown Seattle WA\t</h2>\n",
              "</div>\n",
              "<div class=\"panel-body\" id=\"seven-day-forecast-body\">\n",
              "<div id=\"seven-day-forecast-container\"><ul class=\"list-unstyled\" id=\"seven-day-forecast-list\"><li class=\"forecast-tombstone\">\n",
              "<div class=\"tombstone-container\">\n",
              "<p class=\"period-name\">Tonight<br/><br/></p>\n",
              "<p><img alt=\"Tonight: Showers likely, mainly before 11pm.  Mostly cloudy, with a low around 49. Northwest wind 8 to 10 mph becoming south southwest after midnight.  Chance of precipitation is 60%. New precipitation amounts of less than a tenth of an inch possible. \" class=\"forecast-icon\" src=\"newimages/medium/nshra60.png\" title=\"Tonight: Showers likely, mainly before 11pm.  Mostly cloudy, with a low around 49. Northwest wind 8 to 10 mph becoming south southwest after midnight.  Chance of precipitation is 60%. New precipitation amounts of less than a tenth of an inch possible. \"/></p><p class=\"short-desc\">Showers<br/>Likely</p><p class=\"temp temp-low\">Low: 49 °F</p></div></li><li class=\"forecast-tombstone\">\n",
              "<div class=\"tombstone-container\">\n",
              "<p class=\"period-name\">Friday<br/><br/></p>\n",
              "<p><img alt=\"Friday: Showers, with thunderstorms also possible after 2pm.  High near 59. South southwest wind 9 to 13 mph.  Chance of precipitation is 90%. New rainfall amounts between a tenth and quarter of an inch, except higher amounts possible in thunderstorms. \" class=\"forecast-icon\" src=\"newimages/medium/shra90.png\" title=\"Friday: Showers, with thunderstorms also possible after 2pm.  High near 59. South southwest wind 9 to 13 mph.  Chance of precipitation is 90%. New rainfall amounts between a tenth and quarter of an inch, except higher amounts possible in thunderstorms. \"/></p><p class=\"short-desc\">Showers</p><p class=\"temp temp-high\">High: 59 °F</p></div></li><li class=\"forecast-tombstone\">\n",
              "<div class=\"tombstone-container\">\n",
              "<p class=\"period-name\">Friday<br/>Night</p>\n",
              "<p><img alt=\"Friday Night: Showers before 11pm.  Low around 50. West wind 6 to 11 mph becoming south southeast in the evening.  Chance of precipitation is 80%. New precipitation amounts of less than a tenth of an inch possible. \" class=\"forecast-icon\" src=\"DualImage.php?i=nshra&amp;j=nbkn&amp;ip=80\" title=\"Friday Night: Showers before 11pm.  Low around 50. West wind 6 to 11 mph becoming south southeast in the evening.  Chance of precipitation is 80%. New precipitation amounts of less than a tenth of an inch possible. \"/></p><p class=\"short-desc\">Showers then<br/>Mostly Cloudy</p><p class=\"temp temp-low\">Low: 50 °F</p></div></li><li class=\"forecast-tombstone\">\n",
              "<div class=\"tombstone-container\">\n",
              "<p class=\"period-name\">Saturday<br/><br/></p>\n",
              "<p><img alt=\"Saturday: A 20 percent chance of showers before 11am.  Partly sunny, with a high near 65. South wind 5 to 11 mph becoming west in the afternoon. \" class=\"forecast-icon\" src=\"DualImage.php?i=shra&amp;j=bkn&amp;ip=20\" title=\"Saturday: A 20 percent chance of showers before 11am.  Partly sunny, with a high near 65. South wind 5 to 11 mph becoming west in the afternoon. \"/></p><p class=\"short-desc\">Slight Chance<br/>Showers then<br/>Partly Sunny</p><p class=\"temp temp-high\">High: 65 °F</p></div></li><li class=\"forecast-tombstone\">\n",
              "<div class=\"tombstone-container\">\n",
              "<p class=\"period-name\">Saturday<br/>Night</p>\n",
              "<p><img alt=\"Saturday Night: Partly cloudy, with a low around 50. North northwest wind 7 to 11 mph becoming northeast in the evening. \" class=\"forecast-icon\" src=\"newimages/medium/nsct.png\" title=\"Saturday Night: Partly cloudy, with a low around 50. North northwest wind 7 to 11 mph becoming northeast in the evening. \"/></p><p class=\"short-desc\">Partly Cloudy</p><p class=\"temp temp-low\">Low: 50 °F</p></div></li><li class=\"forecast-tombstone\">\n",
              "<div class=\"tombstone-container\">\n",
              "<p class=\"period-name\">Sunday<br/><br/></p>\n",
              "<p><img alt=\"Sunday: Mostly sunny, with a high near 71.\" class=\"forecast-icon\" src=\"newimages/medium/sct.png\" title=\"Sunday: Mostly sunny, with a high near 71.\"/></p><p class=\"short-desc\">Mostly Sunny</p><p class=\"temp temp-high\">High: 71 °F</p></div></li><li class=\"forecast-tombstone\">\n",
              "<div class=\"tombstone-container\">\n",
              "<p class=\"period-name\">Sunday<br/>Night</p>\n",
              "<p><img alt=\"Sunday Night: Partly cloudy, with a low around 54.\" class=\"forecast-icon\" src=\"newimages/medium/nsct.png\" title=\"Sunday Night: Partly cloudy, with a low around 54.\"/></p><p class=\"short-desc\">Partly Cloudy</p><p class=\"temp temp-low\">Low: 54 °F</p></div></li><li class=\"forecast-tombstone\">\n",
              "<div class=\"tombstone-container\">\n",
              "<p class=\"period-name\">Monday<br/><br/></p>\n",
              "<p><img alt=\"Monday: Mostly sunny, with a high near 75.\" class=\"forecast-icon\" src=\"newimages/medium/sct.png\" title=\"Monday: Mostly sunny, with a high near 75.\"/></p><p class=\"short-desc\">Mostly Sunny</p><p class=\"temp temp-high\">High: 75 °F</p></div></li><li class=\"forecast-tombstone\">\n",
              "<div class=\"tombstone-container\">\n",
              "<p class=\"period-name\">Monday<br/>Night</p>\n",
              "<p><img alt=\"Monday Night: Partly cloudy, with a low around 58.\" class=\"forecast-icon\" src=\"newimages/medium/nsct.png\" title=\"Monday Night: Partly cloudy, with a low around 58.\"/></p><p class=\"short-desc\">Partly Cloudy</p><p class=\"temp temp-low\">Low: 58 °F</p></div></li></ul></div>\n",
              "<script type=\"text/javascript\">\n",
              "// equalize forecast heights\n",
              "$(function () {\n",
              "\tvar maxh = 0;\n",
              "\t$(\".forecast-tombstone .short-desc\").each(function () {\n",
              "\t\tvar h = $(this).height();\n",
              "\t\tif (h > maxh) { maxh = h; }\n",
              "\t});\n",
              "\t$(\".forecast-tombstone .short-desc\").height(maxh);\n",
              "});\n",
              "</script> </div>\n",
              "</div>"
            ]
          },
          "metadata": {
            "tags": []
          },
          "execution_count": 31
        }
      ]
    },
    {
      "cell_type": "code",
      "metadata": {
        "id": "FHw3S-o3qHA7",
        "colab_type": "code",
        "outputId": "37c63ba0-47b5-4931-e531-e47c618cd3ee",
        "colab": {
          "base_uri": "https://localhost:8080/",
          "height": 88
        }
      },
      "source": [
        "forecast_items = seven_day.find_all(class_='tombstone-container')\n",
        "tonight = forecast_items[0]\n",
        "tonight"
      ],
      "execution_count": 0,
      "outputs": [
        {
          "output_type": "execute_result",
          "data": {
            "text/plain": [
              "<div class=\"tombstone-container\">\n",
              "<p class=\"period-name\">Tonight<br/><br/></p>\n",
              "<p><img alt=\"Tonight: Showers likely, mainly before 11pm.  Mostly cloudy, with a low around 49. Northwest wind 8 to 10 mph becoming south southwest after midnight.  Chance of precipitation is 60%. New precipitation amounts of less than a tenth of an inch possible. \" class=\"forecast-icon\" src=\"newimages/medium/nshra60.png\" title=\"Tonight: Showers likely, mainly before 11pm.  Mostly cloudy, with a low around 49. Northwest wind 8 to 10 mph becoming south southwest after midnight.  Chance of precipitation is 60%. New precipitation amounts of less than a tenth of an inch possible. \"/></p><p class=\"short-desc\">Showers<br/>Likely</p><p class=\"temp temp-low\">Low: 49 °F</p></div>"
            ]
          },
          "metadata": {
            "tags": []
          },
          "execution_count": 32
        }
      ]
    },
    {
      "cell_type": "markdown",
      "metadata": {
        "id": "ELT0Qy-BnaUe",
        "colab_type": "text"
      },
      "source": [
        "To print it out a little nicer, we can use the `prettify` method"
      ]
    },
    {
      "cell_type": "code",
      "metadata": {
        "id": "G5nHSv2Qru_0",
        "colab_type": "code",
        "outputId": "6a15a0d4-7787-4286-dceb-30ffa2f91c31",
        "colab": {
          "base_uri": "https://localhost:8080/",
          "height": 343
        }
      },
      "source": [
        "print(tonight.prettify())"
      ],
      "execution_count": 0,
      "outputs": [
        {
          "output_type": "stream",
          "text": [
            "<div class=\"tombstone-container\">\n",
            " <p class=\"period-name\">\n",
            "  Tonight\n",
            "  <br/>\n",
            "  <br/>\n",
            " </p>\n",
            " <p>\n",
            "  <img alt=\"Tonight: Showers likely, mainly before 11pm.  Mostly cloudy, with a low around 49. Northwest wind 8 to 10 mph becoming south southwest after midnight.  Chance of precipitation is 60%. New precipitation amounts of less than a tenth of an inch possible. \" class=\"forecast-icon\" src=\"newimages/medium/nshra60.png\" title=\"Tonight: Showers likely, mainly before 11pm.  Mostly cloudy, with a low around 49. Northwest wind 8 to 10 mph becoming south southwest after midnight.  Chance of precipitation is 60%. New precipitation amounts of less than a tenth of an inch possible. \"/>\n",
            " </p>\n",
            " <p class=\"short-desc\">\n",
            "  Showers\n",
            "  <br/>\n",
            "  Likely\n",
            " </p>\n",
            " <p class=\"temp temp-low\">\n",
            "  Low: 49 °F\n",
            " </p>\n",
            "</div>\n"
          ],
          "name": "stdout"
        }
      ]
    },
    {
      "cell_type": "markdown",
      "metadata": {
        "id": "6oePjCP9nezt",
        "colab_type": "text"
      },
      "source": [
        "Elements returned by `find` sometimes have attributes that you can inspect. For example, the `img` tags in the the forecast have a \"title\" attribute with information about the forecast."
      ]
    },
    {
      "cell_type": "code",
      "metadata": {
        "id": "DPuSzyCYrzVk",
        "colab_type": "code",
        "outputId": "7044c4ec-01c1-4c1f-d1d9-fe1cbb806bb2",
        "colab": {
          "base_uri": "https://localhost:8080/",
          "height": 54
        }
      },
      "source": [
        "tonight.find('img')['title']"
      ],
      "execution_count": 0,
      "outputs": [
        {
          "output_type": "execute_result",
          "data": {
            "text/plain": [
              "'Tonight: Showers likely, mainly before 11pm.  Mostly cloudy, with a low around 49. Northwest wind 8 to 10 mph becoming south southwest after midnight.  Chance of precipitation is 60%. New precipitation amounts of less than a tenth of an inch possible. '"
            ]
          },
          "metadata": {
            "tags": []
          },
          "execution_count": 34
        }
      ]
    },
    {
      "cell_type": "markdown",
      "metadata": {
        "id": "XjLr3B7tnysC",
        "colab_type": "text"
      },
      "source": [
        "Finding elements within an element can sometimes be tedious to do manually with find. BeautifulSoup also provides the `select` method that lets you find elements using a special syntax called \"CSS Selectors\". \n",
        "\n",
        "The follwoing line finds all the elements with the class \"period-name\" that are inside elements with the class \"tombstone container\"."
      ]
    },
    {
      "cell_type": "code",
      "metadata": {
        "id": "jA0OCDbLr3FK",
        "colab_type": "code",
        "outputId": "90aadc09-16ae-4fe6-c884-43fe11ef5385",
        "colab": {
          "base_uri": "https://localhost:8080/",
          "height": 170
        }
      },
      "source": [
        "seven_day.select('.tombstone-container .period-name')"
      ],
      "execution_count": 0,
      "outputs": [
        {
          "output_type": "execute_result",
          "data": {
            "text/plain": [
              "[<p class=\"period-name\">Tonight<br/><br/></p>,\n",
              " <p class=\"period-name\">Friday<br/><br/></p>,\n",
              " <p class=\"period-name\">Friday<br/>Night</p>,\n",
              " <p class=\"period-name\">Saturday<br/><br/></p>,\n",
              " <p class=\"period-name\">Saturday<br/>Night</p>,\n",
              " <p class=\"period-name\">Sunday<br/><br/></p>,\n",
              " <p class=\"period-name\">Sunday<br/>Night</p>,\n",
              " <p class=\"period-name\">Monday<br/><br/></p>,\n",
              " <p class=\"period-name\">Monday<br/>Night</p>]"
            ]
          },
          "metadata": {
            "tags": []
          },
          "execution_count": 35
        }
      ]
    },
    {
      "cell_type": "markdown",
      "metadata": {
        "id": "xKwZMz2dr4x0",
        "colab_type": "text"
      },
      "source": [
        "To get the text inside each tag returned by `select`, we can use a loop to all the `get_text` method on each tag. \n",
        "\n",
        "Below we get the following information for each time in the forecast\n",
        "*  We get the name of the forecast time (called period)\n",
        "*  We get the description of the forecast from the title property of the image inside the forecast\n",
        "*  We get the forecast temperature \n",
        "\n"
      ]
    },
    {
      "cell_type": "code",
      "metadata": {
        "id": "ZKK60-CosbvL",
        "colab_type": "code",
        "outputId": "dbd1e4e9-aaa8-4833-ab2a-f040b279549f",
        "colab": {
          "base_uri": "https://localhost:8080/",
          "height": 34
        }
      },
      "source": [
        "periods = [pt.get_text() for pt in seven_day.select('.tombstone-container .period-name')]\n",
        "print(periods)"
      ],
      "execution_count": 0,
      "outputs": [
        {
          "output_type": "stream",
          "text": [
            "['Tonight', 'Friday', 'FridayNight', 'Saturday', 'SaturdayNight', 'Sunday', 'SundayNight', 'Monday', 'MondayNight']\n"
          ],
          "name": "stdout"
        }
      ]
    },
    {
      "cell_type": "code",
      "metadata": {
        "id": "Suv1r82JsqAZ",
        "colab_type": "code",
        "outputId": "fb9f98d9-3efd-4211-bd17-aca47c6da5bd",
        "colab": {
          "base_uri": "https://localhost:8080/",
          "height": 54
        }
      },
      "source": [
        "titles = [img['title'] for img in seven_day.select('.tombstone-container img')]\n",
        "print(titles)"
      ],
      "execution_count": 0,
      "outputs": [
        {
          "output_type": "stream",
          "text": [
            "['Tonight: Showers likely, mainly before 11pm.  Mostly cloudy, with a low around 49. Northwest wind 8 to 10 mph becoming south southwest after midnight.  Chance of precipitation is 60%. New precipitation amounts of less than a tenth of an inch possible. ', 'Friday: Showers, with thunderstorms also possible after 2pm.  High near 59. South southwest wind 9 to 13 mph.  Chance of precipitation is 90%. New rainfall amounts between a tenth and quarter of an inch, except higher amounts possible in thunderstorms. ', 'Friday Night: Showers before 11pm.  Low around 50. West wind 6 to 11 mph becoming south southeast in the evening.  Chance of precipitation is 80%. New precipitation amounts of less than a tenth of an inch possible. ', 'Saturday: A 20 percent chance of showers before 11am.  Partly sunny, with a high near 65. South wind 5 to 11 mph becoming west in the afternoon. ', 'Saturday Night: Partly cloudy, with a low around 50. North northwest wind 7 to 11 mph becoming northeast in the evening. ', 'Sunday: Mostly sunny, with a high near 71.', 'Sunday Night: Partly cloudy, with a low around 54.', 'Monday: Mostly sunny, with a high near 75.', 'Monday Night: Partly cloudy, with a low around 58.']\n"
          ],
          "name": "stdout"
        }
      ]
    },
    {
      "cell_type": "code",
      "metadata": {
        "id": "0DElGHvos2ZL",
        "colab_type": "code",
        "outputId": "86d8f171-b9f2-4228-fb97-1c72e1dd103e",
        "colab": {
          "base_uri": "https://localhost:8080/",
          "height": 34
        }
      },
      "source": [
        "temps = [tt.get_text() for tt in seven_day.select('.tombstone-container .temp')]\n",
        "print(temps)"
      ],
      "execution_count": 0,
      "outputs": [
        {
          "output_type": "stream",
          "text": [
            "['Low: 49 °F', 'High: 59 °F', 'Low: 50 °F', 'High: 65 °F', 'Low: 50 °F', 'High: 71 °F', 'Low: 54 °F', 'High: 75 °F', 'Low: 58 °F']\n"
          ],
          "name": "stdout"
        }
      ]
    },
    {
      "cell_type": "markdown",
      "metadata": {
        "id": "ls_0fDm9sXcF",
        "colab_type": "text"
      },
      "source": [
        "All of the data together is shown below"
      ]
    },
    {
      "cell_type": "code",
      "metadata": {
        "id": "3YAzHYlntl9y",
        "colab_type": "code",
        "outputId": "70963da2-5a40-4a7f-c1b4-13d5a7997659",
        "colab": {
          "base_uri": "https://localhost:8080/",
          "height": 88
        }
      },
      "source": [
        "print(titles)\n",
        "print(temps)\n",
        "print(periods)"
      ],
      "execution_count": 0,
      "outputs": [
        {
          "output_type": "stream",
          "text": [
            "['Tonight: Showers likely, mainly before 11pm.  Mostly cloudy, with a low around 49. Northwest wind 8 to 10 mph becoming south southwest after midnight.  Chance of precipitation is 60%. New precipitation amounts of less than a tenth of an inch possible. ', 'Friday: Showers, with thunderstorms also possible after 2pm.  High near 59. South southwest wind 9 to 13 mph.  Chance of precipitation is 90%. New rainfall amounts between a tenth and quarter of an inch, except higher amounts possible in thunderstorms. ', 'Friday Night: Showers before 11pm.  Low around 50. West wind 6 to 11 mph becoming south southeast in the evening.  Chance of precipitation is 80%. New precipitation amounts of less than a tenth of an inch possible. ', 'Saturday: A 20 percent chance of showers before 11am.  Partly sunny, with a high near 65. South wind 5 to 11 mph becoming west in the afternoon. ', 'Saturday Night: Partly cloudy, with a low around 50. North northwest wind 7 to 11 mph becoming northeast in the evening. ', 'Sunday: Mostly sunny, with a high near 71.', 'Sunday Night: Partly cloudy, with a low around 54.', 'Monday: Mostly sunny, with a high near 75.', 'Monday Night: Partly cloudy, with a low around 58.']\n",
            "['Low: 49 °F', 'High: 59 °F', 'Low: 50 °F', 'High: 65 °F', 'Low: 50 °F', 'High: 71 °F', 'Low: 54 °F', 'High: 75 °F', 'Low: 58 °F']\n",
            "['Tonight', 'Friday', 'FridayNight', 'Saturday', 'SaturdayNight', 'Sunday', 'SundayNight', 'Monday', 'MondayNight']\n"
          ],
          "name": "stdout"
        }
      ]
    },
    {
      "cell_type": "markdown",
      "metadata": {
        "id": "_ZBPOTqZsZiL",
        "colab_type": "text"
      },
      "source": [
        "The data is now stored as \"parallel arrays\", where the value at index 0 in each array corresponds to one forecast. This would be a bit annoying to work with, so we put it in a `pandas` `DataFrame`"
      ]
    },
    {
      "cell_type": "code",
      "metadata": {
        "id": "ezVPewDlt5eC",
        "colab_type": "code",
        "outputId": "7a8fc1cd-a0df-416e-d150-44bc6d226685",
        "colab": {
          "base_uri": "https://localhost:8080/",
          "height": 328
        }
      },
      "source": [
        "import pandas as pd\n",
        "weather = pd.DataFrame({\n",
        "    'period': periods,\n",
        "    'temp': temps,\n",
        "    'desc': titles\n",
        "})\n",
        "weather"
      ],
      "execution_count": 0,
      "outputs": [
        {
          "output_type": "execute_result",
          "data": {
            "text/html": [
              "<div>\n",
              "<style scoped>\n",
              "    .dataframe tbody tr th:only-of-type {\n",
              "        vertical-align: middle;\n",
              "    }\n",
              "\n",
              "    .dataframe tbody tr th {\n",
              "        vertical-align: top;\n",
              "    }\n",
              "\n",
              "    .dataframe thead th {\n",
              "        text-align: right;\n",
              "    }\n",
              "</style>\n",
              "<table border=\"1\" class=\"dataframe\">\n",
              "  <thead>\n",
              "    <tr style=\"text-align: right;\">\n",
              "      <th></th>\n",
              "      <th>period</th>\n",
              "      <th>temp</th>\n",
              "      <th>desc</th>\n",
              "    </tr>\n",
              "  </thead>\n",
              "  <tbody>\n",
              "    <tr>\n",
              "      <th>0</th>\n",
              "      <td>Tonight</td>\n",
              "      <td>Low: 49 °F</td>\n",
              "      <td>Tonight: Showers likely, mainly before 11pm.  ...</td>\n",
              "    </tr>\n",
              "    <tr>\n",
              "      <th>1</th>\n",
              "      <td>Friday</td>\n",
              "      <td>High: 59 °F</td>\n",
              "      <td>Friday: Showers, with thunderstorms also possi...</td>\n",
              "    </tr>\n",
              "    <tr>\n",
              "      <th>2</th>\n",
              "      <td>FridayNight</td>\n",
              "      <td>Low: 50 °F</td>\n",
              "      <td>Friday Night: Showers before 11pm.  Low around...</td>\n",
              "    </tr>\n",
              "    <tr>\n",
              "      <th>3</th>\n",
              "      <td>Saturday</td>\n",
              "      <td>High: 65 °F</td>\n",
              "      <td>Saturday: A 20 percent chance of showers befor...</td>\n",
              "    </tr>\n",
              "    <tr>\n",
              "      <th>4</th>\n",
              "      <td>SaturdayNight</td>\n",
              "      <td>Low: 50 °F</td>\n",
              "      <td>Saturday Night: Partly cloudy, with a low arou...</td>\n",
              "    </tr>\n",
              "    <tr>\n",
              "      <th>5</th>\n",
              "      <td>Sunday</td>\n",
              "      <td>High: 71 °F</td>\n",
              "      <td>Sunday: Mostly sunny, with a high near 71.</td>\n",
              "    </tr>\n",
              "    <tr>\n",
              "      <th>6</th>\n",
              "      <td>SundayNight</td>\n",
              "      <td>Low: 54 °F</td>\n",
              "      <td>Sunday Night: Partly cloudy, with a low around...</td>\n",
              "    </tr>\n",
              "    <tr>\n",
              "      <th>7</th>\n",
              "      <td>Monday</td>\n",
              "      <td>High: 75 °F</td>\n",
              "      <td>Monday: Mostly sunny, with a high near 75.</td>\n",
              "    </tr>\n",
              "    <tr>\n",
              "      <th>8</th>\n",
              "      <td>MondayNight</td>\n",
              "      <td>Low: 58 °F</td>\n",
              "      <td>Monday Night: Partly cloudy, with a low around...</td>\n",
              "    </tr>\n",
              "  </tbody>\n",
              "</table>\n",
              "</div>"
            ],
            "text/plain": [
              "          period  ...                                               desc\n",
              "0        Tonight  ...  Tonight: Showers likely, mainly before 11pm.  ...\n",
              "1         Friday  ...  Friday: Showers, with thunderstorms also possi...\n",
              "2    FridayNight  ...  Friday Night: Showers before 11pm.  Low around...\n",
              "3       Saturday  ...  Saturday: A 20 percent chance of showers befor...\n",
              "4  SaturdayNight  ...  Saturday Night: Partly cloudy, with a low arou...\n",
              "5         Sunday  ...         Sunday: Mostly sunny, with a high near 71.\n",
              "6    SundayNight  ...  Sunday Night: Partly cloudy, with a low around...\n",
              "7         Monday  ...         Monday: Mostly sunny, with a high near 75.\n",
              "8    MondayNight  ...  Monday Night: Partly cloudy, with a low around...\n",
              "\n",
              "[9 rows x 3 columns]"
            ]
          },
          "metadata": {
            "tags": []
          },
          "execution_count": 40
        }
      ]
    }
  ]
}