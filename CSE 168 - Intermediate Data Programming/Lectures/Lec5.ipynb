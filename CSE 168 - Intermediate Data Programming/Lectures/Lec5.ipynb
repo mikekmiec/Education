{
 "cells": [
  {
   "cell_type": "markdown",
   "metadata": {
    "colab_type": "text",
    "deletable": true,
    "editable": true,
    "id": "sP0lkd-l6ZqH"
   },
   "source": [
    "# Jupyter Notebook\n",
    "\n",
    "This is a Jupyter Notebook, which is a basically just a super fancy Python shell.\n",
    "\n",
    "You may have \"cells\" that can either be text (like this one) or executable Python code. Notebooks are really nice because they allow you to rapidly develop Python code by writing small bits of code, testing their output, and moving on to the next bit; this interactive nature of the notebook is a huge plus to professional Python developers. \n",
    "\n",
    "It's also nice, because it's really easy to share your code with others and surround it with text to tell a story! \n",
    "\n",
    "# Colaboratory\n",
    "Colaboratory is a service provided by Google to take a Jupyter Notebook (a standard formay of a `.ipynb` file) and let users edit/run the code in the notebook for free! \n",
    "\n",
    "This notebook is write-protected so you are not able to edit the  notebook that the whole class will look at, but you are able to open up the notebook in \"playground mode\" which lets you make edits to a temporary copy of the notebook. If you want to save the changes you made to this notebook, you will have to follow the instructions when you try to save to copy the notebook to your Google Drive. \n",
    "\n",
    "# Setup\n",
    "Make sure you run the following cell before trying to run any the following cells. You do not need to understand what they are doing, it's just a way to make sure there is a file we want to use stored on the computer running this notebook.\n"
   ]
  },
  {
   "cell_type": "code",
   "execution_count": 1,
   "metadata": {
    "colab": {},
    "colab_type": "code",
    "collapsed": true,
    "deletable": true,
    "editable": true,
    "id": "xIXl9KBOxVKE",
    "jupyter": {
     "outputs_hidden": true
    }
   },
   "outputs": [],
   "source": [
    "import requests\n",
    "\n",
    "def save_file(url, file_name):\n",
    "  r = requests.get(url)\n",
    "  with open(file_name, 'wb') as f:\n",
    "    f.write(r.content)\n",
    "\n",
    "save_file('https://courses.cs.washington.edu/courses/cse163/19sp/' +\n",
    "          'files/lectures/04-08/mobydick.txt', 'mobydick.txt')\n",
    "save_file('https://courses.cs.washington.edu/courses/cse163/19sp/' +\n",
    "          'files/lectures/04-08/bee-movie.txt', 'bee-movie.txt')\n",
    "save_file('https://courses.cs.washington.edu/courses/cse163/19sp/' +\n",
    "          'files/lectures/04-10/tas.csv', 'tas.csv')\n",
    "save_file('https://courses.cs.washington.edu/courses/cse163/19sp/' +\n",
    "          'files/lectures/04-10/earthquakes.csv', 'earthquakes.csv')"
   ]
  },
  {
   "cell_type": "markdown",
   "metadata": {
    "colab_type": "text",
    "deletable": true,
    "editable": true,
    "id": "lWvK9g9wCItD"
   },
   "source": [
    "# Review\n"
   ]
  },
  {
   "cell_type": "markdown",
   "metadata": {
    "colab_type": "text",
    "deletable": true,
    "editable": true,
    "id": "auXt3NjYnwz6"
   },
   "source": [
    "Last time we wrote this function to count the number of unique words that appear in a file. When we first wrote it using a list, it was way too slow on large files because the contains check for every word became incredibly slow as the list of unique words got larger. When using the new data structure set, it got much faster!"
   ]
  },
  {
   "cell_type": "code",
   "execution_count": 2,
   "metadata": {
    "colab": {},
    "colab_type": "code",
    "collapsed": true,
    "deletable": true,
    "editable": true,
    "id": "tmgRzuuwl_mf",
    "jupyter": {
     "outputs_hidden": true
    }
   },
   "outputs": [],
   "source": [
    "def count_unique(file_name):\n",
    "  \"\"\"\n",
    "  Returns the number of unique words in the file specified by file_name\n",
    "  \"\"\"\n",
    "  words = set()\n",
    "  with open(file_name) as file:\n",
    "    for line in file.readlines():\n",
    "      for word in line.split():\n",
    "        words.add(word)\n",
    "  return len(words)"
   ]
  },
  {
   "cell_type": "code",
   "execution_count": 3,
   "metadata": {
    "colab": {
     "base_uri": "https://localhost:8080/",
     "height": 68
    },
    "colab_type": "code",
    "collapsed": false,
    "deletable": true,
    "editable": true,
    "id": "KU2b8iLv8IPX",
    "jupyter": {
     "outputs_hidden": false
    },
    "outputId": "a638d5b1-2b00-42cc-a78a-37c23d5de76e"
   },
   "outputs": [
    {
     "name": "stdout",
     "output_type": "stream",
     "text": [
      "4104\n",
      "Wall time: 7 ms\n"
     ]
    }
   ],
   "source": [
    "%%time\n",
    "print(count_unique('bee-movie.txt'))"
   ]
  },
  {
   "cell_type": "code",
   "execution_count": 4,
   "metadata": {
    "colab": {
     "base_uri": "https://localhost:8080/",
     "height": 68
    },
    "colab_type": "code",
    "collapsed": false,
    "deletable": true,
    "editable": true,
    "id": "696rlLs08Nst",
    "jupyter": {
     "outputs_hidden": false
    },
    "outputId": "4cc23237-5861-4318-8951-c29a2590d10d"
   },
   "outputs": [
    {
     "name": "stdout",
     "output_type": "stream",
     "text": [
      "Wall time: 71 ms\n"
     ]
    },
    {
     "data": {
      "text/plain": [
       "32553"
      ]
     },
     "execution_count": 4,
     "metadata": {},
     "output_type": "execute_result"
    }
   ],
   "source": [
    "%%time\n",
    "count_unique('mobydick.txt')"
   ]
  },
  {
   "cell_type": "markdown",
   "metadata": {
    "colab_type": "text",
    "deletable": true,
    "editable": true,
    "id": "1A5Er8yuCoxs"
   },
   "source": [
    "# Dictionaries"
   ]
  },
  {
   "cell_type": "code",
   "execution_count": 5,
   "metadata": {
    "colab": {},
    "colab_type": "code",
    "collapsed": true,
    "deletable": true,
    "editable": true,
    "id": "n8D3tNpVCpao",
    "jupyter": {
     "outputs_hidden": true
    }
   },
   "outputs": [],
   "source": [
    "def count_words(file_name):\n",
    "  \"\"\"\n",
    "  Counts the number of times each word in the file specified by file_name \n",
    "  appears in that file. Returns the counts as a dictionary with keys that\n",
    "  are words that map to the number of times that word appears in the file.\n",
    "  \"\"\"\n",
    "  counts = {}\n",
    "  with open(file_name) as file:\n",
    "    for line in file.readlines():\n",
    "      for word in line.split():\n",
    "        if word in counts:\n",
    "          counts[word] = counts[word] + 1\n",
    "        else: \n",
    "          counts[word] = 1\n",
    "  return counts"
   ]
  },
  {
   "cell_type": "code",
   "execution_count": 6,
   "metadata": {
    "colab": {},
    "colab_type": "code",
    "collapsed": true,
    "deletable": true,
    "editable": true,
    "id": "c72kYgo0MH7S",
    "jupyter": {
     "outputs_hidden": true
    }
   },
   "outputs": [],
   "source": [
    "counts = count_words('bee-movie.txt')"
   ]
  },
  {
   "cell_type": "code",
   "execution_count": 7,
   "metadata": {
    "colab": {
     "base_uri": "https://localhost:8080/",
     "height": 34
    },
    "colab_type": "code",
    "collapsed": false,
    "deletable": true,
    "editable": true,
    "id": "x4SkSYGAMncL",
    "jupyter": {
     "outputs_hidden": false
    },
    "outputId": "cbbb4a4b-4ae1-405f-db73-28d70929aee6"
   },
   "outputs": [
    {
     "data": {
      "text/plain": [
       "35"
      ]
     },
     "execution_count": 7,
     "metadata": {},
     "output_type": "execute_result"
    }
   ],
   "source": [
    "counts['bee']"
   ]
  },
  {
   "cell_type": "markdown",
   "metadata": {
    "colab_type": "text",
    "deletable": true,
    "editable": true,
    "id": "kuea1smaoi-G"
   },
   "source": [
    "We then wanted to loop over that dictionary to find the appear the appears most frequently. We saw that there are two\n",
    "ways that this is commonly done that keep track of different variables."
   ]
  },
  {
   "cell_type": "code",
   "execution_count": 9,
   "metadata": {
    "colab": {
     "base_uri": "https://localhost:8080/",
     "height": 34
    },
    "colab_type": "code",
    "collapsed": false,
    "deletable": true,
    "editable": true,
    "id": "nYYf-hfVop_B",
    "jupyter": {
     "outputs_hidden": false
    },
    "outputId": "77759483-5fdf-43b5-bcbe-575f11418c7a"
   },
   "outputs": [
    {
     "name": "stdout",
     "output_type": "stream",
     "text": [
      "('the', 516)\n"
     ]
    }
   ],
   "source": [
    "max_key = None\n",
    "max_value = -1  # Start at -1 so no count is the same as this first value\n",
    "for word in counts.keys():\n",
    "  if counts[word] > max_value:\n",
    "    max_key = word\n",
    "    max_value = counts[word]\n",
    "    \n",
    "print(max_key, max_value)"
   ]
  },
  {
   "cell_type": "code",
   "execution_count": 10,
   "metadata": {
    "colab": {
     "base_uri": "https://localhost:8080/",
     "height": 34
    },
    "colab_type": "code",
    "collapsed": false,
    "deletable": true,
    "editable": true,
    "id": "MvenPIoDNGbN",
    "jupyter": {
     "outputs_hidden": false
    },
    "outputId": "8f0b8d92-bda6-4ea0-87d8-3aadea29d3ba"
   },
   "outputs": [
    {
     "name": "stdout",
     "output_type": "stream",
     "text": [
      "('the', 516)\n"
     ]
    }
   ],
   "source": [
    "max_key = None\n",
    "for word in counts.keys():\n",
    "  if max_key is None or counts[word] > counts[max_key]:\n",
    "    max_key = word\n",
    "\n",
    "print(max_key, max_value)"
   ]
  },
  {
   "cell_type": "markdown",
   "metadata": {
    "colab_type": "text",
    "deletable": true,
    "editable": true,
    "id": "iQVDIbgeCton"
   },
   "source": [
    "# CSV"
   ]
  },
  {
   "cell_type": "markdown",
   "metadata": {
    "colab_type": "text",
    "deletable": true,
    "editable": true,
    "id": "Y7x-rp-cpRuQ"
   },
   "source": [
    "We learned about CSV files and how one common way of representing the data in this file is a list of dictionaries.\n",
    "\n",
    "Hunter implemented this function before lecture and briefly went over it in class. This function is NOT the import ant part of \n",
    "this example so it's safe to just understand what it's doc-string says."
   ]
  },
  {
   "cell_type": "code",
   "execution_count": 11,
   "metadata": {
    "colab": {},
    "colab_type": "code",
    "collapsed": true,
    "deletable": true,
    "editable": true,
    "id": "ISMquVp6Cuxx",
    "jupyter": {
     "outputs_hidden": true
    }
   },
   "outputs": [],
   "source": [
    "def parse(file_name):\n",
    "    \"\"\"\n",
    "    Parses the CSV file specified by file_name and returns the data as a list\n",
    "    of dictionaries where each row is represented by a dictionary that\n",
    "    has keys for each column and value which is the entry for that column\n",
    "    at that row.\n",
    "    \"\"\"\n",
    "    data = []\n",
    "    with open(file_name) as f:\n",
    "        headers = f.readline().strip().split(',')\n",
    "        num_cols = len(headers)\n",
    "\n",
    "        for line in f.readlines():\n",
    "            row_data = line.strip().split(',')\n",
    "            row = {}\n",
    "            for i in range(num_cols):\n",
    "                row[headers[i]] = row_data[i]\n",
    "            data.append(row)\n",
    "    return data"
   ]
  },
  {
   "cell_type": "code",
   "execution_count": 12,
   "metadata": {
    "colab": {
     "base_uri": "https://localhost:8080/",
     "height": 68
    },
    "colab_type": "code",
    "collapsed": false,
    "deletable": true,
    "editable": true,
    "id": "O_LKbz4nCvV3",
    "jupyter": {
     "outputs_hidden": false
    },
    "outputId": "9898f555-1950-4bbd-9011-0b87ee1bf382"
   },
   "outputs": [
    {
     "data": {
      "text/plain": [
       "[{'Name': 'Erika', 'Salary': '3'},\n",
       " {'Name': 'Erik', 'Salary': '2'},\n",
       " {'Name': 'Josh', 'Salary': '4'}]"
      ]
     },
     "execution_count": 12,
     "metadata": {},
     "output_type": "execute_result"
    }
   ],
   "source": [
    "tas = parse('tas.csv')\n",
    "tas"
   ]
  },
  {
   "cell_type": "markdown",
   "metadata": {
    "colab_type": "text",
    "deletable": true,
    "editable": true,
    "id": "XNKSefeVpx11"
   },
   "source": [
    "We then tried to run the following cell but encountered and error because the type of the data in the 'Salary' field was strings.\n",
    "All data parsed from a file is by default a string! "
   ]
  },
  {
   "cell_type": "code",
   "execution_count": 13,
   "metadata": {
    "colab": {
     "base_uri": "https://localhost:8080/",
     "height": 215
    },
    "colab_type": "code",
    "collapsed": false,
    "deletable": true,
    "editable": true,
    "id": "lQVZdXYsCwRO",
    "jupyter": {
     "outputs_hidden": false
    },
    "outputId": "8b8b4709-7621-4272-f4f4-627ccddf0fcd"
   },
   "outputs": [
    {
     "ename": "TypeError",
     "evalue": "unsupported operand type(s) for +=: 'int' and 'str'",
     "output_type": "error",
     "traceback": [
      "\u001b[1;31m\u001b[0m",
      "\u001b[1;31mTypeError\u001b[0mTraceback (most recent call last)",
      "\u001b[1;32m<ipython-input-13-2d89a1139590>\u001b[0m in \u001b[0;36m<module>\u001b[1;34m()\u001b[0m\n\u001b[0;32m      1\u001b[0m \u001b[0mtotal\u001b[0m \u001b[1;33m=\u001b[0m \u001b[1;36m0\u001b[0m\u001b[1;33m\u001b[0m\u001b[0m\n\u001b[0;32m      2\u001b[0m \u001b[1;32mfor\u001b[0m \u001b[0mta\u001b[0m \u001b[1;32min\u001b[0m \u001b[0mtas\u001b[0m\u001b[1;33m:\u001b[0m\u001b[1;33m\u001b[0m\u001b[0m\n\u001b[1;32m----> 3\u001b[1;33m   \u001b[0mtotal\u001b[0m \u001b[1;33m+=\u001b[0m \u001b[0mta\u001b[0m\u001b[1;33m[\u001b[0m\u001b[1;34m'Salary'\u001b[0m\u001b[1;33m]\u001b[0m\u001b[1;33m\u001b[0m\u001b[0m\n\u001b[0m\u001b[0;32m      4\u001b[0m \u001b[1;32mprint\u001b[0m\u001b[1;33m(\u001b[0m\u001b[0mtotal\u001b[0m\u001b[1;33m)\u001b[0m\u001b[1;33m\u001b[0m\u001b[0m\n",
      "\u001b[1;31mTypeError\u001b[0m: unsupported operand type(s) for +=: 'int' and 'str'"
     ]
    }
   ],
   "source": [
    "total = 0\n",
    "for ta in tas:\n",
    "  total += ta['Salary']\n",
    "print(total)"
   ]
  },
  {
   "cell_type": "markdown",
   "metadata": {
    "colab_type": "text",
    "deletable": true,
    "editable": true,
    "id": "Ng3DJ6crp6u2"
   },
   "source": [
    "We then went over this second function I had implemented before class to parse the data into appropriate types by taking \n",
    "extra parameters for the column names that should be converted to integers (or floats for a later example)."
   ]
  },
  {
   "cell_type": "code",
   "execution_count": 14,
   "metadata": {
    "colab": {},
    "colab_type": "code",
    "collapsed": true,
    "deletable": true,
    "editable": true,
    "id": "VXlX155NCx14",
    "jupyter": {
     "outputs_hidden": true
    }
   },
   "outputs": [],
   "source": [
    "def parse(file_name, int_cols, float_cols):\n",
    "    \"\"\"\n",
    "    Parses the CSV file specified by file_name and returns the data as a list\n",
    "    of dictionaries where each row is represented by a dictionary that\n",
    "    has keys for each column and value which is the entry for that column\n",
    "    at that row.\n",
    "\n",
    "    Also takes a list of column names that should have the data for that column\n",
    "    converted to integers and a list of columns that should be converted to \n",
    "    floats. All other data will be str.\n",
    "    \"\"\"\n",
    "    data = []\n",
    "    with open(file_name) as f:\n",
    "        headers = f.readline().strip().split(',')\n",
    "        num_cols = len(headers)\n",
    "\n",
    "        for line in f.readlines():\n",
    "            row_data = line.strip().split(',')\n",
    "            row = {}\n",
    "            for i in range(num_cols):\n",
    "                col = headers[i]\n",
    "                if col in int_cols:\n",
    "                    row[col] = int(row_data[i])\n",
    "                elif col in float_cols:\n",
    "                    row[col] = float(row_data[i])\n",
    "                else:\n",
    "                    row[col] = row_data[i]\n",
    "            data.append(row)\n",
    "    return data"
   ]
  },
  {
   "cell_type": "code",
   "execution_count": 15,
   "metadata": {
    "colab": {
     "base_uri": "https://localhost:8080/",
     "height": 68
    },
    "colab_type": "code",
    "collapsed": false,
    "deletable": true,
    "editable": true,
    "id": "96GtohoVCxzc",
    "jupyter": {
     "outputs_hidden": false
    },
    "outputId": "810b933e-482a-4b5a-b66d-fa7b7ce64d4c"
   },
   "outputs": [
    {
     "data": {
      "text/plain": [
       "[{'Name': 'Erika', 'Salary': 3},\n",
       " {'Name': 'Erik', 'Salary': 2},\n",
       " {'Name': 'Josh', 'Salary': 4}]"
      ]
     },
     "execution_count": 15,
     "metadata": {},
     "output_type": "execute_result"
    }
   ],
   "source": [
    "tas = parse('tas.csv', ['Salary'], [])\n",
    "tas"
   ]
  },
  {
   "cell_type": "code",
   "execution_count": 16,
   "metadata": {
    "colab": {
     "base_uri": "https://localhost:8080/",
     "height": 34
    },
    "colab_type": "code",
    "collapsed": false,
    "deletable": true,
    "editable": true,
    "id": "4QnNckyWqbNW",
    "jupyter": {
     "outputs_hidden": false
    },
    "outputId": "c0715967-1189-4cc0-867d-7a24966630a1"
   },
   "outputs": [
    {
     "name": "stdout",
     "output_type": "stream",
     "text": [
      "9\n"
     ]
    }
   ],
   "source": [
    "total = 0\n",
    "for ta in tas:\n",
    "  total += ta['Salary']\n",
    "print(total)"
   ]
  },
  {
   "cell_type": "markdown",
   "metadata": {
    "colab_type": "text",
    "deletable": true,
    "editable": true,
    "id": "aeTbJe9lqcLj"
   },
   "source": [
    "We saw that we could then parse our other, larger, dataset using the same function"
   ]
  },
  {
   "cell_type": "code",
   "execution_count": 17,
   "metadata": {
    "colab": {},
    "colab_type": "code",
    "collapsed": true,
    "deletable": true,
    "editable": true,
    "id": "ZBhMf7vdCxw3",
    "jupyter": {
     "outputs_hidden": true
    }
   },
   "outputs": [],
   "source": [
    "# parse the year, month, and day columns as ints and the longitude, latitude, \n",
    "# and magnitude columns as floats\n",
    "earthquakes = parse('earthquakes.csv', ['year', 'month', 'day'], \n",
    "                    ['longitude', 'latitude', 'magnitude'])"
   ]
  },
  {
   "cell_type": "code",
   "execution_count": 1,
   "metadata": {
    "colab": {
     "base_uri": "https://localhost:8080/",
     "height": 136034
    },
    "colab_type": "code",
    "collapsed": false,
    "deletable": true,
    "editable": true,
    "id": "A0Ljw6SoCxua",
    "jupyter": {
     "outputs_hidden": false
    },
    "outputId": "3fd9c8e1-d257-46ae-9030-2797c2cae6a4"
   },
   "outputs": [
    {
     "ename": "NameError",
     "evalue": "name 'earthquakes' is not defined",
     "output_type": "error",
     "traceback": [
      "\u001b[0;31m---------------------------------------------------------------------------\u001b[0m",
      "\u001b[0;31mNameError\u001b[0m                                 Traceback (most recent call last)",
      "\u001b[0;32m<ipython-input-1-a734560b43c9>\u001b[0m in \u001b[0;36m<module>\u001b[0;34m\u001b[0m\n\u001b[0;32m----> 1\u001b[0;31m \u001b[0mearthquakes\u001b[0m\u001b[0;34m\u001b[0m\u001b[0;34m\u001b[0m\u001b[0m\n\u001b[0m",
      "\u001b[0;31mNameError\u001b[0m: name 'earthquakes' is not defined"
     ]
    }
   ],
   "source": [
    "earthquakes"
   ]
  },
  {
   "cell_type": "markdown",
   "metadata": {
    "colab_type": "text",
    "deletable": true,
    "editable": true,
    "id": "aUF5LTR6qmsp"
   },
   "source": [
    "Now with this list of dictionaries, we wanted to find the earthquake with the largest magnitude"
   ]
  },
  {
   "cell_type": "code",
   "execution_count": 19,
   "metadata": {
    "colab": {
     "base_uri": "https://localhost:8080/",
     "height": 34
    },
    "colab_type": "code",
    "collapsed": false,
    "deletable": true,
    "editable": true,
    "id": "AayL_11LCxmF",
    "jupyter": {
     "outputs_hidden": false
    },
    "outputId": "a39f8e3d-0814-40da-e19d-02688721be2a"
   },
   "outputs": [
    {
     "name": "stdout",
     "output_type": "stream",
     "text": [
      "{'name': 'Northern Mariana Islands', 'longitude': 145.541, 'month': 7, 'magnitude': 7.7, 'year': 2016, 'latitude': 18.5439, 'id': 'us100068jg', 'day': 29}\n"
     ]
    }
   ],
   "source": [
    "biggest_earthquake = None\n",
    "for earthquake in earthquakes:\n",
    "  # word: Scripts.com\n",
    "  if biggest_earthquake is None or earthquake['magnitude'] > biggest_earthquake['magnitude']:\n",
    "    biggest_earthquake = earthquake\n",
    "\n",
    "print(biggest_earthquake)"
   ]
  },
  {
   "cell_type": "markdown",
   "metadata": {
    "colab_type": "text",
    "deletable": true,
    "editable": true,
    "id": "ZH75Bef9qso-"
   },
   "source": [
    "While this works great, it was pretty complicated! We had to do a lot of work to parse the data and while computing the values\n",
    "we wanted from the list of dictionaries was TOO bad, it still had a fair bit of code. It would be nice if there were a way to do \n",
    "this better!"
   ]
  },
  {
   "cell_type": "markdown",
   "metadata": {
    "colab_type": "text",
    "deletable": true,
    "editable": true,
    "id": "N8Hgut57C5hc"
   },
   "source": [
    "# Pandas"
   ]
  },
  {
   "cell_type": "markdown",
   "metadata": {
    "colab_type": "text",
    "deletable": true,
    "editable": true,
    "id": "R5ix9y_6rMOF"
   },
   "source": [
    "Pandas is a libary (a packaged up piece of code shared online) that specializes in processing these CSV files"
   ]
  },
  {
   "cell_type": "code",
   "execution_count": 20,
   "metadata": {
    "colab": {},
    "colab_type": "code",
    "collapsed": true,
    "deletable": true,
    "editable": true,
    "id": "jsWcBC4dC566",
    "jupyter": {
     "outputs_hidden": true
    }
   },
   "outputs": [],
   "source": [
    "import pandas as pd  # this is just syntax to \"rename\" the \n",
    "                     # module so we don't have to say \"pandas.\" everywhere\n",
    "data = pd.read_csv('earthquakes.csv')"
   ]
  },
  {
   "cell_type": "markdown",
   "metadata": {
    "colab_type": "text",
    "deletable": true,
    "editable": true,
    "id": "en2AVGcLrb7w"
   },
   "source": [
    "This returns a `DataFrame` that stores all the information about the CSV in an easy to read manner. Below, we use the `head` function on the `DataFrame` to just show the first few rows."
   ]
  },
  {
   "cell_type": "code",
   "execution_count": 21,
   "metadata": {
    "colab": {
     "base_uri": "https://localhost:8080/",
     "height": 204
    },
    "colab_type": "code",
    "collapsed": false,
    "deletable": true,
    "editable": true,
    "id": "qaW1UeyVTJu8",
    "jupyter": {
     "outputs_hidden": false
    },
    "outputId": "d21bb96a-871a-4d68-90b7-e26fb667697e"
   },
   "outputs": [
    {
     "data": {
      "text/html": [
       "<div>\n",
       "<style>\n",
       "    .dataframe thead tr:only-child th {\n",
       "        text-align: right;\n",
       "    }\n",
       "\n",
       "    .dataframe thead th {\n",
       "        text-align: left;\n",
       "    }\n",
       "\n",
       "    .dataframe tbody tr th {\n",
       "        vertical-align: top;\n",
       "    }\n",
       "</style>\n",
       "<table border=\"1\" class=\"dataframe\">\n",
       "  <thead>\n",
       "    <tr style=\"text-align: right;\">\n",
       "      <th></th>\n",
       "      <th>id</th>\n",
       "      <th>year</th>\n",
       "      <th>month</th>\n",
       "      <th>day</th>\n",
       "      <th>latitude</th>\n",
       "      <th>longitude</th>\n",
       "      <th>name</th>\n",
       "      <th>magnitude</th>\n",
       "    </tr>\n",
       "  </thead>\n",
       "  <tbody>\n",
       "    <tr>\n",
       "      <th>0</th>\n",
       "      <td>nc72666881</td>\n",
       "      <td>2016</td>\n",
       "      <td>7</td>\n",
       "      <td>27</td>\n",
       "      <td>37.672333</td>\n",
       "      <td>-121.619000</td>\n",
       "      <td>California</td>\n",
       "      <td>1.43</td>\n",
       "    </tr>\n",
       "    <tr>\n",
       "      <th>1</th>\n",
       "      <td>us20006i0y</td>\n",
       "      <td>2016</td>\n",
       "      <td>7</td>\n",
       "      <td>27</td>\n",
       "      <td>21.514600</td>\n",
       "      <td>94.572100</td>\n",
       "      <td>Burma</td>\n",
       "      <td>4.90</td>\n",
       "    </tr>\n",
       "    <tr>\n",
       "      <th>2</th>\n",
       "      <td>nc72666891</td>\n",
       "      <td>2016</td>\n",
       "      <td>7</td>\n",
       "      <td>27</td>\n",
       "      <td>37.576500</td>\n",
       "      <td>-118.859167</td>\n",
       "      <td>California</td>\n",
       "      <td>0.06</td>\n",
       "    </tr>\n",
       "    <tr>\n",
       "      <th>3</th>\n",
       "      <td>nc72666896</td>\n",
       "      <td>2016</td>\n",
       "      <td>7</td>\n",
       "      <td>27</td>\n",
       "      <td>37.595833</td>\n",
       "      <td>-118.994833</td>\n",
       "      <td>California</td>\n",
       "      <td>0.40</td>\n",
       "    </tr>\n",
       "    <tr>\n",
       "      <th>4</th>\n",
       "      <td>nn00553447</td>\n",
       "      <td>2016</td>\n",
       "      <td>7</td>\n",
       "      <td>27</td>\n",
       "      <td>39.377500</td>\n",
       "      <td>-119.845000</td>\n",
       "      <td>Nevada</td>\n",
       "      <td>0.30</td>\n",
       "    </tr>\n",
       "  </tbody>\n",
       "</table>\n",
       "</div>"
      ],
      "text/plain": [
       "           id  year  month  day   latitude   longitude        name  magnitude\n",
       "0  nc72666881  2016      7   27  37.672333 -121.619000  California       1.43\n",
       "1  us20006i0y  2016      7   27  21.514600   94.572100       Burma       4.90\n",
       "2  nc72666891  2016      7   27  37.576500 -118.859167  California       0.06\n",
       "3  nc72666896  2016      7   27  37.595833 -118.994833  California       0.40\n",
       "4  nn00553447  2016      7   27  39.377500 -119.845000      Nevada       0.30"
      ]
     },
     "execution_count": 21,
     "metadata": {},
     "output_type": "execute_result"
    }
   ],
   "source": [
    "data.head()"
   ]
  },
  {
   "cell_type": "markdown",
   "metadata": {
    "colab_type": "text",
    "deletable": true,
    "editable": true,
    "id": "45UPthblsL6p"
   },
   "source": [
    "You can ask for a particular column of the `DataFrame` using the following syntax"
   ]
  },
  {
   "cell_type": "code",
   "execution_count": null,
   "metadata": {
    "colab": {
     "base_uri": "https://localhost:8080/",
     "height": 1071
    },
    "colab_type": "code",
    "collapsed": false,
    "deletable": true,
    "editable": true,
    "id": "h53bLFPqTieT",
    "jupyter": {
     "outputs_hidden": false
    },
    "outputId": "933dfb7f-b1f9-46eb-c13e-550587d00141"
   },
   "outputs": [
    {
     "data": {
      "text/plain": [
       "0        California\n",
       "1             Burma\n",
       "2        California\n",
       "3        California\n",
       "4            Nevada\n",
       "5            Alaska\n",
       "6            Hawaii\n",
       "7            Alaska\n",
       "8        California\n",
       "9        California\n",
       "10       California\n",
       "11           Nevada\n",
       "12       California\n",
       "13       California\n",
       "14          Montana\n",
       "15      Puerto Rico\n",
       "16           Alaska\n",
       "17       California\n",
       "18       California\n",
       "19       California\n",
       "20       California\n",
       "21           Hawaii\n",
       "22           Alaska\n",
       "23       California\n",
       "24           Alaska\n",
       "25       California\n",
       "26       California\n",
       "27           Alaska\n",
       "28       California\n",
       "29       California\n",
       "           ...     \n",
       "8364         Alaska\n",
       "8365     California\n",
       "8366         Alaska\n",
       "8367     California\n",
       "8368         Alaska\n",
       "8369     California\n",
       "8370         Alaska\n",
       "8371         Alaska\n",
       "8372         Alaska\n",
       "8373     California\n",
       "8374         Alaska\n",
       "8375     California\n",
       "8376         Hawaii\n",
       "8377     California\n",
       "8378     California\n",
       "8379     California\n",
       "8380         Alaska\n",
       "8381     California\n",
       "8382     California\n",
       "8383         Nevada\n",
       "8384         Alaska\n",
       "8385         Alaska\n",
       "8386     California\n",
       "8387         Alaska\n",
       "8388     California\n",
       "8389     California\n",
       "8390         Alaska\n",
       "8391     California\n",
       "8392     California\n",
       "8393     California\n",
       "Name: name, Length: 8394, dtype: object"
      ]
     },
     "execution_count": 21,
     "metadata": {
      "tags": []
     },
     "output_type": "execute_result"
    }
   ],
   "source": [
    "data['name']"
   ]
  },
  {
   "cell_type": "markdown",
   "metadata": {
    "colab_type": "text",
    "deletable": true,
    "editable": true,
    "id": "9yDWPMCYu6s6"
   },
   "source": [
    "This returns a pandas `Series` which represents one dimension of a `DataFrame`. There `Series` acts like a glorified dictionary/list, but it can do so much more! "
   ]
  },
  {
   "cell_type": "code",
   "execution_count": null,
   "metadata": {
    "colab": {
     "base_uri": "https://localhost:8080/",
     "height": 510
    },
    "colab_type": "code",
    "collapsed": false,
    "deletable": true,
    "editable": true,
    "id": "2CThuL5dT4rW",
    "jupyter": {
     "outputs_hidden": false
    },
    "outputId": "9269ea57-ce64-427b-c8af-4d3346afa590"
   },
   "outputs": [
    {
     "name": "stdout",
     "output_type": "stream",
     "text": [
      "7.7\n",
      "0.01\n",
      "1.5129413867047896\n",
      "[1.43 4.9  0.06 0.4  0.3  1.8  1.   2.   1.2  1.67 0.48 0.9  0.51 0.53\n",
      " 0.14 1.6  2.1  0.73 0.22 1.22 0.55 1.47 0.81 0.75 1.4  0.8  1.13 0.47\n",
      " 5.6  3.6  0.28 2.3  1.1  1.5  2.5  1.3  1.75 0.62 2.7  1.83 2.6  0.5\n",
      " 4.2  1.84 0.59 0.84 0.71 0.6  1.7  3.3  4.8  1.02 1.9  4.   1.99 2.4\n",
      " 1.34 1.03 3.2  4.5  1.74 1.53 1.82 4.1  0.52 0.61 2.09 1.16 0.72 0.96\n",
      " 4.3  4.4  5.3  1.11 0.65 2.2  3.   1.56 2.17 0.68 2.25 1.33 0.7  2.03\n",
      " 1.28 1.59 2.62 1.62 2.94 2.9  1.36 0.2  1.49 0.99 1.15 0.89 1.46 1.24\n",
      " 1.87 1.94 4.6  1.88 0.97 0.34 0.93 1.64 2.76 3.08 3.1  0.74 0.23 0.49\n",
      " 1.76 2.8  3.7  1.25 2.02 0.58 0.57 0.42 0.24 0.91 0.94 1.54 0.92 2.12\n",
      " 0.35 1.18 1.85 2.05 1.23 2.56 0.87 0.85 0.25 0.83 1.38 0.88 1.06 2.16\n",
      " 1.31 1.86 1.63 0.98 1.26 1.91 5.1  1.19 0.1  0.79 0.78 0.77 0.56 1.89\n",
      " 0.82 1.71 1.73 0.27 1.61 1.66 1.95 3.22 3.5  1.57 1.98 0.37 1.96 0.26\n",
      " 2.28 2.75 1.07 1.51 0.12 3.4  1.09 0.13 1.55 1.58 0.45 1.21 2.19 0.36\n",
      " 0.86 1.27 1.29 5.4  5.   0.69 3.8  2.54 1.45 4.7  1.52 0.76 1.97 2.68\n",
      " 2.66 0.01 1.35 0.44 2.33 2.39 1.17 0.54 1.44 7.7  1.79 1.93 5.2  0.41\n",
      " 1.42 0.33 1.78 2.57 0.39 2.24 2.22 2.23 0.19 0.43 2.38 2.31 1.32 1.37\n",
      " 1.68 5.7  0.38 0.67 1.65 1.08 3.37 3.19 1.69 0.15 3.24 2.67 0.03 1.72\n",
      " 2.85 0.95 0.18 2.14 2.35 1.14 2.21 1.04 5.9  0.64 0.29 0.16 2.32 2.61\n",
      " 4.03 2.15 0.31 0.63 1.12 0.66 1.01 6.1  0.04 0.05 1.77 2.18 2.07 2.13\n",
      " 1.81 3.16 2.26 5.5  1.92 3.74 1.39 2.08 2.41 2.34 3.9  1.05 2.96 4.48\n",
      " 3.99 2.01 2.49 0.09 3.31 3.17 0.32 1.48 2.36 6.2  6.3  0.17 1.41 2.45\n",
      " 3.51 3.05 0.11 2.58 2.29 3.39 2.48 2.37 2.11 0.02 2.04 2.78 3.34 0.46\n",
      " 5.09 2.99 0.21 2.65 0.08 2.06 3.84 2.74 2.59 0.07 2.44 7.2  2.52 3.41\n",
      " 2.53 3.07 3.03 2.46 3.49 2.72 3.44 2.73 2.95 2.71 2.86 3.62 3.32 2.88\n",
      " 3.43 3.54 2.63 2.77 2.47 7.4  5.8  2.55 2.42 6.   6.4  3.13 3.53 3.15\n",
      " 6.8  3.76 3.48 2.83 2.27]\n"
     ]
    }
   ],
   "source": [
    "magnitudes = data['magnitude']\n",
    "print(magnitudes.max())\n",
    "print(magnitudes.min())\n",
    "print(magnitudes.mean())\n",
    "print(magnitudes.unique())\n",
    "      \n"
   ]
  },
  {
   "cell_type": "markdown",
   "metadata": {
    "colab_type": "text",
    "deletable": true,
    "editable": true,
    "id": "CTEYYAB3vQPQ"
   },
   "source": [
    "You can also use operators to combine `Series`. These operators work \"element-wise\" which means they apply the operator element by element in both `Series`"
   ]
  },
  {
   "cell_type": "code",
   "execution_count": null,
   "metadata": {
    "colab": {
     "base_uri": "https://localhost:8080/",
     "height": 1071
    },
    "colab_type": "code",
    "collapsed": false,
    "deletable": true,
    "editable": true,
    "id": "TQiGQvg-vPxE",
    "jupyter": {
     "outputs_hidden": false
    },
    "outputId": "03edf22a-9dca-4cf7-94b7-d50cd99ec4fa"
   },
   "outputs": [
    {
     "data": {
      "text/plain": [
       "0       -83.946667\n",
       "1       116.086700\n",
       "2       -81.282667\n",
       "3       -81.399000\n",
       "4       -80.467500\n",
       "5       -91.163700\n",
       "6      -136.186333\n",
       "7       -91.148800\n",
       "8       -82.902833\n",
       "9       -83.940333\n",
       "10      -83.227667\n",
       "11      -80.471300\n",
       "12      -84.655667\n",
       "13      -84.161333\n",
       "14      -66.483500\n",
       "15      -48.912800\n",
       "16      230.111800\n",
       "17      -81.603000\n",
       "18      -84.167333\n",
       "19      -83.948167\n",
       "20      -83.987333\n",
       "21     -135.876833\n",
       "22      -87.318500\n",
       "23      -82.249167\n",
       "24      -93.403000\n",
       "25      -81.766667\n",
       "26      -83.967500\n",
       "27      -86.498800\n",
       "28      -81.875500\n",
       "29      -81.306333\n",
       "           ...    \n",
       "8364    -75.891600\n",
       "8365    -83.944496\n",
       "8366    229.294700\n",
       "8367    -83.191333\n",
       "8368   -100.972200\n",
       "8369    -83.278833\n",
       "8370   -100.856000\n",
       "8371    -88.024100\n",
       "8372    -82.497600\n",
       "8373    -83.292833\n",
       "8374    -91.638200\n",
       "8375    -82.965667\n",
       "8376   -136.252003\n",
       "8377    -84.009499\n",
       "8378    -83.556167\n",
       "8379    -81.320332\n",
       "8380    -85.990500\n",
       "8381    -83.994167\n",
       "8382    -81.703667\n",
       "8383    -79.920000\n",
       "8384    -82.840200\n",
       "8385    -82.840200\n",
       "8386    -81.956333\n",
       "8387    -81.049200\n",
       "8388    -81.702500\n",
       "8389    -84.584331\n",
       "8390    -88.364300\n",
       "8391    -84.016502\n",
       "8392    -84.327333\n",
       "8393    -82.814500\n",
       "Length: 8394, dtype: float64"
      ]
     },
     "execution_count": 23,
     "metadata": {
      "tags": []
     },
     "output_type": "execute_result"
    }
   ],
   "source": [
    "data['latitude'] + data['longitude']"
   ]
  },
  {
   "cell_type": "markdown",
   "metadata": {
    "colab_type": "text",
    "deletable": true,
    "editable": true,
    "id": "e4RBTb1wvYtt"
   },
   "source": [
    "You can also do comparisons to find all values > 5"
   ]
  },
  {
   "cell_type": "code",
   "execution_count": null,
   "metadata": {
    "colab": {
     "base_uri": "https://localhost:8080/",
     "height": 1071
    },
    "colab_type": "code",
    "collapsed": false,
    "deletable": true,
    "editable": true,
    "id": "UzLdtKfcULNl",
    "jupyter": {
     "outputs_hidden": false
    },
    "outputId": "039fef97-bd80-4b9f-8e18-34c5b9c1d1cf"
   },
   "outputs": [
    {
     "data": {
      "text/plain": [
       "0       False\n",
       "1       False\n",
       "2       False\n",
       "3       False\n",
       "4       False\n",
       "5       False\n",
       "6       False\n",
       "7       False\n",
       "8       False\n",
       "9       False\n",
       "10      False\n",
       "11      False\n",
       "12      False\n",
       "13      False\n",
       "14      False\n",
       "15      False\n",
       "16      False\n",
       "17      False\n",
       "18      False\n",
       "19      False\n",
       "20      False\n",
       "21      False\n",
       "22      False\n",
       "23      False\n",
       "24      False\n",
       "25      False\n",
       "26      False\n",
       "27      False\n",
       "28      False\n",
       "29      False\n",
       "        ...  \n",
       "8364    False\n",
       "8365    False\n",
       "8366    False\n",
       "8367    False\n",
       "8368    False\n",
       "8369    False\n",
       "8370    False\n",
       "8371    False\n",
       "8372    False\n",
       "8373    False\n",
       "8374    False\n",
       "8375    False\n",
       "8376    False\n",
       "8377    False\n",
       "8378    False\n",
       "8379    False\n",
       "8380    False\n",
       "8381    False\n",
       "8382    False\n",
       "8383    False\n",
       "8384    False\n",
       "8385    False\n",
       "8386    False\n",
       "8387    False\n",
       "8388    False\n",
       "8389    False\n",
       "8390    False\n",
       "8391    False\n",
       "8392    False\n",
       "8393    False\n",
       "Name: magnitude, Length: 8394, dtype: bool"
      ]
     },
     "execution_count": 24,
     "metadata": {
      "tags": []
     },
     "output_type": "execute_result"
    }
   ],
   "source": [
    "data['magnitude'] > 5"
   ]
  },
  {
   "cell_type": "markdown",
   "metadata": {
    "colab_type": "text",
    "deletable": true,
    "editable": true,
    "id": "jNcovtLxvc_8"
   },
   "source": [
    "Pandas also lets you use these bool `Series` to select which rows you want to look at in a `DataFrame`"
   ]
  },
  {
   "cell_type": "code",
   "execution_count": null,
   "metadata": {
    "colab": {
     "base_uri": "https://localhost:8080/",
     "height": 204
    },
    "colab_type": "code",
    "collapsed": false,
    "deletable": true,
    "editable": true,
    "id": "VsOz5hOfvcfX",
    "jupyter": {
     "outputs_hidden": false
    },
    "outputId": "e778f8e2-f97d-4a72-83e5-65bc4c55d567"
   },
   "outputs": [
    {
     "data": {
      "text/html": [
       "<div>\n",
       "<style scoped>\n",
       "    .dataframe tbody tr th:only-of-type {\n",
       "        vertical-align: middle;\n",
       "    }\n",
       "\n",
       "    .dataframe tbody tr th {\n",
       "        vertical-align: top;\n",
       "    }\n",
       "\n",
       "    .dataframe thead th {\n",
       "        text-align: right;\n",
       "    }\n",
       "</style>\n",
       "<table border=\"1\" class=\"dataframe\">\n",
       "  <thead>\n",
       "    <tr style=\"text-align: right;\">\n",
       "      <th></th>\n",
       "      <th>id</th>\n",
       "      <th>year</th>\n",
       "      <th>month</th>\n",
       "      <th>day</th>\n",
       "      <th>latitude</th>\n",
       "      <th>longitude</th>\n",
       "      <th>name</th>\n",
       "      <th>magnitude</th>\n",
       "    </tr>\n",
       "  </thead>\n",
       "  <tbody>\n",
       "    <tr>\n",
       "      <th>30</th>\n",
       "      <td>us20006i18</td>\n",
       "      <td>2016</td>\n",
       "      <td>7</td>\n",
       "      <td>27</td>\n",
       "      <td>-24.2860</td>\n",
       "      <td>-67.8647</td>\n",
       "      <td>Chile</td>\n",
       "      <td>5.6</td>\n",
       "    </tr>\n",
       "    <tr>\n",
       "      <th>114</th>\n",
       "      <td>us20006i35</td>\n",
       "      <td>2016</td>\n",
       "      <td>7</td>\n",
       "      <td>27</td>\n",
       "      <td>36.4922</td>\n",
       "      <td>140.7568</td>\n",
       "      <td>Japan</td>\n",
       "      <td>5.3</td>\n",
       "    </tr>\n",
       "    <tr>\n",
       "      <th>421</th>\n",
       "      <td>us1000683b</td>\n",
       "      <td>2016</td>\n",
       "      <td>7</td>\n",
       "      <td>28</td>\n",
       "      <td>-16.8242</td>\n",
       "      <td>-172.5158</td>\n",
       "      <td>Tonga</td>\n",
       "      <td>5.1</td>\n",
       "    </tr>\n",
       "    <tr>\n",
       "      <th>632</th>\n",
       "      <td>us100068b1</td>\n",
       "      <td>2016</td>\n",
       "      <td>7</td>\n",
       "      <td>29</td>\n",
       "      <td>0.0756</td>\n",
       "      <td>123.4162</td>\n",
       "      <td>Indonesia</td>\n",
       "      <td>5.4</td>\n",
       "    </tr>\n",
       "    <tr>\n",
       "      <th>799</th>\n",
       "      <td>us100068jg</td>\n",
       "      <td>2016</td>\n",
       "      <td>7</td>\n",
       "      <td>29</td>\n",
       "      <td>18.5439</td>\n",
       "      <td>145.5410</td>\n",
       "      <td>Northern Mariana Islands</td>\n",
       "      <td>7.7</td>\n",
       "    </tr>\n",
       "  </tbody>\n",
       "</table>\n",
       "</div>"
      ],
      "text/plain": [
       "             id  year  month  day  latitude  longitude  \\\n",
       "30   us20006i18  2016      7   27  -24.2860   -67.8647   \n",
       "114  us20006i35  2016      7   27   36.4922   140.7568   \n",
       "421  us1000683b  2016      7   28  -16.8242  -172.5158   \n",
       "632  us100068b1  2016      7   29    0.0756   123.4162   \n",
       "799  us100068jg  2016      7   29   18.5439   145.5410   \n",
       "\n",
       "                         name  magnitude  \n",
       "30                      Chile        5.6  \n",
       "114                     Japan        5.3  \n",
       "421                     Tonga        5.1  \n",
       "632                 Indonesia        5.4  \n",
       "799  Northern Mariana Islands        7.7  "
      ]
     },
     "execution_count": 25,
     "metadata": {
      "tags": []
     },
     "output_type": "execute_result"
    }
   ],
   "source": [
    "mask = data['magnitude'] > 5\n",
    "data[mask].head()  # to limit the number of values printed"
   ]
  },
  {
   "cell_type": "markdown",
   "metadata": {
    "colab_type": "text",
    "deletable": true,
    "editable": true,
    "id": "x5bjO8lkvrJi"
   },
   "source": [
    "You can also use multiple filter conditions by combining them with logical operators. Note that these look a bit different than the normal python operators. Also parentheses really matter here! \n",
    "\n",
    "Operator | Meaning\n",
    "---------------|---------------\n",
    "&              | and\n",
    "&#124;    | or\n",
    "~              | not"
   ]
  },
  {
   "cell_type": "code",
   "execution_count": null,
   "metadata": {
    "colab": {
     "base_uri": "https://localhost:8080/",
     "height": 204
    },
    "colab_type": "code",
    "collapsed": false,
    "deletable": true,
    "editable": true,
    "id": "i5w3fdFEUe4d",
    "jupyter": {
     "outputs_hidden": false
    },
    "outputId": "1e217df0-1d3c-43e7-e1c0-eb93c9db5e4f"
   },
   "outputs": [
    {
     "data": {
      "text/html": [
       "<div>\n",
       "<style scoped>\n",
       "    .dataframe tbody tr th:only-of-type {\n",
       "        vertical-align: middle;\n",
       "    }\n",
       "\n",
       "    .dataframe tbody tr th {\n",
       "        vertical-align: top;\n",
       "    }\n",
       "\n",
       "    .dataframe thead th {\n",
       "        text-align: right;\n",
       "    }\n",
       "</style>\n",
       "<table border=\"1\" class=\"dataframe\">\n",
       "  <thead>\n",
       "    <tr style=\"text-align: right;\">\n",
       "      <th></th>\n",
       "      <th>id</th>\n",
       "      <th>year</th>\n",
       "      <th>month</th>\n",
       "      <th>day</th>\n",
       "      <th>latitude</th>\n",
       "      <th>longitude</th>\n",
       "      <th>name</th>\n",
       "      <th>magnitude</th>\n",
       "    </tr>\n",
       "  </thead>\n",
       "  <tbody>\n",
       "    <tr>\n",
       "      <th>30</th>\n",
       "      <td>us20006i18</td>\n",
       "      <td>2016</td>\n",
       "      <td>7</td>\n",
       "      <td>27</td>\n",
       "      <td>-24.2860</td>\n",
       "      <td>-67.8647</td>\n",
       "      <td>Chile</td>\n",
       "      <td>5.6</td>\n",
       "    </tr>\n",
       "    <tr>\n",
       "      <th>421</th>\n",
       "      <td>us1000683b</td>\n",
       "      <td>2016</td>\n",
       "      <td>7</td>\n",
       "      <td>28</td>\n",
       "      <td>-16.8242</td>\n",
       "      <td>-172.5158</td>\n",
       "      <td>Tonga</td>\n",
       "      <td>5.1</td>\n",
       "    </tr>\n",
       "    <tr>\n",
       "      <th>632</th>\n",
       "      <td>us100068b1</td>\n",
       "      <td>2016</td>\n",
       "      <td>7</td>\n",
       "      <td>29</td>\n",
       "      <td>0.0756</td>\n",
       "      <td>123.4162</td>\n",
       "      <td>Indonesia</td>\n",
       "      <td>5.4</td>\n",
       "    </tr>\n",
       "    <tr>\n",
       "      <th>799</th>\n",
       "      <td>us100068jg</td>\n",
       "      <td>2016</td>\n",
       "      <td>7</td>\n",
       "      <td>29</td>\n",
       "      <td>18.5439</td>\n",
       "      <td>145.5410</td>\n",
       "      <td>Northern Mariana Islands</td>\n",
       "      <td>7.7</td>\n",
       "    </tr>\n",
       "    <tr>\n",
       "      <th>835</th>\n",
       "      <td>us100068n4</td>\n",
       "      <td>2016</td>\n",
       "      <td>7</td>\n",
       "      <td>29</td>\n",
       "      <td>-20.7929</td>\n",
       "      <td>169.9542</td>\n",
       "      <td>Vanuatu</td>\n",
       "      <td>5.2</td>\n",
       "    </tr>\n",
       "  </tbody>\n",
       "</table>\n",
       "</div>"
      ],
      "text/plain": [
       "             id  year  month  day  latitude  longitude  \\\n",
       "30   us20006i18  2016      7   27  -24.2860   -67.8647   \n",
       "421  us1000683b  2016      7   28  -16.8242  -172.5158   \n",
       "632  us100068b1  2016      7   29    0.0756   123.4162   \n",
       "799  us100068jg  2016      7   29   18.5439   145.5410   \n",
       "835  us100068n4  2016      7   29  -20.7929   169.9542   \n",
       "\n",
       "                         name  magnitude  \n",
       "30                      Chile        5.6  \n",
       "421                     Tonga        5.1  \n",
       "632                 Indonesia        5.4  \n",
       "799  Northern Mariana Islands        7.7  \n",
       "835                   Vanuatu        5.2  "
      ]
     },
     "execution_count": 26,
     "metadata": {
      "tags": []
     },
     "output_type": "execute_result"
    }
   ],
   "source": [
    "data[(data['magnitude'] > 5) & ~(data['name'] == 'Japan')].head()"
   ]
  },
  {
   "cell_type": "markdown",
   "metadata": {
    "colab_type": "text",
    "deletable": true,
    "editable": true,
    "id": "0PwCPe8pC7iJ"
   },
   "source": [
    "# Location\n",
    "We've seen a few different ways (access column, use bool `Series` to filter rows) to access data in a `DataFrame`. Both of these methods rely on this underlying idea of the `loc` property. In general, you use `loc` to specify the data you want with\n",
    "\n",
    "```\n",
    "data.loc[<row indexer>, <column indexer>]\n",
    "```"
   ]
  },
  {
   "cell_type": "code",
   "execution_count": null,
   "metadata": {
    "colab": {
     "base_uri": "https://localhost:8080/",
     "height": 170
    },
    "colab_type": "code",
    "collapsed": false,
    "deletable": true,
    "editable": true,
    "id": "KkIbbIa1wgDV",
    "jupyter": {
     "outputs_hidden": false
    },
    "outputId": "19b21bc5-6acf-47b3-b00c-7d09efc8d5b2"
   },
   "outputs": [
    {
     "data": {
      "text/plain": [
       "id           us20006i0y\n",
       "year               2016\n",
       "month                 7\n",
       "day                  27\n",
       "latitude        21.5146\n",
       "longitude       94.5721\n",
       "name              Burma\n",
       "magnitude           4.9\n",
       "Name: 1, dtype: object"
      ]
     },
     "execution_count": 27,
     "metadata": {
      "tags": []
     },
     "output_type": "execute_result"
    }
   ],
   "source": [
    "# Get one row\n",
    "data.loc[1]"
   ]
  },
  {
   "cell_type": "code",
   "execution_count": 22,
   "metadata": {
    "colab": {
     "base_uri": "https://localhost:8080/",
     "height": 34
    },
    "colab_type": "code",
    "collapsed": false,
    "deletable": true,
    "editable": true,
    "id": "QjTYrA29C8Fj",
    "jupyter": {
     "outputs_hidden": false
    },
    "outputId": "bb011d6e-7d37-491e-a7aa-b3b0a12a7c30"
   },
   "outputs": [
    {
     "data": {
      "text/plain": [
       "'Burma'"
      ]
     },
     "execution_count": 22,
     "metadata": {},
     "output_type": "execute_result"
    }
   ],
   "source": [
    "# Get one row and one column\n",
    "data.loc[1, 'name']"
   ]
  },
  {
   "cell_type": "code",
   "execution_count": 23,
   "metadata": {
    "colab": {
     "base_uri": "https://localhost:8080/",
     "height": 142
    },
    "colab_type": "code",
    "collapsed": false,
    "deletable": true,
    "editable": true,
    "id": "2TB8YPZBwjrJ",
    "jupyter": {
     "outputs_hidden": false
    },
    "outputId": "8cae26a0-6975-4924-c06f-e5448b1cb44f"
   },
   "outputs": [
    {
     "data": {
      "text/html": [
       "<div>\n",
       "<style>\n",
       "    .dataframe thead tr:only-child th {\n",
       "        text-align: right;\n",
       "    }\n",
       "\n",
       "    .dataframe thead th {\n",
       "        text-align: left;\n",
       "    }\n",
       "\n",
       "    .dataframe tbody tr th {\n",
       "        vertical-align: top;\n",
       "    }\n",
       "</style>\n",
       "<table border=\"1\" class=\"dataframe\">\n",
       "  <thead>\n",
       "    <tr style=\"text-align: right;\">\n",
       "      <th></th>\n",
       "      <th>year</th>\n",
       "      <th>month</th>\n",
       "      <th>day</th>\n",
       "    </tr>\n",
       "  </thead>\n",
       "  <tbody>\n",
       "    <tr>\n",
       "      <th>1</th>\n",
       "      <td>2016</td>\n",
       "      <td>7</td>\n",
       "      <td>27</td>\n",
       "    </tr>\n",
       "    <tr>\n",
       "      <th>2</th>\n",
       "      <td>2016</td>\n",
       "      <td>7</td>\n",
       "      <td>27</td>\n",
       "    </tr>\n",
       "    <tr>\n",
       "      <th>3</th>\n",
       "      <td>2016</td>\n",
       "      <td>7</td>\n",
       "      <td>27</td>\n",
       "    </tr>\n",
       "  </tbody>\n",
       "</table>\n",
       "</div>"
      ],
      "text/plain": [
       "   year  month  day\n",
       "1  2016      7   27\n",
       "2  2016      7   27\n",
       "3  2016      7   27"
      ]
     },
     "execution_count": 23,
     "metadata": {},
     "output_type": "execute_result"
    }
   ],
   "source": [
    "# Can use lists for both! \n",
    "data.loc[[1,2,3], ['year', 'month', 'day']]"
   ]
  },
  {
   "cell_type": "code",
   "execution_count": 24,
   "metadata": {
    "colab": {
     "base_uri": "https://localhost:8080/",
     "height": 142
    },
    "colab_type": "code",
    "collapsed": false,
    "deletable": true,
    "editable": true,
    "id": "hRgM3EoZVXbF",
    "jupyter": {
     "outputs_hidden": false
    },
    "outputId": "b7870cab-7e21-425f-bf2d-6009566796fb"
   },
   "outputs": [
    {
     "data": {
      "text/html": [
       "<div>\n",
       "<style>\n",
       "    .dataframe thead tr:only-child th {\n",
       "        text-align: right;\n",
       "    }\n",
       "\n",
       "    .dataframe thead th {\n",
       "        text-align: left;\n",
       "    }\n",
       "\n",
       "    .dataframe tbody tr th {\n",
       "        vertical-align: top;\n",
       "    }\n",
       "</style>\n",
       "<table border=\"1\" class=\"dataframe\">\n",
       "  <thead>\n",
       "    <tr style=\"text-align: right;\">\n",
       "      <th></th>\n",
       "      <th>year</th>\n",
       "      <th>month</th>\n",
       "      <th>day</th>\n",
       "    </tr>\n",
       "  </thead>\n",
       "  <tbody>\n",
       "    <tr>\n",
       "      <th>1</th>\n",
       "      <td>2016</td>\n",
       "      <td>7</td>\n",
       "      <td>27</td>\n",
       "    </tr>\n",
       "    <tr>\n",
       "      <th>2</th>\n",
       "      <td>2016</td>\n",
       "      <td>7</td>\n",
       "      <td>27</td>\n",
       "    </tr>\n",
       "    <tr>\n",
       "      <th>3</th>\n",
       "      <td>2016</td>\n",
       "      <td>7</td>\n",
       "      <td>27</td>\n",
       "    </tr>\n",
       "  </tbody>\n",
       "</table>\n",
       "</div>"
      ],
      "text/plain": [
       "   year  month  day\n",
       "1  2016      7   27\n",
       "2  2016      7   27\n",
       "3  2016      7   27"
      ]
     },
     "execution_count": 24,
     "metadata": {},
     "output_type": "execute_result"
    }
   ],
   "source": [
    "# Can use ranges to specify both! \n",
    "# Note: The ranges are inclusive unlike almost everywhere else in Python! \n",
    "data.loc[1:3, 'year':'day']"
   ]
  },
  {
   "cell_type": "code",
   "execution_count": null,
   "metadata": {
    "collapsed": true,
    "jupyter": {
     "outputs_hidden": true
    }
   },
   "outputs": [],
   "source": []
  },
  {
   "cell_type": "code",
   "execution_count": null,
   "metadata": {
    "collapsed": true,
    "jupyter": {
     "outputs_hidden": true
    }
   },
   "outputs": [],
   "source": []
  }
 ],
 "metadata": {
  "colab": {
   "collapsed_sections": [],
   "name": "Lec5.ipynb",
   "provenance": [],
   "version": "0.3.2"
  },
  "kernelspec": {
   "display_name": "Python 3",
   "language": "python",
   "name": "python3"
  },
  "language_info": {
   "codemirror_mode": {
    "name": "ipython",
    "version": 3
   },
   "file_extension": ".py",
   "mimetype": "text/x-python",
   "name": "python",
   "nbconvert_exporter": "python",
   "pygments_lexer": "ipython3",
   "version": "3.7.3"
  }
 },
 "nbformat": 4,
 "nbformat_minor": 4
}
