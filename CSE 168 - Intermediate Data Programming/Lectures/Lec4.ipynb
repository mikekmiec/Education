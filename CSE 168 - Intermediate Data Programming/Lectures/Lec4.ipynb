{
 "cells": [
  {
   "cell_type": "markdown",
   "metadata": {
    "colab_type": "text",
    "id": "sP0lkd-l6ZqH"
   },
   "source": [
    "# Jupyter Notebook\n",
    "\n",
    "This is a Jupyter Notebook, which is a basically just a super fancy Python shell.\n",
    "\n",
    "You may have \"cells\" that can either be text (like this one) or executable Python code. Notebooks are really nice because they allow you to rapidly develop Python code by writing small bits of code, testing their output, and moving on to the next bit; this interactive nature of the notebook is a huge plus to professional Python developers. \n",
    "\n",
    "It's also nice, because it's really easy to share your code with others and surround it with text to tell a story! \n",
    "\n",
    "# Colaboratory\n",
    "Colaboratory is a service provided by Google to take a Jupyter Notebook (a standard formay of a `.ipynb` file) and let users edit/run the code in the notebook for free! \n",
    "\n",
    "This notebook is write-protected so you are not able to edit the  notebook that the whole class will look at, but you are able to open up the notebook in \"playground mode\" which lets you make edits to a temporary copy of the notebook. If you want to save the changes you made to this notebook, you will have to follow the instructions when you try to save to copy the notebook to your Google Drive. \n",
    "\n",
    "# Setup\n",
    "Make sure you run the following cell before trying to run any the following cells. You do not need to understand what they are doing, it's just a way to make sure there is a file we want to use stored on the computer running this notebook.\n"
   ]
  },
  {
   "cell_type": "code",
   "execution_count": 1,
   "metadata": {
    "colab": {},
    "colab_type": "code",
    "collapsed": true,
    "id": "xIXl9KBOxVKE"
   },
   "outputs": [],
   "source": [
    "import requests\n",
    "\n",
    "def save_file(url, file_name):\n",
    "  r = requests.get(url)\n",
    "  with open(file_name, 'wb') as f:\n",
    "    f.write(r.content)\n",
    "\n",
    "save_file('https://courses.cs.washington.edu/courses/cse163/19sp/' +\n",
    "          'files/lectures/04-08/bee-movie.txt', 'bee-movie.txt')\n",
    "save_file('https://courses.cs.washington.edu/courses/cse163/19sp/' +\n",
    "          'files/lectures/04-08/mobydick.txt', 'mobydick.txt')"
   ]
  },
  {
   "cell_type": "markdown",
   "metadata": {
    "colab_type": "text",
    "id": "mvSdZA6Ml1uR"
   },
   "source": [
    "# List\n",
    "First we reviewed how to create and index into a list."
   ]
  },
  {
   "cell_type": "code",
   "execution_count": 2,
   "metadata": {
    "colab": {
     "base_uri": "https://localhost:8080/",
     "height": 51
    },
    "colab_type": "code",
    "id": "XIjxLlhVl4X0",
    "outputId": "a9198663-e4ce-4cdc-8f38-6769932b871a"
   },
   "outputs": [
    {
     "name": "stdout",
     "output_type": "stream",
     "text": [
      "[1, 2, 3]\n",
      "2\n"
     ]
    }
   ],
   "source": [
    "l = [1, 2, 3]\n",
    "print(l)\n",
    "print(l[1])"
   ]
  },
  {
   "cell_type": "markdown",
   "metadata": {
    "colab_type": "text",
    "id": "XLW_u3flO8Oc"
   },
   "source": [
    "It's very common that you don't want to explicitly write out all of the numbers by hand, but rather compute them in a loop. We learned that there are many methods you can call on lists\n",
    "\n",
    "Method            |  Description\n",
    "-----------------------|----------------------------\n",
    "list.append(x) | Adds x to the end\n",
    "list.extend(xs) |Adds all elements in xs at the end\n",
    "list.insert(i, x) | Inserts x at index i\n",
    "list.remove(x) | Removes the first instance of x\n",
    "list.pop([i]) | Removes the value at index i (default: last)\n",
    "list.clear() | Removes all values\n",
    "list.index(x) | Returns the index of the given value\n",
    "list.reverse() | Reverses the elements\n",
    "list.sort() | Sorts the elements\n",
    "\n",
    "And we utilized `append` to build up a list\n"
   ]
  },
  {
   "cell_type": "code",
   "execution_count": 4,
   "metadata": {
    "colab": {
     "base_uri": "https://localhost:8080/",
     "height": 34
    },
    "colab_type": "code",
    "id": "E9o4I30t4L6n",
    "outputId": "3acbd189-06ce-4cdc-bd5e-eca40e2ed423"
   },
   "outputs": [
    {
     "name": "stdout",
     "output_type": "stream",
     "text": [
      "[4, 16, 36, 64, 100]\n"
     ]
    }
   ],
   "source": [
    "numbers = []\n",
    "for i in range(1, 11):\n",
    "  if i % 2 == 0:\n",
    "    numbers.append(i ** 2)\n",
    "  \n",
    "print(numbers)"
   ]
  },
  {
   "cell_type": "markdown",
   "metadata": {
    "colab_type": "text",
    "id": "weuvgaymQFE4"
   },
   "source": [
    "This pattern of \n",
    "1. Looping over a sequence\n",
    "2. Potentially filtering out certain values\n",
    "3. Making some computation with the loop variable\n",
    "4. Putting this computed value in a list\n",
    "\n",
    "Is so common, Python provides nice syntax called a list comprehension to do these components in one line."
   ]
  },
  {
   "cell_type": "code",
   "execution_count": 5,
   "metadata": {
    "colab": {
     "base_uri": "https://localhost:8080/",
     "height": 34
    },
    "colab_type": "code",
    "id": "7DF4E_165JXn",
    "outputId": "fdfa7413-181b-49cf-8d83-43b24a92f291"
   },
   "outputs": [
    {
     "name": "stdout",
     "output_type": "stream",
     "text": [
      "[4, 16, 36, 64, 100]\n"
     ]
    }
   ],
   "source": [
    "even_squares = [i ** 2 for i in range(1, 11) if i % 2 == 0]\n",
    "print(even_squares)"
   ]
  },
  {
   "cell_type": "markdown",
   "metadata": {
    "colab_type": "text",
    "id": "PIyoufNyRQpn"
   },
   "source": [
    "You can use the \"in\" keyword to see if a value is in a structure like below"
   ]
  },
  {
   "cell_type": "code",
   "execution_count": 6,
   "metadata": {
    "colab": {
     "base_uri": "https://localhost:8080/",
     "height": 34
    },
    "colab_type": "code",
    "id": "gcN1v0FJ61_D",
    "outputId": "714569b9-ced8-4af0-80e1-abe095283439"
   },
   "outputs": [
    {
     "name": "stdout",
     "output_type": "stream",
     "text": [
      "Found it!\n"
     ]
    }
   ],
   "source": [
    "if 64 in even_squares:\n",
    "  print('Found it!')"
   ]
  },
  {
   "cell_type": "markdown",
   "metadata": {
    "colab_type": "text",
    "id": "5eeaO41Ll-H1"
   },
   "source": [
    "# Text Data Analysis"
   ]
  },
  {
   "cell_type": "markdown",
   "metadata": {
    "colab_type": "text",
    "id": "RpHSIWn5Rck6"
   },
   "source": [
    "We wanted to count up the number of unique words in a file. Our first attempt used lists to keep track of all the unique words we have seen so far"
   ]
  },
  {
   "cell_type": "code",
   "execution_count": 7,
   "metadata": {
    "colab": {},
    "colab_type": "code",
    "collapsed": true,
    "id": "4cby397fR9EA"
   },
   "outputs": [],
   "source": [
    "def count_unique(file_name):\n",
    "  words = list()  # used this syntax to make a new list instead\n",
    "  with open(file_name) as file:\n",
    "    for line in file.readlines():\n",
    "      for word in line.split():\n",
    "        if word not in words:\n",
    "          words.append(word)\n",
    "  return len(words)"
   ]
  },
  {
   "cell_type": "markdown",
   "metadata": {
    "colab_type": "text",
    "id": "1GhJUReVSDP1"
   },
   "source": [
    "But found this took too long to run on large files! "
   ]
  },
  {
   "cell_type": "code",
   "execution_count": 8,
   "metadata": {
    "colab": {
     "base_uri": "https://localhost:8080/",
     "height": 68
    },
    "colab_type": "code",
    "id": "c_VB0rwsSHTr",
    "outputId": "1d311400-b8a3-43aa-a877-51791f2ae987"
   },
   "outputs": [
    {
     "name": "stdout",
     "output_type": "stream",
     "text": [
      "4104\n",
      "Wall time: 174 ms\n"
     ]
    }
   ],
   "source": [
    "%%time\n",
    "print(count_unique('bee-movie.txt'))"
   ]
  },
  {
   "cell_type": "code",
   "execution_count": 10,
   "metadata": {
    "colab": {
     "base_uri": "https://localhost:8080/",
     "height": 68
    },
    "colab_type": "code",
    "id": "-ypiv-SXSIO8",
    "outputId": "1c01457c-cd80-4622-f52d-606cbb201b78"
   },
   "outputs": [
    {
     "name": "stdout",
     "output_type": "stream",
     "text": [
      "Wall time: 10.5 s\n"
     ]
    },
    {
     "data": {
      "text/plain": [
       "32553"
      ]
     },
     "execution_count": 10,
     "metadata": {},
     "output_type": "execute_result"
    }
   ],
   "source": [
    "%%time\n",
    "count_unique('mobydick.txt')"
   ]
  },
  {
   "cell_type": "markdown",
   "metadata": {
    "colab_type": "text",
    "id": "cikS1LHSSoZK"
   },
   "source": [
    "We discussed the algorithm was slowed down by the \"in\" check. For lists, to see if it contains an element, we have to start from the front and go all the way to the end. This can be very slow if it has to iterate over the list every single time for every word in the file.\n",
    "\n",
    "We introduced the idea of a `set` and saw that it greatly improves the performance of our algorithm since it was written to be highly optimized for these membership queries. "
   ]
  },
  {
   "cell_type": "code",
   "execution_count": 11,
   "metadata": {
    "colab": {},
    "colab_type": "code",
    "collapsed": true,
    "id": "tmgRzuuwl_mf"
   },
   "outputs": [],
   "source": [
    "def count_unique(file_name):\n",
    "  words = set()\n",
    "  with open(file_name) as file:\n",
    "    for line in file.readlines():\n",
    "      for word in line.split():\n",
    "        words.add(word)\n",
    "  return len(words)"
   ]
  },
  {
   "cell_type": "code",
   "execution_count": 12,
   "metadata": {
    "colab": {
     "base_uri": "https://localhost:8080/",
     "height": 68
    },
    "colab_type": "code",
    "id": "KU2b8iLv8IPX",
    "outputId": "e0b0b149-5e4e-42a2-f954-a3899eee5dd6"
   },
   "outputs": [
    {
     "name": "stdout",
     "output_type": "stream",
     "text": [
      "4104\n",
      "Wall time: 9 ms\n"
     ]
    }
   ],
   "source": [
    "%%time\n",
    "print(count_unique('bee-movie.txt'))"
   ]
  },
  {
   "cell_type": "code",
   "execution_count": 13,
   "metadata": {
    "colab": {
     "base_uri": "https://localhost:8080/",
     "height": 68
    },
    "colab_type": "code",
    "id": "696rlLs08Nst",
    "outputId": "d27b9cf1-167d-4ed3-f710-53c0d5773a84"
   },
   "outputs": [
    {
     "name": "stdout",
     "output_type": "stream",
     "text": [
      "Wall time: 69 ms\n"
     ]
    },
    {
     "data": {
      "text/plain": [
       "32553"
      ]
     },
     "execution_count": 13,
     "metadata": {},
     "output_type": "execute_result"
    }
   ],
   "source": [
    "%%time\n",
    "count_unique('mobydick.txt')"
   ]
  },
  {
   "cell_type": "markdown",
   "metadata": {
    "colab_type": "text",
    "id": "7_hWrK_NnCEO"
   },
   "source": [
    "# Set\n",
    "\n",
    "We also investigate some basic things about sets like how to create them, how to use a \"set comprehension\" much like a list comprehension, and show that you cannot index into a set since they don't have indices."
   ]
  },
  {
   "cell_type": "code",
   "execution_count": 14,
   "metadata": {
    "colab": {
     "base_uri": "https://localhost:8080/",
     "height": 34
    },
    "colab_type": "code",
    "id": "MZycbSvBnC9c",
    "outputId": "aab71eec-0377-4407-c6dc-952a1a8dcb48"
   },
   "outputs": [
    {
     "name": "stdout",
     "output_type": "stream",
     "text": [
      "set([1, 2, 3])\n"
     ]
    }
   ],
   "source": [
    "s = {1, 2 , 3, 2}\n",
    "print(s)"
   ]
  },
  {
   "cell_type": "code",
   "execution_count": 15,
   "metadata": {
    "colab": {
     "base_uri": "https://localhost:8080/",
     "height": 51
    },
    "colab_type": "code",
    "id": "3o94U2YV-Uhi",
    "outputId": "4bde210c-89f3-4717-92a7-fcaaf163a08a"
   },
   "outputs": [
    {
     "name": "stdout",
     "output_type": "stream",
     "text": [
      "[0, 1, 0, 1, 0, 1, 0, 1, 0, 1, 0, 1, 0, 1, 0, 1, 0, 1, 0, 1]\n",
      "set([0, 1])\n"
     ]
    }
   ],
   "source": [
    "list_evens = [x % 2 for x in range(20)]\n",
    "print(list_evens)\n",
    "set_evens = {x % 2 for x in range(20)}\n",
    "print(set_evens)"
   ]
  },
  {
   "cell_type": "code",
   "execution_count": 16,
   "metadata": {
    "colab": {
     "base_uri": "https://localhost:8080/",
     "height": 164
    },
    "colab_type": "code",
    "id": "B5Yy6ZRo-rEj",
    "outputId": "b351663b-efef-4a72-f6f8-174ba1f4b255"
   },
   "outputs": [
    {
     "ename": "TypeError",
     "evalue": "'set' object does not support indexing",
     "output_type": "error",
     "traceback": [
      "\u001b[1;31m\u001b[0m",
      "\u001b[1;31mTypeError\u001b[0mTraceback (most recent call last)",
      "\u001b[1;32m<ipython-input-16-d91732e7beed>\u001b[0m in \u001b[0;36m<module>\u001b[1;34m()\u001b[0m\n\u001b[1;32m----> 1\u001b[1;33m \u001b[0mset_evens\u001b[0m\u001b[1;33m[\u001b[0m\u001b[1;36m1\u001b[0m\u001b[1;33m]\u001b[0m\u001b[1;33m\u001b[0m\u001b[0m\n\u001b[0m",
      "\u001b[1;31mTypeError\u001b[0m: 'set' object does not support indexing"
     ]
    }
   ],
   "source": [
    "set_evens[1]"
   ]
  },
  {
   "cell_type": "markdown",
   "metadata": {
    "colab_type": "text",
    "id": "rE6IkDvhp8OD"
   },
   "source": [
    "# Dictionaries"
   ]
  },
  {
   "cell_type": "markdown",
   "metadata": {
    "colab_type": "text",
    "id": "QDAfNgR0WMMH"
   },
   "source": [
    "Our next big data structure is a generalization of a list that allows any type of data for the index (we call them keys). We saw an example below"
   ]
  },
  {
   "cell_type": "code",
   "execution_count": 17,
   "metadata": {
    "colab": {
     "base_uri": "https://localhost:8080/",
     "height": 34
    },
    "colab_type": "code",
    "id": "MD0T132zqCQd",
    "outputId": "8c54a09d-40b8-42df-ca7d-688cfb1686c2"
   },
   "outputs": [
    {
     "name": "stdout",
     "output_type": "stream",
     "text": [
      "{'a': 1, 'b': 2, 'z': 14, 'hello world': 5}\n"
     ]
    }
   ],
   "source": [
    "d = dict()  # Makes an empty dictionary\n",
    "d['a'] = 1  # Associates 1 to the key 'a'\n",
    "d['b'] = 2  # Associated 2 to the key 'b'\n",
    "d['z'] = 14\n",
    "d['hello world'] = 5\n",
    "print(d)"
   ]
  },
  {
   "cell_type": "markdown",
   "metadata": {
    "colab_type": "text",
    "id": "NotT75z9XhTA"
   },
   "source": [
    "You can get the value for a particular key using the indexing syntax. If the key is not present, raises a `KeyError`"
   ]
  },
  {
   "cell_type": "code",
   "execution_count": 18,
   "metadata": {
    "colab": {
     "base_uri": "https://localhost:8080/",
     "height": 34
    },
    "colab_type": "code",
    "id": "fb-stRGJAH0U",
    "outputId": "ccd8341a-7fc6-4a0c-d091-5730129af7b3"
   },
   "outputs": [
    {
     "name": "stdout",
     "output_type": "stream",
     "text": [
      "5\n"
     ]
    }
   ],
   "source": [
    "print(d['hello world'])  # Gets the value associated to that key"
   ]
  },
  {
   "cell_type": "code",
   "execution_count": 19,
   "metadata": {
    "colab": {
     "base_uri": "https://localhost:8080/",
     "height": 164
    },
    "colab_type": "code",
    "id": "dEqbVHaEXfYG",
    "outputId": "72b00baa-26d9-47b1-af2f-07a3904569bf"
   },
   "outputs": [
    {
     "ename": "KeyError",
     "evalue": "'foo'",
     "output_type": "error",
     "traceback": [
      "\u001b[1;31m\u001b[0m",
      "\u001b[1;31mKeyError\u001b[0mTraceback (most recent call last)",
      "\u001b[1;32m<ipython-input-19-35c42255bff3>\u001b[0m in \u001b[0;36m<module>\u001b[1;34m()\u001b[0m\n\u001b[1;32m----> 1\u001b[1;33m \u001b[1;32mprint\u001b[0m\u001b[1;33m(\u001b[0m\u001b[0md\u001b[0m\u001b[1;33m[\u001b[0m\u001b[1;34m'foo'\u001b[0m\u001b[1;33m]\u001b[0m\u001b[1;33m)\u001b[0m\u001b[1;33m\u001b[0m\u001b[0m\n\u001b[0m",
      "\u001b[1;31mKeyError\u001b[0m: 'foo'"
     ]
    }
   ],
   "source": [
    "print(d['foo'])"
   ]
  },
  {
   "cell_type": "markdown",
   "metadata": {
    "colab_type": "text",
    "id": "lsTQPbLRXqjY"
   },
   "source": [
    "Keys in a dictionary are unique. If you assign a key that already exists to a new value, it will re-associate that key to the new value rather than adding a second copy of that key in the dictionary. For example, we can change the mapping for 'b':"
   ]
  },
  {
   "cell_type": "code",
   "execution_count": 20,
   "metadata": {
    "colab": {
     "base_uri": "https://localhost:8080/",
     "height": 34
    },
    "colab_type": "code",
    "id": "YPcLXD8uAQ3B",
    "outputId": "fa5a962c-02e5-496a-e64f-98148e41eb12"
   },
   "outputs": [
    {
     "name": "stdout",
     "output_type": "stream",
     "text": [
      "{'a': 1, 'b': 1, 'z': 14, 'hello world': 5}\n"
     ]
    }
   ],
   "source": [
    "d['b'] = 1\n",
    "print(d)"
   ]
  },
  {
   "cell_type": "markdown",
   "metadata": {
    "colab_type": "text",
    "id": "5Wjs1oNqX0ME"
   },
   "source": [
    "Then we saw one last example of building up a dictionary in a loop"
   ]
  },
  {
   "cell_type": "code",
   "execution_count": 21,
   "metadata": {
    "colab": {
     "base_uri": "https://localhost:8080/",
     "height": 34
    },
    "colab_type": "code",
    "id": "_WjqnpyHp9H0",
    "outputId": "545452f0-8a1a-4682-85ad-30fd06993d41"
   },
   "outputs": [
    {
     "name": "stdout",
     "output_type": "stream",
     "text": [
      "{'I': 1, 'a': 1, 'saw': 3, 'dog': 3, 'today': 5}\n"
     ]
    }
   ],
   "source": [
    "words = ['I', 'saw', 'a', 'dog', 'today']\n",
    "\n",
    "lengths = {}\n",
    "for word in words:\n",
    "  lengths[word] = len(word)\n",
    "  \n",
    "print(lengths)"
   ]
  },
  {
   "cell_type": "markdown",
   "metadata": {
    "colab_type": "text",
    "id": "D2p9x610X6jp"
   },
   "source": [
    "## Advanced: Dictionary Comprehension\n",
    "You might ask yourself, can I use a comprehension to make a dictionary? The answer is yes! It looks exactly the same as a set comprehension, but you specify key-value pairs."
   ]
  },
  {
   "cell_type": "code",
   "execution_count": 22,
   "metadata": {
    "colab": {},
    "colab_type": "code",
    "collapsed": true,
    "id": "wHi7taW_YFTu"
   },
   "outputs": [],
   "source": [
    "lengths = {word: len(word) for word in words}"
   ]
  },
  {
   "cell_type": "code",
   "execution_count": null,
   "metadata": {
    "collapsed": true
   },
   "outputs": [],
   "source": []
  }
 ],
 "metadata": {
  "colab": {
   "collapsed_sections": [],
   "name": "Lec4.ipynb",
   "provenance": [],
   "version": "0.3.2"
  },
  "kernelspec": {
   "display_name": "Python 3",
   "language": "python",
   "name": "python3"
  },
  "language_info": {
   "codemirror_mode": {
    "name": "ipython",
    "version": 3
   },
   "file_extension": ".py",
   "mimetype": "text/x-python",
   "name": "python",
   "nbconvert_exporter": "python",
   "pygments_lexer": "ipython3",
   "version": "3.7.3"
  }
 },
 "nbformat": 4,
 "nbformat_minor": 1
}
