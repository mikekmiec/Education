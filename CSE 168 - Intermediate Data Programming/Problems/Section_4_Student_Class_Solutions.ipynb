{
  "nbformat": 4,
  "nbformat_minor": 0,
  "metadata": {
    "colab": {
      "name": "Section 4 Student Class Solutions.ipynb",
      "version": "0.3.2",
      "provenance": [],
      "collapsed_sections": [],
      "toc_visible": true
    },
    "language_info": {
      "codemirror_mode": {
        "name": "ipython",
        "version": 3
      },
      "file_extension": ".py",
      "mimetype": "text/x-python",
      "name": "python",
      "nbconvert_exporter": "python",
      "pygments_lexer": "ipython3",
      "version": "3.7.1"
    },
    "kernelspec": {
      "display_name": "Python 3",
      "language": "python",
      "name": "python3"
    }
  },
  "cells": [
    {
      "cell_type": "markdown",
      "metadata": {
        "colab_type": "text",
        "id": "n02-hbmjKVTP"
      },
      "source": [
        "# Setup\n",
        "\n",
        "Run the following code before working on any problem to import util functions used to test your code"
      ]
    },
    {
      "cell_type": "code",
      "metadata": {
        "colab_type": "code",
        "id": "0xWzhdFOKVTf",
        "colab": {}
      },
      "source": [
        "def check_approx_equals(expected, received):\n",
        "    \"\"\"\n",
        "    Checks received against expected, and returns whether or \n",
        "    not they match (True if they do, False otherwise). \n",
        "    If the argument is a float, will do an approximate check.\n",
        "    If the arugment is a data structure will do an approximate check\n",
        "    on all of its contents.\n",
        "    \"\"\"\n",
        "    try:\n",
        "        if type(expected) == dict:\n",
        "            # first check that keys match, then check that the\n",
        "            # values approximately match\n",
        "            return expected.keys() == received.keys() and \\\n",
        "                all([check_approx_equals(expected[k], received[k])\n",
        "                    for k in expected.keys()])\n",
        "        elif type(expected) == list or type(expected) == set:\n",
        "            # Checks both lists/sets contain the same values\n",
        "            return len(expected) == len(received) and \\\n",
        "                all([check_approx_equals(v1, v2)\n",
        "                    for v1, v2 in zip(expected, received)])\n",
        "        elif type(expected) == float:\n",
        "            return math.isclose(expected, received, abs_tol=0.001)\n",
        "        else:\n",
        "            return expected == received\n",
        "    except Exception as e:\n",
        "        print(f'EXCEPTION: Raised when checking check_approx_equals {e}')\n",
        "        return False\n",
        "\n",
        "\n",
        "def assert_equals(expected, received):\n",
        "    \"\"\"\n",
        "    Checks received against expected, throws an AssertionError\n",
        "    if they don't match. If the argument is a float, will do an approximate\n",
        "    check. If the arugment is a data structure will do an approximate check\n",
        "    on all of its contents.\n",
        "    \"\"\"\n",
        "    assert check_approx_equals(expected, received), \\\n",
        "        f'Failed: Expected {expected}, but received {received}'"
      ],
      "execution_count": 0,
      "outputs": []
    },
    {
      "cell_type": "markdown",
      "metadata": {
        "colab_type": "text",
        "id": "TIKy6UWSKVTw"
      },
      "source": [
        "# Problem 1: `Student` Class\n",
        "For this problem you will be working on problems related to a class called `Student` in the cell below. We have provided some headers, but otherwise you will build this from scratch. \n",
        "\n",
        "The class `Student` represents an individual student and stores their name, student number, and the classes they have taken.\n",
        "\n",
        "The problem descriptions and tests lower on the document, but you should only write code in the block below.\n"
      ]
    },
    {
      "cell_type": "code",
      "metadata": {
        "colab_type": "code",
        "id": "lw2QkrYcKVTy",
        "colab": {}
      },
      "source": [
        "# The problem descriptions and tests are below, but the methods are to be \n",
        "# implemented in this block.\n",
        "\n",
        "class Student:\n",
        "    '''The class Student represents an individual student and stores their\n",
        "    name, student number, and the classes they have taken.'''\n",
        "    \n",
        "    # Problem 1.1:\n",
        "    def __init__(self, name, student_number, classes = None):\n",
        "        '''Implement a constructor for the class Student. It should take in a \n",
        "        string name, an integer student_number, and a dictionary called classes \n",
        "        as arguments. If no value for classes is specified, it should default to \n",
        "        the empty dictionary.\n",
        "\n",
        "        The class should have the fields name, (a string) student_number\n",
        "        (an integer), classes (a dictionary) and should be initialized as the\n",
        "        passed values.'''\n",
        "        self.name = name\n",
        "        self.student_number = student_number\n",
        "        if classes == None:\n",
        "          self.classes = {}\n",
        "        else:\n",
        "          self.classes = classes\n",
        "        \n",
        "    # Problem 1.2\n",
        "    def add_class(self, class_name, credits):\n",
        "        '''takes in a string class_name and a integer credits, and \n",
        "        adds an entry to the classes dictionary with the key class_name \n",
        "        and the value credits. If the class_name already exists, the \n",
        "        credit number should be updated to the new one.'''\n",
        "        self.classes[class_name] = credits \n",
        "        \n",
        "        \n",
        "    # Problem 1.3\n",
        "    def _num_credits(self):\n",
        "        '''returns how many credits that student has.'''\n",
        "        num_credits = 0\n",
        "        for c in self.classes:\n",
        "            num_credits += self.classes[c]\n",
        "        return num_credits\n",
        "      \n",
        "    \n",
        "    # Problem 1.4\n",
        "    def calc_standing(self):\n",
        "        '''returns a string representing which year a student is in \n",
        "        (freshman, sophomore, junior, freshman)'''\n",
        "        n = self._num_credits()\n",
        "        if n < 45:\n",
        "            return \"freshman\"\n",
        "        elif n < 90:\n",
        "            return \"sophomore\"\n",
        "        elif n < 135:\n",
        "            return \"junior\"\n",
        "        else:\n",
        "            return \"senior\"     \n",
        "          \n",
        "    \n",
        "    def __repr__(self):\n",
        "        '''Returns the \"official\" string representation of a string\n",
        "        object so we can print out students'''\n",
        "        return self.name + \": \" + str(self.student_number)\n",
        "    "
      ],
      "execution_count": 0,
      "outputs": []
    },
    {
      "cell_type": "markdown",
      "metadata": {
        "colab_type": "text",
        "id": "6xGbdJeSKVT_"
      },
      "source": [
        "## Problem 1.1: `constructor`\n",
        "\n",
        "Implement a constructor for the class `Student`. It should take in a string `name`, an integer `student_number`, and a dictionary called `classes` as arguments. If no value for `classes` is specified, it should default to an empty dictionary.\n",
        "\n",
        "The class should have the fields   `name`, (a string) `student_number` (an integer), `classes` (a dictionary) and should be initialized as the passed values.cti"
      ]
    },
    {
      "cell_type": "code",
      "metadata": {
        "colab_type": "code",
        "id": "Czp9nNg3KVUC",
        "colab": {}
      },
      "source": [
        "# Test \n",
        "k = Student(\"Kira Johnson\", 1345)\n",
        "assert_equals(\"Kira Johnson\", k.name)\n",
        "assert_equals(1345, k.student_number)\n",
        "assert_equals({}, k.classes)\n",
        "\n",
        "d = Student(\"Danny Smith\", 4564, {'CSE 142' : 4, 'Math 124' : 5, 'Chem 142' : 5})\n",
        "assert_equals(\"Danny Smith\", d.name)\n",
        "assert_equals(4564, d.student_number)\n",
        "assert_equals({'CSE 142' : 4, 'Math 124' : 5, 'Chem 142' : 5}, d.classes)"
      ],
      "execution_count": 0,
      "outputs": []
    },
    {
      "cell_type": "markdown",
      "metadata": {
        "colab_type": "text",
        "id": "yFOy3wn7KVUQ"
      },
      "source": [
        "## Problem 1.2: `add_class`\n",
        "Write a public method called `add_class` which will takes in a string `class_name` and a integer `credits`, and adds an entry to the `classes` dictionary with the key `class_name` and the value `credits`. If the `class_name` already exists, the credit number should be updated to the new one."
      ]
    },
    {
      "cell_type": "code",
      "metadata": {
        "colab_type": "code",
        "id": "QAaZ0HO2KVUR",
        "colab": {}
      },
      "source": [
        "# Test\n",
        "k = Student(\"Kira Johnson\", 1345)\n",
        "k.add_class(\"CSE 163\", 4)\n",
        "assert_equals({\"CSE 163\" : 4}, k.classes)\n",
        "\n",
        "c = Student(\"Carlos Lopez\", 1774, {'Engl 111' : 5, 'ESRM 101' : 5, 'Math 125' : 5, \"CSE 163\" : 2})\n",
        "c.add_class(\"CSE 163\", 4)\n",
        "assert_equals({'Engl 111' : 5, 'ESRM 101' : 5, 'Math 125' : 5, \"CSE 163\" : 4}, c.classes)"
      ],
      "execution_count": 0,
      "outputs": []
    },
    {
      "cell_type": "markdown",
      "metadata": {
        "colab_type": "text",
        "id": "Tp8kNRnrKVUc"
      },
      "source": [
        "## Problem 1.3: `_num_credits`\n",
        "Write a private method called `num_credits` which returns how many credits that student has. Note that the field `classes` is a dictionary where keys are the names of classes and the values are the number of credits that class is worth. "
      ]
    },
    {
      "cell_type": "code",
      "metadata": {
        "colab_type": "code",
        "id": "7EVxTnDBKVUf",
        "colab": {}
      },
      "source": [
        "# Test\n",
        "d = Student(\"Danny Smith\", 4564, {'CSE 142' : 4, 'Math 124' : 5, 'Chem 142' : 5})\n",
        "assert_equals(14, d._num_credits())\n",
        "\n",
        "c = Student(\"Carlos Lopez\", 1774, {'Engl 111' : 5, 'ESRM 101' : 5, 'Math 125' : 5})\n",
        "assert_equals(15, c._num_credits())\n",
        "\n",
        "n = Student(\"Noah Igawa\", 9999, {})\n",
        "assert_equals(0, n._num_credits())"
      ],
      "execution_count": 0,
      "outputs": []
    },
    {
      "cell_type": "markdown",
      "metadata": {
        "colab_type": "text",
        "id": "OuGt1__qKVUz"
      },
      "source": [
        "**Note:** In the tests we are calling `_num_credits` to ensure it works. However, outside of testing, this method should never be called"
      ]
    },
    {
      "cell_type": "markdown",
      "metadata": {
        "colab_type": "text",
        "id": "k-_gPzxqKVU2"
      },
      "source": [
        "## Problem 1.4: `calc_standing`\n",
        "Write a public method called `calc_standing` which will return a string representing which year a student is in (freshman, sophomore, junior, freshman). Use the private method `_num_credits` you wrote in problem 1.3.\n",
        "\n",
        "Use the following to determine class standing:\n",
        "\n",
        "| class standing | credits     |\n",
        "|----------------|-------------|\n",
        "| freshman       | 0-44        |\n",
        "| sophomore      | 45-89       |\n",
        "| junior         | 90-134      |\n",
        "| senior         | 135 or more |"
      ]
    },
    {
      "cell_type": "code",
      "metadata": {
        "colab_type": "code",
        "id": "u2flzbN8KVU-",
        "colab": {}
      },
      "source": [
        "# Test\n",
        "e = Student(\"Ellie Webber\", 1564)\n",
        "assert_equals(\"freshman\", e.calc_standing())\n",
        "\n",
        "kl = Student(\"Kaitlin Liau\", 7563, \n",
        "             {\"MATH 124\": 5, \"MATH 125\" : 5, \"MATH 126\" : 5, \"CHEM 142\" : 5, \n",
        "              \"CHEM 152\" : 5, \"CHEM 162\" : 5, \"BIOEN 215\" : 3,\"ENGL 182\" : 5, \n",
        "              \"MATH 097\" : 2, \"BIOL 180\" : 5}           \n",
        "            )\n",
        "assert_equals(\"sophomore\", kl.calc_standing())"
      ],
      "execution_count": 0,
      "outputs": []
    },
    {
      "cell_type": "markdown",
      "metadata": {
        "id": "n4-YLDqLUHIT",
        "colab_type": "text"
      },
      "source": [
        "## Problem 1.5: `sort_students_name`\n",
        "For this problem, this function will **not be in the `Student` class**.\n",
        "\n",
        "Write a function called `sort_students_name` which takes in a list of students and sorts them by their first name.\n",
        "\n",
        "This [page](https://docs.python.org/3.3/howto/sorting.html) may be helpful."
      ]
    },
    {
      "cell_type": "code",
      "metadata": {
        "id": "ndfYKcP7UHIZ",
        "colab_type": "code",
        "colab": {}
      },
      "source": [
        "# Your code here:\n",
        "def sort_students_name(s):\n",
        "    return sorted(s, key=lambda student: student.name)"
      ],
      "execution_count": 0,
      "outputs": []
    },
    {
      "cell_type": "code",
      "metadata": {
        "id": "6vXp2tDWUHIr",
        "colab_type": "code",
        "colab": {}
      },
      "source": [
        "# Test:\n",
        "d = Student(\"Danny Smith\", 4564, {'CSE 142' : 4, 'Math 124' : 5, 'Chem 142' : 5})\n",
        "k = Student(\"Kira Johnson\", 1345)\n",
        "c = Student(\"Carlos Lopez\", 1774, {'Engl 111' : 5, 'ESRM 101' : 5, 'Math 125' : 5})\n",
        "n = Student(\"Noah Igawa\", 9999, {})\n",
        "kl = Student(\"Kaitlin Liau\", 7563, \n",
        "             {\"MATH 124\": 5, \"MATH 125\" : 5, \"MATH 126\" : 5, \"CHEM 142\" : 5, \n",
        "              \"CHEM 152\" : 5, \"CHEM 162\" : 5, \"BIOEN 215\" : 3,\"ENGL 182\" : 5, \n",
        "              \"MATH 097\" : 2, \"BIOL 180\" : 5}           \n",
        "            )\n",
        "e = Student(\"Ellie Webber\", 1564)\n",
        "\n",
        "s_short= [e, d]\n",
        "assert_equals([d, e], sort_students_name(s_short))\n",
        "\n",
        "s = [d, k, c, n, kl, e]\n",
        "assert_equals([c, d, e, kl, k, n], sort_students_name(s))\n"
      ],
      "execution_count": 0,
      "outputs": []
    },
    {
      "cell_type": "markdown",
      "metadata": {
        "id": "rR1nkpw5UHJK",
        "colab_type": "text"
      },
      "source": [
        "**Additional Sorting Problems:** How would you sort:\n",
        "1. by student number?\n",
        "2. by name in *descending* order (we have been sorting by ascending order)?\n",
        "3. by last name?\n",
        "4. by number of credits?"
      ]
    },
    {
      "cell_type": "code",
      "metadata": {
        "id": "Do8ycYb0UHJN",
        "colab_type": "code",
        "outputId": "4a0d4beb-03cb-463f-80ed-fe66f390d9e5",
        "colab": {
          "base_uri": "https://localhost:8080/",
          "height": 128
        }
      },
      "source": [
        "#1\n",
        "sorted(s, key=lambda student: student.student_number)\n",
        "\n",
        "#2\n",
        "sorted(s, key=lambda student: student.name, reverse=True)\n",
        "\n",
        "#3\n",
        "sorted(s, key=lambda student: student.name.split()[1])\n",
        "\n",
        "#4\n",
        "#Note that this is bad style! But we wanted to show you that you can put a class function in here.\n",
        "sorted(s, key=lambda student: student._num_credits())"
      ],
      "execution_count": 0,
      "outputs": [
        {
          "output_type": "execute_result",
          "data": {
            "text/plain": [
              "[Kira Johnson: 1345,\n",
              " Noah Igawa: 9999,\n",
              " Ellie Webber: 1564,\n",
              " Danny Smith: 4564,\n",
              " Carlos Lopez: 1774,\n",
              " Kaitlin Liau: 7563]"
            ]
          },
          "metadata": {
            "tags": []
          },
          "execution_count": 11
        }
      ]
    },
    {
      "cell_type": "markdown",
      "metadata": {
        "colab_type": "text",
        "id": "_cV6gneYKVVM"
      },
      "source": [
        "## Problem 1.6: `class_standing` field discussion\n",
        "This problem won't involve any writing of code. It goes a bit beyond the scope of what we require in this class, but is a useful thought experiment.\n",
        "\n",
        "You are considering adding a `class_standing` field which will store the class standing (freshman, sophomore, etc.) as a string. Answer the following questions:\n",
        "\n",
        "* What are some **benefits** to storing a `class_standing` field?\n",
        "\n",
        "<span style=\"color:red\">We wouldn't need to loop through the entire dictionary of classes whenever we want to get a student's class standing.</span>.\n",
        "\n",
        "* What are some **drawbacks** of storing a `class_standing` field?\n",
        "\n",
        "<span style=\"color:red\">As the coders we would need to ensure that the class_standing is recalculated every time `classes` is modified (ie in the `add_class` method). This can be hard to keep track of.<br> Another issue is that since python doesn't *really* have private fields/methods, the client could directly modify the classes field and this would not update the `class_standing` field. <br> `class_standing` will require more memory which can be an issue.</span>.\n",
        "\n",
        "* What might you **modify** if you were to store a `class_standing` field?\n",
        "\n",
        "<span style=\"color:red\">\n",
        "    Some ideas:\n",
        "    1. Call `calc_standing` when `classes` is initialized\n",
        "    2. Call `calc_standing` after `classes` is updated in the method `add_class`. \n",
        "    3. Make the `classes` field private (rename it `_classes`) \n",
        "    4. Make a new method to return a copy of `classes` so the client couldn't modify the classes field.\n",
        "    5. When `classes` is initialized consider making a copy of it so the client can't modify it.\n",
        "</span>.\n",
        "\n",
        "* Based on all of the modifications you made, do you think it's a good idea to store a `class_standing` ?\n",
        "\n",
        "<span style=\"color:red\">You need to weigh program speed against maintainability and program complexity. You need to think about if program speedup is really worth all the extra stuff you need to keep track of to ensure your program works correctly.</span>. "
      ]
    }
  ]
}