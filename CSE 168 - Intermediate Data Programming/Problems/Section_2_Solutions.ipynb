{
  "nbformat": 4,
  "nbformat_minor": 0,
  "metadata": {
    "colab": {
      "name": "Section-2-Solutions.ipynb",
      "version": "0.3.2",
      "provenance": [],
      "collapsed_sections": [],
      "toc_visible": true
    },
    "kernelspec": {
      "name": "python3",
      "display_name": "Python 3"
    }
  },
  "cells": [
    {
      "cell_type": "markdown",
      "metadata": {
        "id": "lFcSaPhRRN7V",
        "colab_type": "text"
      },
      "source": [
        "\n",
        "In Colaboratory, you cannot make permanent changes to this notebook without making a copy to your Google Drive. **Closing the page without copying the notebook to your drive will result in all of your changes being lost.**\n",
        "\n",
        "This week we will focus on doing questions that analyze the csv file section2data.csv. This file contains three columns and contains the answer to the \"Just for fun questions\" that you answered in the starting survey. We also provided you with a smaller file called section2data-truncated.csv which contains a subset of the data from section2data.csv for testing purposes.\n",
        "\n",
        "\n",
        "| number| countries visited | low temperature  | high temperature| Ideal Weather Condition |\n",
        "|--------------|-----------------------------|---------------------------|------------------------------|----------------------------------------|\n",
        "| 1            | 2                              |  50                       | 60                            |Sunny                                 | \n",
        "\n",
        "\n",
        "# Format \n",
        "\n",
        "This document consists of three different parts. The first part lists important functions to call in order to complete testing and parse the file. \n",
        "\n",
        "The next two parts contain problems. \n",
        "\n",
        "Manual problems are problems that are meant to be done by hand using the data structure produced from the parse function. Pandas problems are problems that you do assuming you get passed in a pandas `Dataframe` and using pandas functions. The problems in the manual and pandas sections are the same problems, they just have different restrictions for when you complete the problems. "
      ]
    },
    {
      "cell_type": "markdown",
      "metadata": {
        "id": "A9Icn1nbZP7j",
        "colab_type": "text"
      },
      "source": [
        "# Practice Problems Important functions\n",
        "\n",
        "Reminder: for each of the following problems, there will be a blank cell for you to write the solution and a cell that calls your solution to test if it works. You should use those test cells to see examples of what the function should return for a particular input (the first value passed to `assert_equals` is the expected value). You will have to make sure to run the cell with a solution to your problem BEFORE you run the test cells (otherwise your function won't be defined). \n",
        "\n",
        "For all of these problems, you may assume we will only pass parameters of the specified type and they are not `None`, but otherwise, you should make no assumptions about the parameters\n",
        "\n",
        "**Important:** Please make sure that you have run the following cells before running any of the test cells.\n",
        "\n",
        "`check_approx_equals` allows you to check floats. "
      ]
    },
    {
      "cell_type": "code",
      "metadata": {
        "id": "e2F1kw-0aclk",
        "colab_type": "code",
        "colab": {}
      },
      "source": [
        "import math\n",
        "\n",
        "import requests\n",
        "\n",
        "import pandas\n",
        "\n",
        "from google.colab import files\n",
        "\n",
        "def check_approx_equals(expected, received):\n",
        "    \"\"\"\n",
        "    Checks received against expected, and returns whether or \n",
        "    not they match (True if they do, False otherwise). \n",
        "    If the argument is a float, will do an approximate check.\n",
        "    If the arugment is a data structure will do an approximate check\n",
        "    on all of its contents.\n",
        "    \"\"\"\n",
        "    try:\n",
        "        if type(expected) == dict:\n",
        "            # first check that keys match, then check that the\n",
        "            # values approximately match\n",
        "            return expected.keys() == received.keys() and \\\n",
        "                all([check_approx_equals(expected[k], received[k])\n",
        "                    for k in expected.keys()])\n",
        "        elif type(expected) == list or type(expected) == set:\n",
        "            # Checks both lists/sets contain the same values\n",
        "            return len(expected) == len(received) and \\\n",
        "                all([check_approx_equals(v1, v2)\n",
        "                    for v1, v2 in zip(expected, received)])\n",
        "        elif type(expected) == float:\n",
        "            return math.isclose(expected, received, abs_tol=0.001)\n",
        "        else:\n",
        "            return expected == received\n",
        "    except Exception as e:\n",
        "        print(f'EXCEPTION: Raised when checking check_approx_equals {e}')\n",
        "        return False\n",
        "\n",
        "\n",
        "def assert_equals(expected, received):\n",
        "    \"\"\"\n",
        "    Checks received against expected, throws an AssertionError\n",
        "    if they don't match. If the argument is a float, will do an approximate\n",
        "    check. If the arugment is a data structure will do an approximate check\n",
        "    on all of its contents.\n",
        "    \"\"\"\n",
        "    assert check_approx_equals(expected, received), \\\n",
        "        f'Failed: Expected {expected}, but received {received}'"
      ],
      "execution_count": 0,
      "outputs": []
    },
    {
      "cell_type": "markdown",
      "metadata": {
        "id": "bjVhWDED0zLA",
        "colab_type": "text"
      },
      "source": [
        "You will also need to upload our starter text file [section2data.csv](https://homes.cs.washington.edu/~nriley16/section2data.csv) by running the following cell."
      ]
    },
    {
      "cell_type": "code",
      "metadata": {
        "id": "0qZzYAhC1FxB",
        "colab_type": "code",
        "colab": {}
      },
      "source": [
        "import requests\n",
        "\n",
        "def save_file(url, file_name):\n",
        "  r = requests.get(url)\n",
        "  with open(file_name, 'wb') as f:\n",
        "    f.write(r.content)\n",
        "\n",
        "save_file('https://courses.cs.washington.edu/courses/cse163/19sp/files/section/'\n",
        "          + '04-11/section2data.csv', 'section2data.csv')\n",
        "save_file('https://courses.cs.washington.edu/courses/cse163/19sp/files/section/'\n",
        "          + '04-11/section2data-truncated.csv', 'section2data-truncated.csv')"
      ],
      "execution_count": 0,
      "outputs": []
    },
    {
      "cell_type": "markdown",
      "metadata": {
        "id": "SMKxSRco14qk",
        "colab_type": "text"
      },
      "source": [
        "You will also need to run the parse function to allow you to have the ability to parse the data in the csv in the following cell. "
      ]
    },
    {
      "cell_type": "code",
      "metadata": {
        "id": "f8NJgcWJ2Csp",
        "colab_type": "code",
        "colab": {}
      },
      "source": [
        "def parse(file_name, int_cols):\n",
        "    \"\"\"\n",
        "    Parses the CSV file specified by file_name and returns the data as a list\n",
        "    of dictionaries where each row is represented by a dictionary that\n",
        "    has keys for each column and value which is the entry for that column\n",
        "    at that row.\n",
        "\n",
        "    Also takes a list of column names that should have the data for that column\n",
        "    converted to integers. All other data will be str.\n",
        "    \"\"\"\n",
        "    data = []\n",
        "    with open(file_name) as f:\n",
        "        headers = f.readline().strip().split(',')\n",
        "        num_cols = len(headers)\n",
        "\n",
        "        for line in f.readlines():\n",
        "            row_data = line.strip().split(',')\n",
        "            row = {}\n",
        "            for i in range(num_cols):\n",
        "                if headers[i] in int_cols:\n",
        "                    row[headers[i]] = int(row_data[i])\n",
        "                else:\n",
        "                    row[headers[i]] = row_data[i]\n",
        "            data.append(row)\n",
        "    return data\n"
      ],
      "execution_count": 0,
      "outputs": []
    },
    {
      "cell_type": "code",
      "metadata": {
        "id": "IJ__SUv5If3W",
        "colab_type": "code",
        "colab": {}
      },
      "source": [
        "integer_cols = ['number', 'countries visited', 'low temperature', \n",
        "                'high temperature']\n",
        "parsed_entire_file = parse('section2data.csv', integer_cols)\n",
        "parsed_truncated_file = parse('section2data-truncated.csv', integer_cols)"
      ],
      "execution_count": 0,
      "outputs": []
    },
    {
      "cell_type": "code",
      "metadata": {
        "id": "2y62Sa3uD8BI",
        "colab_type": "code",
        "outputId": "ef9b8a18-f40a-4b15-ce29-f4c4cd4c7b3b",
        "colab": {
          "base_uri": "https://localhost:8080/",
          "height": 54
        }
      },
      "source": [
        "print(parsed_entire_file)"
      ],
      "execution_count": 0,
      "outputs": [
        {
          "output_type": "stream",
          "text": [
            "[{'number': 1, 'countries visited': 19, 'low temperature': 60, 'high temperature': 70, 'ideal weather condition': 'Sunny'}, {'number': 2, 'countries visited': 13, 'low temperature': 80, 'high temperature': 90, 'ideal weather condition': 'Sunny'}, {'number': 3, 'countries visited': 15, 'low temperature': 70, 'high temperature': 40, 'ideal weather condition': 'Mostly Cloudy'}, {'number': 4, 'countries visited': 2, 'low temperature': 60, 'high temperature': 70, 'ideal weather condition': 'Sunny'}, {'number': 5, 'countries visited': 6, 'low temperature': 60, 'high temperature': 70, 'ideal weather condition': 'Sunny'}, {'number': 6, 'countries visited': 3, 'low temperature': 60, 'high temperature': 70, 'ideal weather condition': 'Sunny'}, {'number': 7, 'countries visited': 10, 'low temperature': 50, 'high temperature': 60, 'ideal weather condition': 'Partly Cloudy'}, {'number': 8, 'countries visited': 5, 'low temperature': 30, 'high temperature': 40, 'ideal weather condition': 'Sunny'}, {'number': 9, 'countries visited': 10, 'low temperature': 50, 'high temperature': 60, 'ideal weather condition': 'Partly Cloudy'}, {'number': 10, 'countries visited': 7, 'low temperature': 50, 'high temperature': 60, 'ideal weather condition': 'Partly Cloudy'}, {'number': 11, 'countries visited': 4, 'low temperature': 50, 'high temperature': 60, 'ideal weather condition': 'Partly Cloudy'}, {'number': 12, 'countries visited': 3, 'low temperature': 30, 'high temperature': 40, 'ideal weather condition': 'Partly Cloudy'}, {'number': 13, 'countries visited': 7, 'low temperature': 60, 'high temperature': 70, 'ideal weather condition': 'Partly Cloudy'}, {'number': 14, 'countries visited': 9, 'low temperature': 70, 'high temperature': 40, 'ideal weather condition': 'Sunny'}, {'number': 15, 'countries visited': 16, 'low temperature': 50, 'high temperature': 60, 'ideal weather condition': 'Rain'}, {'number': 16, 'countries visited': 6, 'low temperature': 0, 'high temperature': 30, 'ideal weather condition': 'Sunny'}, {'number': 17, 'countries visited': 7, 'low temperature': 70, 'high temperature': 40, 'ideal weather condition': 'Sunny'}, {'number': 18, 'countries visited': 3, 'low temperature': 60, 'high temperature': 70, 'ideal weather condition': 'Thunder Storm'}, {'number': 19, 'countries visited': 2, 'low temperature': 60, 'high temperature': 70, 'ideal weather condition': 'Thunder Storm'}, {'number': 20, 'countries visited': 3, 'low temperature': 60, 'high temperature': 70, 'ideal weather condition': 'Partly Cloudy'}, {'number': 21, 'countries visited': 5, 'low temperature': 40, 'high temperature': 50, 'ideal weather condition': 'Partly Cloudy'}, {'number': 22, 'countries visited': 4, 'low temperature': 60, 'high temperature': 70, 'ideal weather condition': 'Sunny'}, {'number': 23, 'countries visited': 2, 'low temperature': 80, 'high temperature': 90, 'ideal weather condition': 'Partly Cloudy'}, {'number': 24, 'countries visited': 2, 'low temperature': 70, 'high temperature': 40, 'ideal weather condition': 'Sunny'}, {'number': 25, 'countries visited': 6, 'low temperature': 80, 'high temperature': 90, 'ideal weather condition': 'Sunny'}, {'number': 26, 'countries visited': 4, 'low temperature': 60, 'high temperature': 70, 'ideal weather condition': 'Mostly Cloudy'}, {'number': 27, 'countries visited': 4, 'low temperature': 50, 'high temperature': 60, 'ideal weather condition': 'Partly Cloudy'}, {'number': 28, 'countries visited': 8, 'low temperature': 60, 'high temperature': 70, 'ideal weather condition': 'Partly Cloudy'}, {'number': 29, 'countries visited': 4, 'low temperature': 80, 'high temperature': 90, 'ideal weather condition': 'Partly Cloudy'}, {'number': 30, 'countries visited': 6, 'low temperature': 60, 'high temperature': 70, 'ideal weather condition': 'Partly Cloudy'}, {'number': 31, 'countries visited': 3, 'low temperature': 60, 'high temperature': 70, 'ideal weather condition': 'Partly Cloudy'}, {'number': 32, 'countries visited': 8, 'low temperature': 40, 'high temperature': 50, 'ideal weather condition': 'Partly Cloudy'}, {'number': 33, 'countries visited': 9, 'low temperature': 60, 'high temperature': 70, 'ideal weather condition': 'Sunny'}, {'number': 34, 'countries visited': 2, 'low temperature': 50, 'high temperature': 60, 'ideal weather condition': 'Sunny'}, {'number': 35, 'countries visited': 11, 'low temperature': 50, 'high temperature': 60, 'ideal weather condition': 'Partly Cloudy'}, {'number': 36, 'countries visited': 4, 'low temperature': 60, 'high temperature': 70, 'ideal weather condition': 'Sunny'}, {'number': 37, 'countries visited': 14, 'low temperature': 60, 'high temperature': 70, 'ideal weather condition': 'Partly Cloudy'}, {'number': 38, 'countries visited': 7, 'low temperature': 60, 'high temperature': 70, 'ideal weather condition': 'Sunny'}, {'number': 39, 'countries visited': 3, 'low temperature': 60, 'high temperature': 70, 'ideal weather condition': 'Partly Cloudy'}, {'number': 40, 'countries visited': 7, 'low temperature': 60, 'high temperature': 70, 'ideal weather condition': 'Rain'}, {'number': 41, 'countries visited': 11, 'low temperature': 60, 'high temperature': 70, 'ideal weather condition': 'Partly Cloudy'}, {'number': 42, 'countries visited': 11, 'low temperature': 60, 'high temperature': 70, 'ideal weather condition': 'Partly Cloudy'}, {'number': 43, 'countries visited': 2, 'low temperature': 60, 'high temperature': 70, 'ideal weather condition': 'Partly Cloudy'}, {'number': 44, 'countries visited': 4, 'low temperature': 70, 'high temperature': 40, 'ideal weather condition': 'Partly Cloudy'}, {'number': 45, 'countries visited': 13, 'low temperature': 60, 'high temperature': 70, 'ideal weather condition': 'Sunny'}, {'number': 46, 'countries visited': 6, 'low temperature': 60, 'high temperature': 70, 'ideal weather condition': 'Partly Cloudy'}, {'number': 47, 'countries visited': 3, 'low temperature': 60, 'high temperature': 70, 'ideal weather condition': 'Partly Cloudy'}, {'number': 48, 'countries visited': 3, 'low temperature': 60, 'high temperature': 70, 'ideal weather condition': 'Partly Cloudy'}, {'number': 49, 'countries visited': 5, 'low temperature': 60, 'high temperature': 70, 'ideal weather condition': 'Partly Cloudy'}, {'number': 50, 'countries visited': 2, 'low temperature': 60, 'high temperature': 70, 'ideal weather condition': 'Mostly Cloudy'}, {'number': 51, 'countries visited': 6, 'low temperature': 60, 'high temperature': 70, 'ideal weather condition': 'Partly Cloudy'}, {'number': 52, 'countries visited': 10, 'low temperature': 60, 'high temperature': 70, 'ideal weather condition': 'Sunny'}, {'number': 53, 'countries visited': 9, 'low temperature': 70, 'high temperature': 40, 'ideal weather condition': 'Sunny'}, {'number': 54, 'countries visited': 2, 'low temperature': 40, 'high temperature': 50, 'ideal weather condition': 'Cloudy'}, {'number': 55, 'countries visited': 2, 'low temperature': 70, 'high temperature': 40, 'ideal weather condition': 'Partly Cloudy'}, {'number': 56, 'countries visited': 11, 'low temperature': 60, 'high temperature': 70, 'ideal weather condition': 'Cloudy'}, {'number': 57, 'countries visited': 3, 'low temperature': 60, 'high temperature': 70, 'ideal weather condition': 'Partly Cloudy'}, {'number': 58, 'countries visited': 2, 'low temperature': 50, 'high temperature': 60, 'ideal weather condition': 'Partly Cloudy'}, {'number': 59, 'countries visited': 8, 'low temperature': 60, 'high temperature': 70, 'ideal weather condition': 'Partly Cloudy'}, {'number': 60, 'countries visited': 1, 'low temperature': 70, 'high temperature': 40, 'ideal weather condition': 'Sunny'}, {'number': 61, 'countries visited': 3, 'low temperature': 60, 'high temperature': 70, 'ideal weather condition': 'Sunny'}, {'number': 62, 'countries visited': 3, 'low temperature': 70, 'high temperature': 40, 'ideal weather condition': 'Partly Cloudy'}, {'number': 63, 'countries visited': 5, 'low temperature': 30, 'high temperature': 40, 'ideal weather condition': 'Cloudy'}, {'number': 64, 'countries visited': 7, 'low temperature': 60, 'high temperature': 70, 'ideal weather condition': 'Partly Cloudy'}, {'number': 65, 'countries visited': 3, 'low temperature': 70, 'high temperature': 40, 'ideal weather condition': 'Sunny'}, {'number': 66, 'countries visited': 2, 'low temperature': 70, 'high temperature': 40, 'ideal weather condition': 'Sunny'}, {'number': 67, 'countries visited': 12, 'low temperature': 60, 'high temperature': 70, 'ideal weather condition': 'Cloudy'}, {'number': 68, 'countries visited': 5, 'low temperature': 70, 'high temperature': 40, 'ideal weather condition': 'Sunny'}, {'number': 69, 'countries visited': 8, 'low temperature': 70, 'high temperature': 40, 'ideal weather condition': 'Sunny'}, {'number': 70, 'countries visited': 3, 'low temperature': 40, 'high temperature': 50, 'ideal weather condition': 'Rain'}, {'number': 71, 'countries visited': 8, 'low temperature': 70, 'high temperature': 40, 'ideal weather condition': 'Mostly Cloudy'}, {'number': 72, 'countries visited': 5, 'low temperature': 50, 'high temperature': 60, 'ideal weather condition': 'Sunny'}, {'number': 73, 'countries visited': 5, 'low temperature': 50, 'high temperature': 60, 'ideal weather condition': 'Sunny'}, {'number': 74, 'countries visited': 3, 'low temperature': 60, 'high temperature': 70, 'ideal weather condition': 'Sunny'}, {'number': 75, 'countries visited': 2, 'low temperature': 50, 'high temperature': 60, 'ideal weather condition': 'Partly Cloudy'}, {'number': 76, 'countries visited': 15, 'low temperature': 60, 'high temperature': 70, 'ideal weather condition': 'Partly Cloudy'}, {'number': 77, 'countries visited': 4, 'low temperature': 50, 'high temperature': 60, 'ideal weather condition': 'Sunny'}, {'number': 78, 'countries visited': 7, 'low temperature': 70, 'high temperature': 40, 'ideal weather condition': 'Sunny'}, {'number': 79, 'countries visited': 3, 'low temperature': 60, 'high temperature': 70, 'ideal weather condition': 'Sunny'}, {'number': 80, 'countries visited': 7, 'low temperature': 80, 'high temperature': 90, 'ideal weather condition': 'Sunny'}, {'number': 81, 'countries visited': 3, 'low temperature': 60, 'high temperature': 70, 'ideal weather condition': 'Mostly Cloudy'}, {'number': 82, 'countries visited': 1, 'low temperature': 80, 'high temperature': 90, 'ideal weather condition': 'Partly Cloudy'}, {'number': 83, 'countries visited': 3, 'low temperature': 60, 'high temperature': 70, 'ideal weather condition': 'Sunny'}, {'number': 84, 'countries visited': 4, 'low temperature': 60, 'high temperature': 70, 'ideal weather condition': 'Sunny'}, {'number': 85, 'countries visited': 3, 'low temperature': 50, 'high temperature': 60, 'ideal weather condition': 'Partly Cloudy'}]\n"
          ],
          "name": "stdout"
        }
      ]
    },
    {
      "cell_type": "markdown",
      "metadata": {
        "id": "bg42I55n2Us4",
        "colab_type": "text"
      },
      "source": [
        "# Manual Processing Problems\n",
        "\n",
        "For each of these problems, use the data from the file you parsed using the provided parse function and create solutions manually (as in do not use libraries like pandas)."
      ]
    },
    {
      "cell_type": "markdown",
      "metadata": {
        "id": "a02fx8-Sy27w",
        "colab_type": "text"
      },
      "source": [
        "# Problem 1) weather_count\n",
        "\n",
        "Write a function called `weather_count` that takes in an ideal weather condition and the parsed weather data and returns the number of people who prefer this weather condition. \n",
        "\n",
        "For example, for the call `weather_count`(parsed_truncated_file, 'Thunder Storm') to return 2. "
      ]
    },
    {
      "cell_type": "code",
      "metadata": {
        "id": "rsRO4aZLy61g",
        "colab_type": "code",
        "colab": {}
      },
      "source": [
        "# Type your solution here\n",
        "def weather_count(data, weather_condition):\n",
        "  weather_count = 0\n",
        "  for line in data: \n",
        "    if line[\"ideal weather condition\"] == weather_condition:\n",
        "      weather_count += 1\n",
        "  return weather_count"
      ],
      "execution_count": 0,
      "outputs": []
    },
    {
      "cell_type": "code",
      "metadata": {
        "id": "WSsiNWLozMv4",
        "colab_type": "code",
        "colab": {}
      },
      "source": [
        "assert_equals(2, weather_count(parsed_truncated_file, 'Thunder Storm'))\n",
        "assert_equals(1, weather_count(parsed_truncated_file,'Mostly Cloudy'))"
      ],
      "execution_count": 0,
      "outputs": []
    },
    {
      "cell_type": "markdown",
      "metadata": {
        "id": "WEvlI816zOMk",
        "colab_type": "text"
      },
      "source": [
        "# Problem 2) temperature_range\n",
        "\n",
        "Write a function called `temperature_range` that takes in the parsed student data, a `low` temperature (inclusive) and a `high` temperature (exclusive) and returns the number of students that prefer temperatures within that range. These temperatures are in Farenheit. \n",
        "\n",
        "For the dataset [{'number': 1,'countries visited': 3, 'low temperature': 50, 'high temperature': 60, 'ideal weather condition': 'Sunny'}, {'number': 2, 'countries visited': 5, 'low temperature': 30, 'high temperature': 40, 'ideal weather condition': 'Partly Cloudy'}, {'number': 3, 'countries visited':10, 'low temperature': 0, 'high temperature': 30, 'ideal weather condition': 'Rainy'}] if you called `temperature_range`(parsed_truncated_file, 0, 31) we would return 1 because only the third piece of data has both a low and high temperature value that are in between the high and low input into the function. \n",
        "\n",
        "For example, the call to `temperature_range`(parsed_truncated_file, 0, 31) = 1. \n",
        "\n"
      ]
    },
    {
      "cell_type": "code",
      "metadata": {
        "id": "b3pjQPmdzcrq",
        "colab_type": "code",
        "colab": {}
      },
      "source": [
        "# Type your solution here\n",
        "def temperature_range(data, low, high):\n",
        "  temperature_count = 0; \n",
        "  for line in data: \n",
        "    row_low = line['low temperature'] \n",
        "    row_high = line['high temperature']\n",
        "    if row_low >= low and row_high < high:\n",
        "      temperature_count += 1\n",
        "  return temperature_count\n"
      ],
      "execution_count": 0,
      "outputs": []
    },
    {
      "cell_type": "code",
      "metadata": {
        "id": "nXf-Gl_EzcU3",
        "colab_type": "code",
        "colab": {}
      },
      "source": [
        "assert_equals(1, temperature_range(parsed_truncated_file, 0, 31))"
      ],
      "execution_count": 0,
      "outputs": []
    },
    {
      "cell_type": "markdown",
      "metadata": {
        "id": "QENDh5pjZ7Jp",
        "colab_type": "text"
      },
      "source": [
        "# Problem 3) `max_countries_visited`\n",
        "\n",
        "Write a function called `max_countries_visited` that takes in the `data` that finds the max number of countries visited by someone in the class and returns a tuple containing that person's number in the dataset and the number of countries they have visited.\n",
        "\n",
        "If there is a tie between multiple students on the maximum number of countries visited, this function will return the student that appeared first in the dataset. "
      ]
    },
    {
      "cell_type": "code",
      "metadata": {
        "id": "oxsGZ2VxaRcY",
        "colab_type": "code",
        "colab": {}
      },
      "source": [
        "# Type your solution here\n",
        "def max_countries_visited(data):\n",
        "  student_number = 0; \n",
        "  max_visited_countries = 0; \n",
        "  for line in data: \n",
        "    if line['countries visited'] > max_visited_countries:\n",
        "      student_number = line['number']\n",
        "      max_visited_countries = line['countries visited']\n",
        "  return student_number, max_visited_countries\n",
        "                          \n",
        "                                "
      ],
      "execution_count": 0,
      "outputs": []
    },
    {
      "cell_type": "code",
      "metadata": {
        "id": "QtFJj0HnaUfq",
        "colab_type": "code",
        "colab": {}
      },
      "source": [
        "assert_equals((1, 19), max_countries_visited(parsed_truncated_file))"
      ],
      "execution_count": 0,
      "outputs": []
    },
    {
      "cell_type": "markdown",
      "metadata": {
        "id": "EFemPAgLvBNA",
        "colab_type": "text"
      },
      "source": [
        "# Problem 4) `unique_weather_combinations`\n",
        "\n",
        "Write a function called `unique_weather_combinations` that takes in the parsed weather `data` returns the number of unique combinations of ideal weather type and low temperature that individuals in our class listed. \n",
        "\n"
      ]
    },
    {
      "cell_type": "code",
      "metadata": {
        "id": "TqcB6PqpvKEt",
        "colab_type": "code",
        "colab": {}
      },
      "source": [
        "# Type your solution here\n",
        "def unique_weather_combinations(data):\n",
        "  weather_conditions_set = set()\n",
        "  for line in data: \n",
        "    weather_condition = str(line['low temperature']) + \" \" \\\n",
        "      + line['ideal weather condition']\n",
        "    weather_conditions_set.add(weather_condition)\n",
        "  return len(weather_conditions_set)\n"
      ],
      "execution_count": 0,
      "outputs": []
    },
    {
      "cell_type": "code",
      "metadata": {
        "id": "mAnJ3BdsvNX4",
        "colab_type": "code",
        "colab": {}
      },
      "source": [
        "assert_equals(11, unique_weather_combinations(parsed_truncated_file));"
      ],
      "execution_count": 0,
      "outputs": []
    },
    {
      "cell_type": "markdown",
      "metadata": {
        "id": "2INo4F6TwDy4",
        "colab_type": "text"
      },
      "source": [
        "# Problem 5) `average_countries_visited`\n",
        "\n",
        "Write a function called `average_countries_visited` that takes in the parsed `data` and returns the average number of countries visited in the dataset. "
      ]
    },
    {
      "cell_type": "code",
      "metadata": {
        "id": "PhiRm84a9DcM",
        "colab_type": "code",
        "colab": {}
      },
      "source": [
        "# Type your code here\n",
        "def average_countries_visited(data):\n",
        "  count = 0 \n",
        "  sum = 0 \n",
        "  for line in data: \n",
        "    count += 1\n",
        "    sum += line['countries visited']\n",
        "  return sum / count;"
      ],
      "execution_count": 0,
      "outputs": []
    },
    {
      "cell_type": "code",
      "metadata": {
        "id": "RoBm0GFa9gUd",
        "colab_type": "code",
        "colab": {}
      },
      "source": [
        "assert_equals(7.5, average_countries_visited(parsed_truncated_file))"
      ],
      "execution_count": 0,
      "outputs": []
    },
    {
      "cell_type": "markdown",
      "metadata": {
        "id": "ZfbgR73vU4bM",
        "colab_type": "text"
      },
      "source": [
        "# Problem 6) `average_countries_visited_per_weather_type`\n",
        "\n",
        "Write a function called `average_countries_visited_per_weather_type` that takes in the parsed `data` and  returns a dictionary that has the average number of countries visited for each preferred weather type (ie Sunny, Cloudy, etc)\n",
        "\n",
        "For `average_countries_visited_per_weather_type`(parsed_truncated_file) the result would be\n",
        "\n",
        "{'Sunny': 7.777777777777778, 'Mostly Cloudy': 15.0, 'Partly Cloudy': 6.285714285714286, 'Rain': 16.0, 'Thunder Storm': 2.5}\n",
        "\n",
        "**Note**: We are not being thorough with this problem. In actual testing we would encourage you to make a small dataset that you know the expected result from and test the function on that file. "
      ]
    },
    {
      "cell_type": "code",
      "metadata": {
        "id": "egz8K5EsVRbw",
        "colab_type": "code",
        "colab": {}
      },
      "source": [
        "# Type your code here\n",
        "def average_countries_visited_per_weather_type(data):\n",
        "  counts_dictionary = dict()\n",
        "  sum_dictionary = dict()\n",
        "  for line in data: \n",
        "    weather_type = line['ideal weather condition']\n",
        "    if weather_type in counts_dictionary: \n",
        "      counts_dictionary[weather_type] += 1\n",
        "      sum_dictionary[weather_type] += line['countries visited']\n",
        "    else: \n",
        "      counts_dictionary[weather_type] = 1\n",
        "      sum_dictionary[weather_type] = line['countries visited']\n",
        "  average_dictionary = dict()\n",
        "  for weather_condition in counts_dictionary:\n",
        "    average_dictionary[weather_condition] \\\n",
        "      = sum_dictionary[weather_condition] / counts_dictionary[weather_condition]\n",
        "  return average_dictionary\n",
        "    "
      ],
      "execution_count": 0,
      "outputs": []
    },
    {
      "cell_type": "code",
      "metadata": {
        "id": "yeq6qxguVUpo",
        "colab_type": "code",
        "outputId": "d109f9d4-d1ff-4770-f2df-76e56651d1d9",
        "colab": {
          "base_uri": "https://localhost:8080/",
          "height": 34
        }
      },
      "source": [
        "#testing statements \n",
        "print(average_countries_visited_per_weather_type(parsed_truncated_file))"
      ],
      "execution_count": 0,
      "outputs": [
        {
          "output_type": "stream",
          "text": [
            "{'Sunny': 7.777777777777778, 'Mostly Cloudy': 15.0, 'Partly Cloudy': 6.285714285714286, 'Rain': 16.0, 'Thunder Storm': 2.5}\n"
          ],
          "name": "stdout"
        }
      ]
    },
    {
      "cell_type": "markdown",
      "metadata": {
        "id": "1KzNKCHt22vb",
        "colab_type": "text"
      },
      "source": [
        "# Pandas Problems\n",
        "\n",
        "For each of these problems, use the data from the file you parsed and create solutions using the pandas library. For a reference to the library click [here](https://colab.research.google.com/drive/1fsW0sTvsMcD79eM4st1fBJgnXiCPU41T#scrollTo=VPFCCiumej8-&forceEdit=true&offline=true&sandboxMode=true)"
      ]
    },
    {
      "cell_type": "markdown",
      "metadata": {
        "id": "yd0tSpGBPbQy",
        "colab_type": "text"
      },
      "source": [
        "Word bank: \n",
        "\n",
        "*   Get a column of a `DataFrame`\n",
        "*   Get a row of a `DataFrame` (`loc`)\n",
        "*    Filtering\n",
        "*     Loop over Series\n",
        "*     `groupby`\n",
        "*     `min`\n",
        "*     `max`\n",
        "*     `idxmin`\n",
        "*     `idxmax`\n",
        "*      `count`\n",
        "*      `mean`\n",
        "*      `unique`\n",
        "\n",
        "\n",
        "\n"
      ]
    },
    {
      "cell_type": "markdown",
      "metadata": {
        "id": "x2a_SRSoe_ni",
        "colab_type": "text"
      },
      "source": [
        "Note: in pandas we parse our data differently and the object we will be processing is a pandas `Dataframe` instead of a list of dictionaries. Run the cell below to get the data in a form compatible with pandas"
      ]
    },
    {
      "cell_type": "code",
      "metadata": {
        "id": "SbMTBTkNp-Dg",
        "colab_type": "code",
        "colab": {}
      },
      "source": [
        "pandas_truncated_data = pandas.read_csv('section2data-truncated.csv')\n",
        "pandas_data = pandas.read_csv('section2data.csv')"
      ],
      "execution_count": 0,
      "outputs": []
    },
    {
      "cell_type": "markdown",
      "metadata": {
        "id": "sQaQMNMMwLHq",
        "colab_type": "text"
      },
      "source": [
        "# Problem 1) weather_count_pandas\n",
        "\n",
        "Write a function called `weather_count_pandas` that takes in an ideal weather condition and a pandas `Dataframe` of the weather `data` and returns the number of people who prefer this weather condition. \n",
        "\n",
        "For example, for the call `weather_count_pandas`(parsed_truncated_file, 'Thunder Storm') to return 2. "
      ]
    },
    {
      "cell_type": "code",
      "metadata": {
        "id": "3tursQO1wiRv",
        "colab_type": "code",
        "colab": {}
      },
      "source": [
        "# Type your solution here\n",
        "def weather_count_pandas(data, weather_condition):\n",
        "  return len(data[(data['ideal weather condition'] == weather_condition)])\n"
      ],
      "execution_count": 0,
      "outputs": []
    },
    {
      "cell_type": "code",
      "metadata": {
        "id": "06NtvIxbwv2n",
        "colab_type": "code",
        "colab": {}
      },
      "source": [
        "assert_equals(2, weather_count_pandas(pandas_truncated_data, 'Thunder Storm'))\n",
        "assert_equals(1, weather_count_pandas(pandas_truncated_data,'Mostly Cloudy'))"
      ],
      "execution_count": 0,
      "outputs": []
    },
    {
      "cell_type": "markdown",
      "metadata": {
        "id": "oy8--VR9wqhZ",
        "colab_type": "text"
      },
      "source": [
        "# Problem 2) temperature_range_pandas\n",
        "\n",
        "Write a function called `temperature_range_pandas` that takes in a pandas `Dataframe` of the weather `data`,  a `low` temperature (inclusive), and a `high` temperature (exclusive) and returns the number of students that prefer temperatures within that range. These temperatures are in Farenheit. \n",
        "\n",
        "For the dataset [{'number': 1,'countries visited': 3, 'low temperature': 50, 'high temperature': 60, 'ideal weather condition': 'Sunny'}, {'number': 2, 'countries visited': 5, 'low temperature': 30, 'high temperature': 40, 'ideal weather condition': 'Partly Cloudy'}, {'number': 3, 'countries visited':10, 'low temperature': 0, 'high temperature': 30, 'ideal weather condition': 'Rainy'}] if you called `temperature_range_pandas`(parsed_truncated_file, 0, 31) we would return 1 because only the third piece of data has both a low and high temperature value that are in between the high and low input into the function. \n",
        "\n",
        "For example, the call to `temperature_range`(parsed_truncated_file, 0, 31) = 1. \n",
        "\n"
      ]
    },
    {
      "cell_type": "code",
      "metadata": {
        "id": "BrRe1ZUIWIJ6",
        "colab_type": "code",
        "colab": {}
      },
      "source": [
        "# Type your solution here\n",
        "def temperature_range_pandas(data, low, high):\n",
        "  filtered = data[(data['low temperature'] >= low) \n",
        "                  & (data['high temperature'] < high)]\n",
        "  return len(filtered);"
      ],
      "execution_count": 0,
      "outputs": []
    },
    {
      "cell_type": "code",
      "metadata": {
        "id": "XhCsvIxFWUOW",
        "colab_type": "code",
        "colab": {}
      },
      "source": [
        "assert_equals(1, temperature_range_pandas(pandas_truncated_data, 0, 31))"
      ],
      "execution_count": 0,
      "outputs": []
    },
    {
      "cell_type": "markdown",
      "metadata": {
        "id": "Pm8NTV_uxUB2",
        "colab_type": "text"
      },
      "source": [
        "# Problem 3) `max_countries_visited_pandas`\n",
        "\n",
        "Write a function called `max_countries_visited_pandas` that takes in the pandas `Dataframe` of the weather `data` that finds the max number of countries visited by someone in the class and returns a tuple containing that person's number in the dataset and the number of countries they have visited."
      ]
    },
    {
      "cell_type": "code",
      "metadata": {
        "id": "CVL7VklJxap7",
        "colab_type": "code",
        "colab": {}
      },
      "source": [
        "# Type your solution here\n",
        "def max_countries_visited_pandas(data):\n",
        "  val = data.loc[data['countries visited'].idxmax()]\n",
        "  return val['number'], val['countries visited']\n"
      ],
      "execution_count": 0,
      "outputs": []
    },
    {
      "cell_type": "code",
      "metadata": {
        "id": "Kkp7m-Sqy040",
        "colab_type": "code",
        "colab": {}
      },
      "source": [
        "assert_equals((1, 19), max_countries_visited_pandas(pandas_truncated_data))"
      ],
      "execution_count": 0,
      "outputs": []
    },
    {
      "cell_type": "markdown",
      "metadata": {
        "id": "S0zj8okZ25m5",
        "colab_type": "text"
      },
      "source": [
        "# Problem 4) `unique_weather_combinations_pandas`\n",
        "\n",
        "Write a function called `unique_weather_conditions_pandas` that takes in a pandas `Dataframe` of the weather `data` returns the number of unique combinations of ideal weather type and low temperature in the dataset. \n",
        "\n",
        "You can use the `astype` function on a `Series` to convert the values to a different type. For example, to turn high temperature into a `float`:\n",
        "\n",
        "```python\n",
        "data['high temperature'].astype(float)\n",
        "```"
      ]
    },
    {
      "cell_type": "code",
      "metadata": {
        "id": "GUyrtoJ_3Ag7",
        "colab_type": "code",
        "colab": {}
      },
      "source": [
        "# Type your solution here\n",
        "def unique_weather_combinations_pandas(data):\n",
        "  combinations = data['low temperature'].astype(str) + ' ' \\\n",
        "    + data['ideal weather condition']\n",
        "  return len(combinations.unique())"
      ],
      "execution_count": 0,
      "outputs": []
    },
    {
      "cell_type": "code",
      "metadata": {
        "id": "7XfalDrp3toG",
        "colab_type": "code",
        "colab": {}
      },
      "source": [
        "assert_equals(11, unique_weather_combinations_pandas(pandas_truncated_data));"
      ],
      "execution_count": 0,
      "outputs": []
    },
    {
      "cell_type": "markdown",
      "metadata": {
        "id": "fH4iHZCi-SvP",
        "colab_type": "text"
      },
      "source": [
        "# Problem 5) `average_countries_visited_pandas`\n",
        "\n",
        "Write a function called `average_countries_visited_pandas` that takes in a pandas `Dataframe` of the `data` and returns the average number of countries visited in the dataset. "
      ]
    },
    {
      "cell_type": "code",
      "metadata": {
        "id": "IqXgSqJ7_A1K",
        "colab_type": "code",
        "colab": {}
      },
      "source": [
        "# Type your solution here\n",
        "def average_countries_visited_pandas(data):\n",
        "  return data['countries visited'].mean();"
      ],
      "execution_count": 0,
      "outputs": []
    },
    {
      "cell_type": "code",
      "metadata": {
        "id": "m3Tce2pGA2fY",
        "colab_type": "code",
        "colab": {}
      },
      "source": [
        "#testing here \n",
        "assert_equals(7.5, average_countries_visited_pandas(pandas_truncated_data))"
      ],
      "execution_count": 0,
      "outputs": []
    },
    {
      "cell_type": "markdown",
      "metadata": {
        "id": "sYU4NnbXXPY7",
        "colab_type": "text"
      },
      "source": [
        "# Problem 6) `average_countries_visited_per_weather_type_pandas`\n",
        "\n",
        "Write a function called `average_countries_visited_per_weather_type_pandas` that takes in a pandas `Dataframe` of the weather`data` and  returns a dictionary that has the average number of countries visited for each preferred weather type (ie Sunny, Cloudy, etc)\n",
        "\n",
        "\n",
        "For `average_countries_visited_per_weather_type_pandas`(parsed_truncated_file) the result would be\n",
        "\n",
        "{'Sunny': 7.777777777777778, 'Mostly Cloudy': 15.0, 'Partly Cloudy': 6.285714285714286, 'Rain': 16.0, 'Thunder Storm': 2.5}\n",
        "\n",
        "**Note**: We are not being thorough with this problem. In actual testing we would encourage you to make a small dataset that you know the expected result from and test the function on that file. "
      ]
    },
    {
      "cell_type": "code",
      "metadata": {
        "id": "8xbJBOB4XWwK",
        "colab_type": "code",
        "colab": {}
      },
      "source": [
        "# Type your solution here\n",
        "def average_countries_visited_per_weather_type_pandas(data):\n",
        "  return dict(data.groupby('ideal weather condition')['countries visited'].mean())"
      ],
      "execution_count": 0,
      "outputs": []
    },
    {
      "cell_type": "code",
      "metadata": {
        "id": "nVdWLHjqXWeB",
        "colab_type": "code",
        "outputId": "9339ff8a-aefb-4dc9-bf00-b834e3dc1af1",
        "colab": {
          "base_uri": "https://localhost:8080/",
          "height": 34
        }
      },
      "source": [
        "#testing here \n",
        "print(average_countries_visited_per_weather_type_pandas(pandas_truncated_data))"
      ],
      "execution_count": 0,
      "outputs": [
        {
          "output_type": "stream",
          "text": [
            "{'Mostly Cloudy': 15.0, 'Partly Cloudy': 6.285714285714286, 'Rain': 16.0, 'Sunny': 7.777777777777778, 'Thunder Storm': 2.5}\n"
          ],
          "name": "stdout"
        }
      ]
    }
  ]
}