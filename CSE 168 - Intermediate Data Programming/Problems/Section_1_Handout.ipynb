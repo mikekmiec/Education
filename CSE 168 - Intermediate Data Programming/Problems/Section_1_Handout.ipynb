{
  "nbformat": 4,
  "nbformat_minor": 0,
  "metadata": {
    "colab": {
      "name": "Section-1-Handout.ipynb",
      "version": "0.3.2",
      "provenance": [],
      "collapsed_sections": [],
      "toc_visible": true
    },
    "kernelspec": {
      "name": "python3",
      "display_name": "Python 3"
    }
  },
  "cells": [
    {
      "cell_type": "markdown",
      "metadata": {
        "id": "lFcSaPhRRN7V",
        "colab_type": "text"
      },
      "source": [
        "This document is a Jupyter Notebook. It is a series of interactive cells that allow you to write short snippets of Python code and run them to see the output.\n",
        "\n",
        "In Colaboratory, you cannot make permanent changes to this notebook without making a copy to your Google Drive. Closing the page without copying the notebook to your drive will result in all of your changes being lost.\n",
        "\n",
        "\n",
        "# General Agenda\n",
        "1. Introductions\n",
        "2. Environment Setup\n",
        "3. Practice Problems"
      ]
    },
    {
      "cell_type": "markdown",
      "metadata": {
        "id": "A9Icn1nbZP7j",
        "colab_type": "text"
      },
      "source": [
        "# Practice Problems\n",
        "\n",
        "For each of the following problems, there will be a blank cell for you to write the solution and a cell that calls your solution to test if it works. You should use those test cells to see examples of what the function should return for a particular input (the first value passed to `assert_equals` is the expected value). You will have to make sure to run the cell with a solution to your problem BEFORE you run the test cells (otherwise your function won't be defined). \n",
        "\n",
        "For all of these problems, you may assume we will only pass parameters of the specified type and they are not `None`, but otherwise, you should make no assumptions about the parameters\n",
        "\n",
        "**Important:** Please make sure that you have run the following cells before running any of the test cells."
      ]
    },
    {
      "cell_type": "code",
      "metadata": {
        "id": "e2F1kw-0aclk",
        "colab_type": "code",
        "colab": {}
      },
      "source": [
        "import math\n",
        "\n",
        "import requests\n",
        "\n",
        "from google.colab import files\n",
        "\n",
        "\n",
        "def assert_equals(expected, received):\n",
        "    \"\"\"\n",
        "    Checks received against expected, throws an AssertionError\n",
        "    if they don't match. If expected or recieved are floats,\n",
        "    will do an approximate check.\n",
        "    \"\"\"\n",
        "    # You don't need to understand how this function works\n",
        "    # just look at its documentation!\n",
        "    if type(expected) == 'float' or type(received) == 'float':\n",
        "        match = math.isclose(expected, received)\n",
        "    else:\n",
        "        match = expected == received\n",
        "\n",
        "    assert match, f'Failed: Expected {expected}, but received {received}'\n",
        "    \n"
      ],
      "execution_count": 0,
      "outputs": []
    },
    {
      "cell_type": "markdown",
      "metadata": {
        "id": "bjVhWDED0zLA",
        "colab_type": "text"
      },
      "source": [
        "You will also need to upload our starter text file [poem.txt](https://courses.cs.washington.edu/courses/cse163/19sp/files/section/04-04/poem.txt) by running the following cell."
      ]
    },
    {
      "cell_type": "code",
      "metadata": {
        "id": "0qZzYAhC1FxB",
        "colab_type": "code",
        "colab": {}
      },
      "source": [
        "r = requests.get('https://courses.cs.washington.edu/courses/cse163/19sp/files/section/04-04/poem.txt')\n",
        "with open('poem.txt', 'wb') as f:\n",
        "  f.write(r.content)"
      ],
      "execution_count": 0,
      "outputs": []
    },
    {
      "cell_type": "markdown",
      "metadata": {
        "id": "a02fx8-Sy27w",
        "colab_type": "text"
      },
      "source": [
        "# Problem 0a) total\n",
        "\n",
        "Write a function called `total` that takes an integer `n` as an argument and returns the sum of the numbers between 0 (inclusive) and `n` (exclusive). You may assume `n` is greater than or equal to 1.  \n",
        "\n",
        "For this exercise, you may **not** use the `range` function in your solution (it's not bad to use in general, this exercise just wants you to practice not using it to better understand what `range` is doing)."
      ]
    },
    {
      "cell_type": "code",
      "metadata": {
        "id": "rsRO4aZLy61g",
        "colab_type": "code",
        "colab": {}
      },
      "source": [
        "# Type your solution here\n"
      ],
      "execution_count": 0,
      "outputs": []
    },
    {
      "cell_type": "code",
      "metadata": {
        "id": "WSsiNWLozMv4",
        "colab_type": "code",
        "colab": {}
      },
      "source": [
        "assert_equals(0, total(1))\n",
        "assert_equals(1, total(2))\n",
        "assert_equals(45, total(10))"
      ],
      "execution_count": 0,
      "outputs": []
    },
    {
      "cell_type": "markdown",
      "metadata": {
        "id": "WEvlI816zOMk",
        "colab_type": "text"
      },
      "source": [
        "# Problem 0b) total2\n",
        "\n",
        "Write a function called `total2` that takes arguments `start`, `stop`, `step` and returns the sum of the series of numbers between `start` (inclusive) and `stop` (exclusive) that are `step` away from each other. You may assume `start < stop` and that `step >= 1`.\n",
        "\n",
        "For example `total2(1, 10, 3)` should be 12 because the sequence described by these arguments is `1 4 7` (10 is not included because it's exclusive). \n",
        "\n",
        "For this exercise, you may **not** use the `range` function in your solution (it's not bad to use in general, this exercise just wants you to practice not using it to better understand what `range` is doing)."
      ]
    },
    {
      "cell_type": "code",
      "metadata": {
        "id": "b3pjQPmdzcrq",
        "colab_type": "code",
        "colab": {}
      },
      "source": [
        "# Type your solution here\n"
      ],
      "execution_count": 0,
      "outputs": []
    },
    {
      "cell_type": "code",
      "metadata": {
        "id": "nXf-Gl_EzcU3",
        "colab_type": "code",
        "colab": {}
      },
      "source": [
        "assert_equals(12, total2(1, 10, 3))\n",
        "assert_equals(22, total2(1, 11, 3))"
      ],
      "execution_count": 0,
      "outputs": []
    },
    {
      "cell_type": "markdown",
      "metadata": {
        "id": "QENDh5pjZ7Jp",
        "colab_type": "text"
      },
      "source": [
        "# Problem 1) `digit_sum_match`\n",
        "\n",
        "Write a function called `digit_sum_match` that takes two arguments, an integer `n` and an integer `target`, that returns `True` if the sum of the digits in `n` is the same as `target`, otherwise returning `False`. "
      ]
    },
    {
      "cell_type": "code",
      "metadata": {
        "id": "oxsGZ2VxaRcY",
        "colab_type": "code",
        "colab": {}
      },
      "source": [
        "# Type your solution here\n"
      ],
      "execution_count": 0,
      "outputs": []
    },
    {
      "cell_type": "code",
      "metadata": {
        "id": "QtFJj0HnaUfq",
        "colab_type": "code",
        "colab": {}
      },
      "source": [
        "# Try simple positive numbers\n",
        "assert_equals(True, digit_sum_match(123, 6))\n",
        "assert_equals(False, digit_sum_match(123, 7))\n",
        "\n",
        "# Test negative numbers\n",
        "assert_equals(True, digit_sum_match(-123, 6))\n",
        "assert_equals(False, digit_sum_match(-123, 7))\n",
        "\n",
        "# Test one digit numbers\n",
        "assert_equals(True, digit_sum_match(1, 1))\n",
        "assert_equals(False, digit_sum_match(2, 1))\n",
        "assert_equals(True, digit_sum_match(0, 0))"
      ],
      "execution_count": 0,
      "outputs": []
    },
    {
      "cell_type": "markdown",
      "metadata": {
        "id": "EFemPAgLvBNA",
        "colab_type": "text"
      },
      "source": [
        "# Problem 2) `factor_sum`\n",
        "\n",
        "Write a function called `factor_sum` that takes an integer argument `n` and returns the sum of all of the factors of `n`. A number is a factor of `n` if it divides `n` with no remainder. If `n` is less than 1, `factor_sum` should return `None`. \n",
        "\n",
        "\n"
      ]
    },
    {
      "cell_type": "code",
      "metadata": {
        "id": "TqcB6PqpvKEt",
        "colab_type": "code",
        "colab": {}
      },
      "source": [
        "# Type your solution here\n"
      ],
      "execution_count": 0,
      "outputs": []
    },
    {
      "cell_type": "code",
      "metadata": {
        "id": "mAnJ3BdsvNX4",
        "colab_type": "code",
        "colab": {}
      },
      "source": [
        "assert_equals(18, factor_sum(10))    # because 1, 2, 5, 10 are factors of 10\n",
        "assert_equals(1, factor_sum(1))      # because 1 is the only factor of 1\n",
        "assert_equals(None, factor_sum(-2))  # None"
      ],
      "execution_count": 0,
      "outputs": []
    },
    {
      "cell_type": "markdown",
      "metadata": {
        "id": "2INo4F6TwDy4",
        "colab_type": "text"
      },
      "source": [
        "# Problem 3) `dna_match_score`\n",
        "\n",
        "Write a function called `dna_match_score` that takes two strings as arguments that represent DNA sequence alignments and returns the score of the alignment. A string of DNA is a string composed of the characters `“A”`, `“C”`, `“G”`, `“T\"`, or `“-”` to represent a gap in the alignment. The two strings will be the same length. You are guaranteed that the strings will be valid DNA alignments and that there won’t be two `“-”` in the same position in both strings. \n",
        "\n",
        "We will use a simplified score function for alignments than what is actually used in practice. All that is needed to do here is add up the scores for each index in the two strings by comparing the characters that appear at the same index in both strings using the following rules:\n",
        "* If both characters match and are one of `“A”`, `“C”`, `“G”`, `“T\"`,  the score is +2.\n",
        "* If both characters are one of `“A”`, `“C”`, `“G”`, `“T\"` but they don’t match, the score is -1.\n",
        "* If one character is one of `“A”`, `“C”`, `“G”`, `“T\"` and the other is a gap “-”, the score is -2.\n",
        "\n",
        "For example, consider that the sequences given are `“-ATGC”` and `“CATGT”`. In order to calculate the score, we need to match up the strings and compute the score for each pair of characters at matching positions between the two strings. The table below shows the score for each index in the strings. \n",
        "\n",
        "| Row Name| Pos 1 | Pos 2 | Pos 3 | Pos 4|Pos 5 |  \n",
        "|-------------------|----------|-----------|-----------|----------|----------|\n",
        "| seq1           | -         | A         | T         | G        | C       |\n",
        "| seq2           | C        | A        | T         | G        | T        |\n",
        "| score          | -2       | + 2     | + 2      | +2      | -1       |\n",
        "\n",
        "At the 0th index, we are matching with a gap so the score is -2. For indices 1, 2, and 3 the scores are +2 for each index as the character A matches to A, T matches to T, and G matches to G. For index 3, we score this match as a -1 as the letters do not match and neither value is a “-”. The score for the overall alignment will come from adding the index scores together so we end up with -2+2+2+2-1 =3.  "
      ]
    },
    {
      "cell_type": "code",
      "metadata": {
        "id": "PhiRm84a9DcM",
        "colab_type": "code",
        "colab": {}
      },
      "source": [
        "# Type your code here\n"
      ],
      "execution_count": 0,
      "outputs": []
    },
    {
      "cell_type": "code",
      "metadata": {
        "id": "RoBm0GFa9gUd",
        "colab_type": "code",
        "colab": {}
      },
      "source": [
        "assert_equals(3, dna_match_score('-ATGC', 'CATGT'))\n",
        "assert_equals(8, dna_match_score('ATGC', 'ATGC'))\n",
        "assert_equals(-2, dna_match_score('-AT', 'C-T'))"
      ],
      "execution_count": 0,
      "outputs": []
    },
    {
      "cell_type": "markdown",
      "metadata": {
        "id": "sQaQMNMMwLHq",
        "colab_type": "text"
      },
      "source": [
        "# Problem 4) `alternate_case`\n",
        "\n",
        "Write a function called `alternate_case` that takes a string `s` as an argument and returns a string that has all the same characters  as `s`, but the case of the characters in even indices should be lowercase  and the characters in odd indices should be uppercase. You can use the `.upper()` and `.lower()` functions on the string objects."
      ]
    },
    {
      "cell_type": "code",
      "metadata": {
        "id": "3tursQO1wiRv",
        "colab_type": "code",
        "colab": {}
      },
      "source": [
        "# Type your solution here\n"
      ],
      "execution_count": 0,
      "outputs": []
    },
    {
      "cell_type": "code",
      "metadata": {
        "id": "06NtvIxbwv2n",
        "colab_type": "code",
        "colab": {}
      },
      "source": [
        "assert_equals('', alternate_case(''))\n",
        "assert_equals('a', alternate_case('a'))\n",
        "assert_equals('a', alternate_case('A'))\n",
        "assert_equals('aB', alternate_case('AB'))\n",
        "assert_equals('hElLoWoRlD', alternate_case('HeLLOWoRLd'))"
      ],
      "execution_count": 0,
      "outputs": []
    },
    {
      "cell_type": "markdown",
      "metadata": {
        "id": "oy8--VR9wqhZ",
        "colab_type": "text"
      },
      "source": [
        "# Additional problems\n",
        "\n",
        "You haven't seen all of the necessary material for the following problems on Thursday, but we will cover the related topics on Friday.  We've included these problems as practice for the homework and for the Friday topics!"
      ]
    },
    {
      "cell_type": "markdown",
      "metadata": {
        "id": "Pm8NTV_uxUB2",
        "colab_type": "text"
      },
      "source": [
        "# Problem 5) `report_long_lines`\n",
        "\n",
        "Write a function called `report_long_lines` that takes a string `file_name` and an integer `length` as arguments, it should print out all of the lines in the file specified by `file_name` that are longer than the given length in the order that they appear in the file. It should also return the number of lines that were longer than the given length. \n",
        "\n",
        "Trailing whitespace should be ignored on all lines by calling the `rstrip` method on each line of the file.\n",
        "\n",
        "You may assume the file name provided describes a file that exists.\n",
        "\n",
        "For this problem, make sure you've run the cell at the beginning to ensure poem.txt is present (otherwise the file will not be found!) You can see the contents of the file by running this first cell below."
      ]
    },
    {
      "cell_type": "code",
      "metadata": {
        "id": "Ds10uMMs1y_Q",
        "colab_type": "code",
        "colab": {}
      },
      "source": [
        "with open('poem.txt') as f:\n",
        "  print(f.read())"
      ],
      "execution_count": 0,
      "outputs": []
    },
    {
      "cell_type": "code",
      "metadata": {
        "id": "CVL7VklJxap7",
        "colab_type": "code",
        "colab": {}
      },
      "source": [
        "# Type your solution here\n"
      ],
      "execution_count": 0,
      "outputs": []
    },
    {
      "cell_type": "code",
      "metadata": {
        "id": "Kkp7m-Sqy040",
        "colab_type": "code",
        "colab": {}
      },
      "source": [
        "# You also have to check that the output looks right\n",
        "assert_equals(10, report_long_lines('poem.txt', 8))"
      ],
      "execution_count": 0,
      "outputs": []
    },
    {
      "cell_type": "markdown",
      "metadata": {
        "id": "S0zj8okZ25m5",
        "colab_type": "text"
      },
      "source": [
        "# Problem 6) `max_words`\n",
        "\n",
        "Write a function called `max_words` that takes a string `file_name` as an argument and that returns the most number of words that appear on any line. A word is defined as a series of characters separated by whitespace. You may assume the file name provided describes a file that exists. If the file is empty, it should return `None`.\n",
        "\n",
        "For example, the poem.txt file the line with the most words is `\"is how all the\"` so  the function should return 4 for poem.txt .\n",
        "\n",
        "You may assume the file name provided describes a file that exists.\n",
        "\n",
        "For this problem, make sure you've run the cell at the beginning to ensure poem.txt is present (otherwise the file will not be found!) You can see the contents of the file by running this first cell below."
      ]
    },
    {
      "cell_type": "code",
      "metadata": {
        "id": "_Voym96O4_6N",
        "colab_type": "code",
        "colab": {}
      },
      "source": [
        "with open('poem.txt') as f:\n",
        "  print(f.read())"
      ],
      "execution_count": 0,
      "outputs": []
    },
    {
      "cell_type": "code",
      "metadata": {
        "id": "GUyrtoJ_3Ag7",
        "colab_type": "code",
        "colab": {}
      },
      "source": [
        "# Type your solution here\n"
      ],
      "execution_count": 0,
      "outputs": []
    },
    {
      "cell_type": "code",
      "metadata": {
        "id": "7XfalDrp3toG",
        "colab_type": "code",
        "colab": {}
      },
      "source": [
        "assert_equals(4, max_words('poem.txt'))"
      ],
      "execution_count": 0,
      "outputs": []
    },
    {
      "cell_type": "markdown",
      "metadata": {
        "id": "fH4iHZCi-SvP",
        "colab_type": "text"
      },
      "source": [
        "# Problem 7) `filter_digits`\n",
        "\n",
        "Write a function called `filter_digits` that takes an integer `n` and an integer `minimum` as arguments and prints out all the possible digit values (0-9) that appear at least `minimum` times in `n`. To receive full credit, the solution must not use nested loops or recursion (it’s okay to not know what that means) and must use fewer than 4 `if/elif/else` statements. \n",
        "\n",
        "We can't auto-check your output, so you'll have to inspect by hand. Each digit value should be printed on its own line with slashes in between lines, but in the comments below we show it all in one line for brevity."
      ]
    },
    {
      "cell_type": "code",
      "metadata": {
        "id": "IqXgSqJ7_A1K",
        "colab_type": "code",
        "colab": {}
      },
      "source": [
        "# Type your solution here\n"
      ],
      "execution_count": 0,
      "outputs": []
    },
    {
      "cell_type": "code",
      "metadata": {
        "id": "m3Tce2pGA2fY",
        "colab_type": "code",
        "colab": {}
      },
      "source": [
        "filter_digits(1233, 2)     # prints: 3\n",
        "print()\n",
        "filter_digits(-121312, 1)  # prints: 1 / 2 / 3\n",
        "print()\n",
        "filter_digits(0, 2)        # prints nothing\n"
      ],
      "execution_count": 0,
      "outputs": []
    }
  ]
}